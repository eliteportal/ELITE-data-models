{
 "cells": [
  {
   "cell_type": "code",
   "execution_count": null,
   "metadata": {},
   "outputs": [],
   "source": [
    "import logging\n",
    "import subprocess\n",
    "from tqdm import tqdm\n",
    "import pandas as pd\n",
    "import yaml\n",
    "import os\n",
    "from pathlib import Path\n",
    "import re\n",
    "\n",
    "cwd = Path(os.getcwd())\n",
    "\n",
    "root_dir_name = \"ELITE-data-models\"\n",
    "for p in cwd.parents:\n",
    "    if bool(re.search(root_dir_name + \"$\", str(p))):\n",
    "        print(p)\n",
    "        ROOT_DIR = p"
   ]
  },
  {
   "cell_type": "markdown",
   "metadata": {},
   "source": [
    "## Get manifest names to generate manifests"
   ]
  },
  {
   "cell_type": "code",
   "execution_count": 4,
   "metadata": {},
   "outputs": [],
   "source": [
    "import json\n",
    "\n",
    "with open(Path(ROOT_DIR, 'EL.data.model.jsonld'), \"r\") as jf:\n",
    "    jo = json.load(jf)"
   ]
  },
  {
   "cell_type": "code",
   "execution_count": 5,
   "metadata": {},
   "outputs": [
    {
     "data": {
      "text/html": [
       "<div>\n",
       "<style scoped>\n",
       "    .dataframe tbody tr th:only-of-type {\n",
       "        vertical-align: middle;\n",
       "    }\n",
       "\n",
       "    .dataframe tbody tr th {\n",
       "        vertical-align: top;\n",
       "    }\n",
       "\n",
       "    .dataframe thead th {\n",
       "        text-align: right;\n",
       "    }\n",
       "</style>\n",
       "<table border=\"1\" class=\"dataframe\">\n",
       "  <thead>\n",
       "    <tr style=\"text-align: right;\">\n",
       "      <th></th>\n",
       "      <th>label</th>\n",
       "      <th>displayName</th>\n",
       "    </tr>\n",
       "  </thead>\n",
       "  <tbody>\n",
       "    <tr>\n",
       "      <th>0</th>\n",
       "      <td>Genotyping</td>\n",
       "      <td>genotyping</td>\n",
       "    </tr>\n",
       "    <tr>\n",
       "      <th>1</th>\n",
       "      <td>Biospecimenhuman</td>\n",
       "      <td>Biospecimen human</td>\n",
       "    </tr>\n",
       "    <tr>\n",
       "      <th>2</th>\n",
       "      <td>BiospecimennonHuman</td>\n",
       "      <td>Biospecimen nonHuman</td>\n",
       "    </tr>\n",
       "    <tr>\n",
       "      <th>3</th>\n",
       "      <td>BsSeq</td>\n",
       "      <td>bsSeq</td>\n",
       "    </tr>\n",
       "    <tr>\n",
       "      <th>4</th>\n",
       "      <td>Metabolomics</td>\n",
       "      <td>Metabolomics</td>\n",
       "    </tr>\n",
       "    <tr>\n",
       "      <th>5</th>\n",
       "      <td>Proteomics</td>\n",
       "      <td>proteomics</td>\n",
       "    </tr>\n",
       "    <tr>\n",
       "      <th>6</th>\n",
       "      <td>FileAnnotationTemplate</td>\n",
       "      <td>file_annotation_template</td>\n",
       "    </tr>\n",
       "    <tr>\n",
       "      <th>7</th>\n",
       "      <td>IndividualHuman</td>\n",
       "      <td>Individual Human</td>\n",
       "    </tr>\n",
       "    <tr>\n",
       "      <th>8</th>\n",
       "      <td>IndividualnonHuman</td>\n",
       "      <td>Individual nonHuman</td>\n",
       "    </tr>\n",
       "    <tr>\n",
       "      <th>9</th>\n",
       "      <td>Microbiome</td>\n",
       "      <td>Microbiome</td>\n",
       "    </tr>\n",
       "    <tr>\n",
       "      <th>10</th>\n",
       "      <td>RNAseq</td>\n",
       "      <td>RNAseq</td>\n",
       "    </tr>\n",
       "    <tr>\n",
       "      <th>11</th>\n",
       "      <td>ScRNAseq</td>\n",
       "      <td>scRNAseq</td>\n",
       "    </tr>\n",
       "    <tr>\n",
       "      <th>12</th>\n",
       "      <td>WholeGenomeSequencing</td>\n",
       "      <td>Whole Genome Sequencing</td>\n",
       "    </tr>\n",
       "  </tbody>\n",
       "</table>\n",
       "</div>"
      ],
      "text/plain": [
       "                     label               displayName\n",
       "0               Genotyping                genotyping\n",
       "1         Biospecimenhuman         Biospecimen human\n",
       "2      BiospecimennonHuman      Biospecimen nonHuman\n",
       "3                    BsSeq                     bsSeq\n",
       "4             Metabolomics              Metabolomics\n",
       "5               Proteomics                proteomics\n",
       "6   FileAnnotationTemplate  file_annotation_template\n",
       "7          IndividualHuman          Individual Human\n",
       "8       IndividualnonHuman       Individual nonHuman\n",
       "9               Microbiome                Microbiome\n",
       "10                  RNAseq                    RNAseq\n",
       "11                ScRNAseq                  scRNAseq\n",
       "12   WholeGenomeSequencing   Whole Genome Sequencing"
      ]
     },
     "execution_count": 5,
     "metadata": {},
     "output_type": "execute_result"
    }
   ],
   "source": [
    "# Manifest names in data model\n",
    "# find templates\n",
    "\n",
    "templates = []\n",
    "\n",
    "for i in jo[\"@graph\"]:\n",
    "    try: \n",
    "        for subclasses in i['rdfs:subClassOf']: \n",
    "            if bool(\n",
    "                re.search(\n",
    "                    \"Component\", \",\".join(subclasses.values()), flags=re.IGNORECASE\n",
    "                )\n",
    "            ):\n",
    "                templates += [\n",
    "                    {\"label\": i[\"rdfs:label\"], \"displayName\": i[\"sms:displayName\"]}\n",
    "                ]\n",
    "\n",
    "    except: \n",
    "        pass \n",
    "\n",
    "templates_df = pd.DataFrame.from_records(templates)\n",
    "\n",
    "templates_df"
   ]
  },
  {
   "cell_type": "code",
   "execution_count": 7,
   "metadata": {},
   "outputs": [],
   "source": [
    "# # Template configuration\n",
    "# def manifest_template(k, v, t=\"file\"):\n",
    "#     manifest_template = {\"display_name\": v, \"schema_name\": k, \"type\": t}\n",
    "#     return manifest_template\n",
    "\n",
    "\n",
    "# dca_template = {\n",
    "#     \"manifest_schemas\": [],\n",
    "#     \"service_version\": \"v23.1.1\",\n",
    "#     \"schema_version\": \"v1.2\",\n",
    "# }\n",
    "\n",
    "# records = [\n",
    "#     \"IndividualHuman\",\n",
    "#     \"IndividualnonHuman\",\n",
    "#     \"Biospecimenhuman\",\n",
    "#     \"BiospecimennonHuman\",\n",
    "# ]\n",
    "\n",
    "\n",
    "# for k, v in manifest_name_relationships.items():\n",
    "#     if k in records:\n",
    "#         t = \"records\"\n",
    "#     else:\n",
    "#         t = \"file\"\n",
    "#     dca_template[\"manifest_schemas\"].append(manifest_template(k, v, t))\n",
    "\n",
    "# json_formatted_str = json.dumps(dca_template, indent=2)\n",
    "# print(json_formatted_str)\n",
    "\n",
    "# with open(\n",
    "#     \"../_data/dca_template.json\",\n",
    "#     \"w\",\n",
    "# ) as f:\n",
    "#     f.write(json_formatted_str)"
   ]
  },
  {
   "cell_type": "markdown",
   "metadata": {},
   "source": [
    "## Generate Manifests\n"
   ]
  },
  {
   "cell_type": "code",
   "execution_count": 29,
   "metadata": {},
   "outputs": [],
   "source": [
    "from datetime import datetime\n",
    "timestamp = datetime.now().strftime(\"%Y-%m-%d\")"
   ]
  },
  {
   "cell_type": "code",
   "execution_count": 44,
   "metadata": {},
   "outputs": [],
   "source": [
    "# create logger for reports\n",
    "with open(Path(ROOT_DIR, '_logs', 'logging.yaml'), 'r', encoding = 'UTF-8') as f: \n",
    "    yaml_config = yaml.safe_load(f)\n",
    "    logging.config.dictConfig(yaml_config)\n",
    "\n",
    "# Get logger\n",
    "logger = logging.getLogger(\"default\")"
   ]
  },
  {
   "cell_type": "code",
   "execution_count": 53,
   "metadata": {},
   "outputs": [],
   "source": [
    "fh = logging.FileHandler(filename=Path(ROOT_DIR, 'tests', 'logs', timestamp + '_manifest_generation.log'))\n",
    "fh.setFormatter(logger.handlers[0].__dict__[\"formatter\"])\n",
    "logger.addHandler(fh)"
   ]
  },
  {
   "cell_type": "code",
   "execution_count": 54,
   "metadata": {},
   "outputs": [
    {
     "data": {
      "text/plain": [
       "{'filters': [],\n",
       " 'name': 'default',\n",
       " 'level': 10,\n",
       " 'parent': <RootLogger root (DEBUG)>,\n",
       " 'propagate': True,\n",
       " 'handlers': [<StreamHandler stdout (DEBUG)>,\n",
       "  <FileHandler /Users/nlee/Documents/Projects/ELITE/ELITE-data-models/tests/logs/2024-04-10_manifest_generation.log (NOTSET)>],\n",
       " 'disabled': False,\n",
       " '_cache': {},\n",
       " 'manager': <logging.Manager at 0x101492c80>}"
      ]
     },
     "execution_count": 54,
     "metadata": {},
     "output_type": "execute_result"
    }
   ],
   "source": [
    "logger.__dict__"
   ]
  },
  {
   "cell_type": "code",
   "execution_count": 55,
   "metadata": {},
   "outputs": [
    {
     "name": "stderr",
     "output_type": "stream",
     "text": [
      "  0%|          | 0/13 [00:00<?, ?it/s]"
     ]
    },
    {
     "name": "stdout",
     "output_type": "stream",
     "text": [
      "Running command for Genotyping\n",
      "Waiting...\n",
      "2024-04-10 16:48:54,676 - default - INFO - Genotyping has PASSED\n",
      "2024-04-10 16:48:54,676 - default - INFO - Genotyping has PASSED\n"
     ]
    },
    {
     "name": "stderr",
     "output_type": "stream",
     "text": [
      "  8%|▊         | 1/13 [00:29<05:52, 29.37s/it]"
     ]
    },
    {
     "name": "stdout",
     "output_type": "stream",
     "text": [
      "Finished process\n",
      "--------------------\n",
      "Running command for Biospecimenhuman\n",
      "Waiting...\n",
      "2024-04-10 16:49:23,139 - default - INFO - Biospecimenhuman has PASSED\n",
      "2024-04-10 16:49:23,139 - default - INFO - Biospecimenhuman has PASSED\n"
     ]
    },
    {
     "name": "stderr",
     "output_type": "stream",
     "text": [
      " 15%|█▌        | 2/13 [00:57<05:17, 28.84s/it]"
     ]
    },
    {
     "name": "stdout",
     "output_type": "stream",
     "text": [
      "Finished process\n",
      "--------------------\n",
      "Running command for BiospecimennonHuman\n",
      "Waiting...\n",
      "2024-04-10 16:49:55,438 - default - INFO - BiospecimennonHuman has PASSED\n",
      "2024-04-10 16:49:55,438 - default - INFO - BiospecimennonHuman has PASSED\n"
     ]
    },
    {
     "name": "stderr",
     "output_type": "stream",
     "text": [
      " 23%|██▎       | 3/13 [01:30<05:04, 30.42s/it]"
     ]
    },
    {
     "name": "stdout",
     "output_type": "stream",
     "text": [
      "Finished process\n",
      "--------------------\n",
      "Running command for BsSeq\n",
      "Waiting...\n",
      "2024-04-10 16:50:26,233 - default - INFO - BsSeq has PASSED\n",
      "2024-04-10 16:50:26,233 - default - INFO - BsSeq has PASSED\n"
     ]
    },
    {
     "name": "stderr",
     "output_type": "stream",
     "text": [
      " 31%|███       | 4/13 [02:00<04:35, 30.57s/it]"
     ]
    },
    {
     "name": "stdout",
     "output_type": "stream",
     "text": [
      "Finished process\n",
      "--------------------\n",
      "Running command for Metabolomics\n",
      "Waiting...\n",
      "2024-04-10 16:51:02,793 - default - INFO - Metabolomics has PASSED\n",
      "2024-04-10 16:51:02,793 - default - INFO - Metabolomics has PASSED\n"
     ]
    },
    {
     "name": "stderr",
     "output_type": "stream",
     "text": [
      " 38%|███▊      | 5/13 [02:37<04:21, 32.73s/it]"
     ]
    },
    {
     "name": "stdout",
     "output_type": "stream",
     "text": [
      "Finished process\n",
      "--------------------\n",
      "Running command for Proteomics\n",
      "Waiting...\n",
      "2024-04-10 16:51:38,228 - default - INFO - Proteomics has PASSED\n",
      "2024-04-10 16:51:38,228 - default - INFO - Proteomics has PASSED\n"
     ]
    },
    {
     "name": "stderr",
     "output_type": "stream",
     "text": [
      " 46%|████▌     | 6/13 [03:12<03:55, 33.65s/it]"
     ]
    },
    {
     "name": "stdout",
     "output_type": "stream",
     "text": [
      "Finished process\n",
      "--------------------\n",
      "Running command for FileAnnotationTemplate\n",
      "Waiting...\n",
      "2024-04-10 16:52:28,925 - default - INFO - FileAnnotationTemplate has PASSED\n",
      "2024-04-10 16:52:28,925 - default - INFO - FileAnnotationTemplate has PASSED\n"
     ]
    },
    {
     "name": "stderr",
     "output_type": "stream",
     "text": [
      " 54%|█████▍    | 7/13 [04:03<03:55, 39.22s/it]"
     ]
    },
    {
     "name": "stdout",
     "output_type": "stream",
     "text": [
      "Finished process\n",
      "--------------------\n",
      "Running command for IndividualHuman\n",
      "Waiting...\n",
      "2024-04-10 16:52:57,995 - default - INFO - IndividualHuman has PASSED\n",
      "2024-04-10 16:52:57,995 - default - INFO - IndividualHuman has PASSED\n"
     ]
    },
    {
     "name": "stderr",
     "output_type": "stream",
     "text": [
      " 62%|██████▏   | 8/13 [04:32<02:59, 35.99s/it]"
     ]
    },
    {
     "name": "stdout",
     "output_type": "stream",
     "text": [
      "Finished process\n",
      "--------------------\n",
      "Running command for IndividualnonHuman\n",
      "Waiting...\n",
      "2024-04-10 16:53:26,356 - default - INFO - IndividualnonHuman has PASSED\n",
      "2024-04-10 16:53:26,356 - default - INFO - IndividualnonHuman has PASSED\n"
     ]
    },
    {
     "name": "stderr",
     "output_type": "stream",
     "text": [
      " 69%|██████▉   | 9/13 [05:01<02:14, 33.61s/it]"
     ]
    },
    {
     "name": "stdout",
     "output_type": "stream",
     "text": [
      "Finished process\n",
      "--------------------\n",
      "Running command for Microbiome\n",
      "Waiting...\n",
      "2024-04-10 16:53:56,236 - default - INFO - Microbiome has PASSED\n",
      "2024-04-10 16:53:56,236 - default - INFO - Microbiome has PASSED\n"
     ]
    },
    {
     "name": "stderr",
     "output_type": "stream",
     "text": [
      " 77%|███████▋  | 10/13 [05:30<01:37, 32.45s/it]"
     ]
    },
    {
     "name": "stdout",
     "output_type": "stream",
     "text": [
      "Finished process\n",
      "--------------------\n",
      "Running command for RNAseq\n",
      "Waiting...\n",
      "2024-04-10 16:54:27,186 - default - INFO - RNAseq has PASSED\n",
      "2024-04-10 16:54:27,186 - default - INFO - RNAseq has PASSED\n"
     ]
    },
    {
     "name": "stderr",
     "output_type": "stream",
     "text": [
      " 85%|████████▍ | 11/13 [06:01<01:03, 31.99s/it]"
     ]
    },
    {
     "name": "stdout",
     "output_type": "stream",
     "text": [
      "Finished process\n",
      "--------------------\n",
      "Running command for ScRNAseq\n",
      "Waiting...\n",
      "2024-04-10 16:54:58,084 - default - INFO - ScRNAseq has PASSED\n",
      "2024-04-10 16:54:58,084 - default - INFO - ScRNAseq has PASSED\n"
     ]
    },
    {
     "name": "stderr",
     "output_type": "stream",
     "text": [
      " 92%|█████████▏| 12/13 [06:32<00:31, 31.66s/it]"
     ]
    },
    {
     "name": "stdout",
     "output_type": "stream",
     "text": [
      "Finished process\n",
      "--------------------\n",
      "Running command for WholeGenomeSequencing\n",
      "Waiting...\n",
      "2024-04-10 16:55:31,801 - default - INFO - WholeGenomeSequencing has PASSED\n",
      "2024-04-10 16:55:31,801 - default - INFO - WholeGenomeSequencing has PASSED\n"
     ]
    },
    {
     "name": "stderr",
     "output_type": "stream",
     "text": [
      "100%|██████████| 13/13 [07:06<00:00, 32.81s/it]"
     ]
    },
    {
     "name": "stdout",
     "output_type": "stream",
     "text": [
      "Finished process\n",
      "--------------------\n"
     ]
    },
    {
     "name": "stderr",
     "output_type": "stream",
     "text": [
      "\n"
     ]
    },
    {
     "data": {
      "text/plain": [
       "[{'template_name': 'Genotyping', 'generation_test': True},\n",
       " {'template_name': 'Biospecimenhuman', 'generation_test': True},\n",
       " {'template_name': 'BiospecimennonHuman', 'generation_test': True},\n",
       " {'template_name': 'BsSeq', 'generation_test': True},\n",
       " {'template_name': 'Metabolomics', 'generation_test': True},\n",
       " {'template_name': 'Proteomics', 'generation_test': True},\n",
       " {'template_name': 'FileAnnotationTemplate', 'generation_test': True},\n",
       " {'template_name': 'IndividualHuman', 'generation_test': True},\n",
       " {'template_name': 'IndividualnonHuman', 'generation_test': True},\n",
       " {'template_name': 'Microbiome', 'generation_test': True},\n",
       " {'template_name': 'RNAseq', 'generation_test': True},\n",
       " {'template_name': 'ScRNAseq', 'generation_test': True},\n",
       " {'template_name': 'WholeGenomeSequencing', 'generation_test': True}]"
      ]
     },
     "execution_count": 55,
     "metadata": {},
     "output_type": "execute_result"
    }
   ],
   "source": [
    "manifest_generation_results = []\n",
    "\n",
    "for t in tqdm(templates_df['label'], total = len(templates_df['label']), miniters=1):\n",
    "    result_temp = {\"template_name\": t}\n",
    "\n",
    "    command = f\"\"\" schematic manifest --config config.yml get -dt {t} -s\"\"\"\n",
    "\n",
    "    logger.info(f'Running command for {t}')\n",
    "    proc = subprocess.Popen(\n",
    "        command,\n",
    "        cwd=ROOT_DIR,\n",
    "        shell=True,\n",
    "        stdout=subprocess.PIPE,\n",
    "        stderr=subprocess.PIPE,\n",
    "        text=True,\n",
    "    )\n",
    "\n",
    "    stdout, stderr = proc.communicate()\n",
    "\n",
    "    try: \n",
    "        for l in stdout.readlines():\n",
    "            logger.info(l)\n",
    "\n",
    "        for l in stderr.readlines(): \n",
    "            logger.debug(l)\n",
    "    except: \n",
    "        pass # just move on\n",
    "\n",
    "    if proc.returncode == 0: \n",
    "        test_result = True\n",
    "        logger.info(f\"{t} has PASSED\")\n",
    "\n",
    "    else: \n",
    "        test_result = False\n",
    "        logger.debug(command)\n",
    "        logger.debug(f\"{t} has FAILED\")\n",
    "\n",
    "    result_temp['generation_test'] = test_result\n",
    "\n",
    "    manifest_generation_results += [result_temp]\n",
    "\n",
    "manifest_generation_results"
   ]
  },
  {
   "cell_type": "code",
   "execution_count": 56,
   "metadata": {},
   "outputs": [],
   "source": [
    "manifest_generation_results = pd.DataFrame(manifest_generation_results)"
   ]
  },
  {
   "cell_type": "code",
   "execution_count": 57,
   "metadata": {},
   "outputs": [
    {
     "data": {
      "text/html": [
       "<div>\n",
       "<style scoped>\n",
       "    .dataframe tbody tr th:only-of-type {\n",
       "        vertical-align: middle;\n",
       "    }\n",
       "\n",
       "    .dataframe tbody tr th {\n",
       "        vertical-align: top;\n",
       "    }\n",
       "\n",
       "    .dataframe thead th {\n",
       "        text-align: right;\n",
       "    }\n",
       "</style>\n",
       "<table border=\"1\" class=\"dataframe\">\n",
       "  <thead>\n",
       "    <tr style=\"text-align: right;\">\n",
       "      <th></th>\n",
       "      <th>template_name</th>\n",
       "      <th>generation_test</th>\n",
       "    </tr>\n",
       "  </thead>\n",
       "  <tbody>\n",
       "    <tr>\n",
       "      <th>0</th>\n",
       "      <td>Genotyping</td>\n",
       "      <td>True</td>\n",
       "    </tr>\n",
       "    <tr>\n",
       "      <th>1</th>\n",
       "      <td>Biospecimenhuman</td>\n",
       "      <td>True</td>\n",
       "    </tr>\n",
       "    <tr>\n",
       "      <th>2</th>\n",
       "      <td>BiospecimennonHuman</td>\n",
       "      <td>True</td>\n",
       "    </tr>\n",
       "    <tr>\n",
       "      <th>3</th>\n",
       "      <td>BsSeq</td>\n",
       "      <td>True</td>\n",
       "    </tr>\n",
       "    <tr>\n",
       "      <th>4</th>\n",
       "      <td>Metabolomics</td>\n",
       "      <td>True</td>\n",
       "    </tr>\n",
       "    <tr>\n",
       "      <th>5</th>\n",
       "      <td>Proteomics</td>\n",
       "      <td>True</td>\n",
       "    </tr>\n",
       "    <tr>\n",
       "      <th>6</th>\n",
       "      <td>FileAnnotationTemplate</td>\n",
       "      <td>True</td>\n",
       "    </tr>\n",
       "    <tr>\n",
       "      <th>7</th>\n",
       "      <td>IndividualHuman</td>\n",
       "      <td>True</td>\n",
       "    </tr>\n",
       "    <tr>\n",
       "      <th>8</th>\n",
       "      <td>IndividualnonHuman</td>\n",
       "      <td>True</td>\n",
       "    </tr>\n",
       "    <tr>\n",
       "      <th>9</th>\n",
       "      <td>Microbiome</td>\n",
       "      <td>True</td>\n",
       "    </tr>\n",
       "    <tr>\n",
       "      <th>10</th>\n",
       "      <td>RNAseq</td>\n",
       "      <td>True</td>\n",
       "    </tr>\n",
       "    <tr>\n",
       "      <th>11</th>\n",
       "      <td>ScRNAseq</td>\n",
       "      <td>True</td>\n",
       "    </tr>\n",
       "    <tr>\n",
       "      <th>12</th>\n",
       "      <td>WholeGenomeSequencing</td>\n",
       "      <td>True</td>\n",
       "    </tr>\n",
       "  </tbody>\n",
       "</table>\n",
       "</div>"
      ],
      "text/plain": [
       "             template_name  generation_test\n",
       "0               Genotyping             True\n",
       "1         Biospecimenhuman             True\n",
       "2      BiospecimennonHuman             True\n",
       "3                    BsSeq             True\n",
       "4             Metabolomics             True\n",
       "5               Proteomics             True\n",
       "6   FileAnnotationTemplate             True\n",
       "7          IndividualHuman             True\n",
       "8       IndividualnonHuman             True\n",
       "9               Microbiome             True\n",
       "10                  RNAseq             True\n",
       "11                ScRNAseq             True\n",
       "12   WholeGenomeSequencing             True"
      ]
     },
     "execution_count": 57,
     "metadata": {},
     "output_type": "execute_result"
    }
   ],
   "source": [
    "manifest_generation_results"
   ]
  },
  {
   "cell_type": "code",
   "execution_count": 58,
   "metadata": {},
   "outputs": [],
   "source": [
    "    manifest_generation_results.to_csv(\n",
    "        Path(ROOT_DIR, \"tests\", 'manifest-templates', timestamp + \"_manifest_generation_results.csv\", index = False)\n",
    "    )"
   ]
  },
  {
   "cell_type": "code",
   "execution_count": null,
   "metadata": {},
   "outputs": [],
   "source": [
    "# load current DCA config\n",
    "with open(Path(ROOT_DIR, \"dca-template-config.json\"), \"r\", encoding=\"UTF-8\") as f:\n",
    "    dca_template_config = json.load(f)\n",
    "\n",
    "print(json.dumps(dca_template_config, indent=2))"
   ]
  },
  {
   "cell_type": "code",
   "execution_count": null,
   "metadata": {},
   "outputs": [],
   "source": [
    "# check against new data model"
   ]
  }
 ],
 "metadata": {
  "kernelspec": {
   "display_name": "elite-data-models-LjmgyG4K-py3.10",
   "language": "python",
   "name": "python3"
  },
  "language_info": {
   "codemirror_mode": {
    "name": "ipython",
    "version": 3
   },
   "file_extension": ".py",
   "mimetype": "text/x-python",
   "name": "python",
   "nbconvert_exporter": "python",
   "pygments_lexer": "ipython3",
   "version": "3.10.13"
  },
  "orig_nbformat": 4
 },
 "nbformat": 4,
 "nbformat_minor": 2
}
