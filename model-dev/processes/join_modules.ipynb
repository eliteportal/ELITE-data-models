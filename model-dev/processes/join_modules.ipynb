{
 "cells": [
  {
   "cell_type": "code",
   "execution_count": 14,
   "metadata": {},
   "outputs": [
    {
     "name": "stdout",
     "output_type": "stream",
     "text": [
      "Successfully joined modules. \n",
      " Creating data model at ../EL.data.model.csv\n"
     ]
    }
   ],
   "source": [
    "from glob import glob\n",
    "import pandas as pd\n",
    "\n",
    "modules = glob(\"../modules/*.csv\")\n",
    "modules\n",
    "modules_df = []\n",
    "\n",
    "for m in modules:\n",
    "    temp_df = pd.read_csv(m)\n",
    "    temp_df = temp_df.drop(columns=[\"Unnamed: 0\"], errors=\"ignore\")\n",
    "    modules_df.append(temp_df)\n",
    "\n",
    "full_model = pd.concat(modules_df)\n",
    "\n",
    "dups = full_model.duplicated(subset=\"Attribute\").sum()\n",
    "\n",
    "model_path = \"../../EL.data.model.csv\"\n",
    "\n",
    "if dups > 0:\n",
    "    print(\n",
    "        f\"{dups} duplicates found in the data model. Check attributes to remove. All Attributes must be unique\"\n",
    "    )\n",
    "else:\n",
    "    print(f\"Successfully joined modules. \\n Creating data model at {model_path}\")\n",
    "    full_model.to_csv(model_path, index=False)"
   ]
  },
  {
   "cell_type": "code",
   "execution_count": 6,
   "metadata": {},
   "outputs": [
    {
     "data": {
      "text/html": [
       "<div>\n",
       "<style scoped>\n",
       "    .dataframe tbody tr th:only-of-type {\n",
       "        vertical-align: middle;\n",
       "    }\n",
       "\n",
       "    .dataframe tbody tr th {\n",
       "        vertical-align: top;\n",
       "    }\n",
       "\n",
       "    .dataframe thead th {\n",
       "        text-align: right;\n",
       "    }\n",
       "</style>\n",
       "<table border=\"1\" class=\"dataframe\">\n",
       "  <thead>\n",
       "    <tr style=\"text-align: right;\">\n",
       "      <th></th>\n",
       "      <th>Attribute</th>\n",
       "      <th>Description</th>\n",
       "      <th>Valid Values</th>\n",
       "      <th>DependsOn</th>\n",
       "      <th>Properties</th>\n",
       "      <th>Required</th>\n",
       "      <th>Parent</th>\n",
       "      <th>DependsOn Component</th>\n",
       "      <th>Source</th>\n",
       "      <th>Validation Rules</th>\n",
       "      <th>Module</th>\n",
       "      <th>Ontology</th>\n",
       "      <th>UsedIn</th>\n",
       "      <th>columnType</th>\n",
       "    </tr>\n",
       "  </thead>\n",
       "  <tbody>\n",
       "  </tbody>\n",
       "</table>\n",
       "</div>"
      ],
      "text/plain": [
       "Empty DataFrame\n",
       "Columns: [Attribute, Description, Valid Values, DependsOn, Properties, Required, Parent, DependsOn Component, Source, Validation Rules, Module, Ontology, UsedIn, columnType]\n",
       "Index: []"
      ]
     },
     "execution_count": 6,
     "metadata": {},
     "output_type": "execute_result"
    }
   ],
   "source": [
    "full_model.loc[full_model.duplicated(subset = 'Attribute', keep=False), ].sort_values('Attribute')"
   ]
  },
  {
   "cell_type": "code",
   "execution_count": 9,
   "metadata": {},
   "outputs": [
    {
     "data": {
      "text/plain": [
       "array(['Instrument', 'Template', 'Analysis', 'ValidValues', 'Assay',\n",
       "       'Other', 'Project', 'Ontology', 'Repository', 'SampleType',\n",
       "       'Unspecified', 'Unit', 'Metadata', 'Model Organism',\n",
       "       'BaseAnnotation'], dtype=object)"
      ]
     },
     "execution_count": 9,
     "metadata": {},
     "output_type": "execute_result"
    }
   ],
   "source": [
    "full_model.Module.unique()"
   ]
  },
  {
   "cell_type": "code",
   "execution_count": null,
   "metadata": {},
   "outputs": [],
   "source": [
    "# add new values\n",
    "new_attrs_df = dm[\"DependsOn\"].str.split(',').explode().dropna()\n",
    "new_attrs_df = pd.DataFrame(new_attrs_df)\n",
    "new_attrs_df['UsedIn'] = new_attrs_df.index\n",
    "\n",
    "# use the old depends on as the new attributes\n",
    "new_attrs_df = new_attrs_df.groupby(\"DependsOn\").agg(lambda x: \",\".join(np.unique(x)))\n",
    "new_attrs_df.index.name = \"Attribute\"\n",
    "\n",
    "print(new_attrs_df.index.is_unique)\n",
    "new_attrs_df.head()\n",
    "\n",
    "# remove existing values\n",
    "new_attrs_df = new_attrs_df[~new_attrs_df.index.isin(dm.index)]\n",
    "new_attrs_df.shape"
   ]
  },
  {
   "cell_type": "code",
   "execution_count": null,
   "metadata": {},
   "outputs": [
    {
     "name": "stdout",
     "output_type": "stream",
     "text": [
      "Supposed new shape [238  16]\n"
     ]
    }
   ],
   "source": [
    "print('Supposed new shape:', np.array(new_attrs_df.shape) + np.array(dm.shape))"
   ]
  },
  {
   "cell_type": "code",
   "execution_count": null,
   "metadata": {},
   "outputs": [
    {
     "name": "stdout",
     "output_type": "stream",
     "text": [
      "(238, 15)\n"
     ]
    },
    {
     "data": {
      "text/html": [
       "<div>\n",
       "<style scoped>\n",
       "    .dataframe tbody tr th:only-of-type {\n",
       "        vertical-align: middle;\n",
       "    }\n",
       "\n",
       "    .dataframe tbody tr th {\n",
       "        vertical-align: top;\n",
       "    }\n",
       "\n",
       "    .dataframe thead th {\n",
       "        text-align: right;\n",
       "    }\n",
       "</style>\n",
       "<table border=\"1\" class=\"dataframe\">\n",
       "  <thead>\n",
       "    <tr style=\"text-align: right;\">\n",
       "      <th></th>\n",
       "      <th>Description</th>\n",
       "      <th>Valid Values</th>\n",
       "      <th>DependsOn</th>\n",
       "      <th>DependsOn Component</th>\n",
       "      <th>Required</th>\n",
       "      <th>Parent</th>\n",
       "      <th>Validation Rules</th>\n",
       "      <th>Properties</th>\n",
       "      <th>Source</th>\n",
       "      <th>module</th>\n",
       "      <th>multivalue</th>\n",
       "      <th>columnType</th>\n",
       "      <th>Ontology</th>\n",
       "      <th>Notes</th>\n",
       "      <th>UsedIn</th>\n",
       "    </tr>\n",
       "    <tr>\n",
       "      <th>Attribute</th>\n",
       "      <th></th>\n",
       "      <th></th>\n",
       "      <th></th>\n",
       "      <th></th>\n",
       "      <th></th>\n",
       "      <th></th>\n",
       "      <th></th>\n",
       "      <th></th>\n",
       "      <th></th>\n",
       "      <th></th>\n",
       "      <th></th>\n",
       "      <th></th>\n",
       "      <th></th>\n",
       "      <th></th>\n",
       "      <th></th>\n",
       "    </tr>\n",
       "  </thead>\n",
       "  <tbody>\n",
       "    <tr>\n",
       "      <th>acquisitionBatchID</th>\n",
       "      <td>Acquisition batch identifier, provided by the ...</td>\n",
       "      <td>NaN</td>\n",
       "      <td>NaN</td>\n",
       "      <td>NaN</td>\n",
       "      <td>False</td>\n",
       "      <td>ManifestColumn</td>\n",
       "      <td>NaN</td>\n",
       "      <td>ManifestColumn</td>\n",
       "      <td>NaN</td>\n",
       "      <td>ManifestColumn</td>\n",
       "      <td>False</td>\n",
       "      <td>STRING</td>\n",
       "      <td>Sage Bionetworks</td>\n",
       "      <td></td>\n",
       "      <td>Metabolomics</td>\n",
       "    </tr>\n",
       "    <tr>\n",
       "      <th>acquisitionBatchSize</th>\n",
       "      <td>The number of samples</td>\n",
       "      <td>NaN</td>\n",
       "      <td>NaN</td>\n",
       "      <td>NaN</td>\n",
       "      <td>False</td>\n",
       "      <td>ManifestColumn</td>\n",
       "      <td>NaN</td>\n",
       "      <td>ManifestColumn</td>\n",
       "      <td>NaN</td>\n",
       "      <td>ManifestColumn</td>\n",
       "      <td>False</td>\n",
       "      <td>STRING</td>\n",
       "      <td>Sage Bionetworks</td>\n",
       "      <td></td>\n",
       "      <td>Metabolomics</td>\n",
       "    </tr>\n",
       "    <tr>\n",
       "      <th>acquisitionBatchSizeUnit</th>\n",
       "      <td>The unit of measurement for number of samples ...</td>\n",
       "      <td>NaN</td>\n",
       "      <td>NaN</td>\n",
       "      <td>NaN</td>\n",
       "      <td>False</td>\n",
       "      <td>ManifestColumn</td>\n",
       "      <td>NaN</td>\n",
       "      <td>ManifestColumn</td>\n",
       "      <td>NaN</td>\n",
       "      <td>ManifestColumn</td>\n",
       "      <td>False</td>\n",
       "      <td>STRING</td>\n",
       "      <td>Sage Bionetworks</td>\n",
       "      <td></td>\n",
       "      <td>Metabolomics</td>\n",
       "    </tr>\n",
       "    <tr>\n",
       "      <th>acquisitionMode</th>\n",
       "      <td>The specific aspect of a mass spectrometer met...</td>\n",
       "      <td>NaN</td>\n",
       "      <td>NaN</td>\n",
       "      <td>NaN</td>\n",
       "      <td>True</td>\n",
       "      <td>ManifestColumn</td>\n",
       "      <td>NaN</td>\n",
       "      <td>ManifestColumn</td>\n",
       "      <td>NaN</td>\n",
       "      <td>ManifestColumn</td>\n",
       "      <td>False</td>\n",
       "      <td>STRING</td>\n",
       "      <td>https://www.ebi.ac.uk/ols/ontologies/ms/terms?...</td>\n",
       "      <td>A data contributor should be able to write in ...</td>\n",
       "      <td>Metabolomics</td>\n",
       "    </tr>\n",
       "    <tr>\n",
       "      <th>acquisitionSoftware</th>\n",
       "      <td>The name of the acquisition software used. Pro...</td>\n",
       "      <td>NaN</td>\n",
       "      <td>NaN</td>\n",
       "      <td>NaN</td>\n",
       "      <td>True</td>\n",
       "      <td>ManifestColumn</td>\n",
       "      <td>NaN</td>\n",
       "      <td>ManifestColumn</td>\n",
       "      <td>NaN</td>\n",
       "      <td>ManifestColumn</td>\n",
       "      <td>False</td>\n",
       "      <td>STRING</td>\n",
       "      <td>http://purl.obolibrary.org/obo/MS_1001455</td>\n",
       "      <td>A data contributor should be able to write in ...</td>\n",
       "      <td>Metabolomics</td>\n",
       "    </tr>\n",
       "  </tbody>\n",
       "</table>\n",
       "</div>"
      ],
      "text/plain": [
       "                                                                Description  \\\n",
       "Attribute                                                                     \n",
       "acquisitionBatchID        Acquisition batch identifier, provided by the ...   \n",
       "acquisitionBatchSize                                  The number of samples   \n",
       "acquisitionBatchSizeUnit  The unit of measurement for number of samples ...   \n",
       "acquisitionMode           The specific aspect of a mass spectrometer met...   \n",
       "acquisitionSoftware       The name of the acquisition software used. Pro...   \n",
       "\n",
       "                         Valid Values DependsOn  DependsOn Component Required  \\\n",
       "Attribute                                                                       \n",
       "acquisitionBatchID                NaN       NaN                  NaN    False   \n",
       "acquisitionBatchSize              NaN       NaN                  NaN    False   \n",
       "acquisitionBatchSizeUnit          NaN       NaN                  NaN    False   \n",
       "acquisitionMode                   NaN       NaN                  NaN     True   \n",
       "acquisitionSoftware               NaN       NaN                  NaN     True   \n",
       "\n",
       "                                  Parent  Validation Rules      Properties  \\\n",
       "Attribute                                                                    \n",
       "acquisitionBatchID        ManifestColumn               NaN  ManifestColumn   \n",
       "acquisitionBatchSize      ManifestColumn               NaN  ManifestColumn   \n",
       "acquisitionBatchSizeUnit  ManifestColumn               NaN  ManifestColumn   \n",
       "acquisitionMode           ManifestColumn               NaN  ManifestColumn   \n",
       "acquisitionSoftware       ManifestColumn               NaN  ManifestColumn   \n",
       "\n",
       "                         Source          module multivalue columnType  \\\n",
       "Attribute                                                               \n",
       "acquisitionBatchID          NaN  ManifestColumn      False     STRING   \n",
       "acquisitionBatchSize        NaN  ManifestColumn      False     STRING   \n",
       "acquisitionBatchSizeUnit    NaN  ManifestColumn      False     STRING   \n",
       "acquisitionMode             NaN  ManifestColumn      False     STRING   \n",
       "acquisitionSoftware         NaN  ManifestColumn      False     STRING   \n",
       "\n",
       "                                                                   Ontology  \\\n",
       "Attribute                                                                     \n",
       "acquisitionBatchID                                         Sage Bionetworks   \n",
       "acquisitionBatchSize                                       Sage Bionetworks   \n",
       "acquisitionBatchSizeUnit                                   Sage Bionetworks   \n",
       "acquisitionMode           https://www.ebi.ac.uk/ols/ontologies/ms/terms?...   \n",
       "acquisitionSoftware               http://purl.obolibrary.org/obo/MS_1001455   \n",
       "\n",
       "                                                                      Notes  \\\n",
       "Attribute                                                                     \n",
       "acquisitionBatchID                                                            \n",
       "acquisitionBatchSize                                                          \n",
       "acquisitionBatchSizeUnit                                                      \n",
       "acquisitionMode           A data contributor should be able to write in ...   \n",
       "acquisitionSoftware       A data contributor should be able to write in ...   \n",
       "\n",
       "                                UsedIn  \n",
       "Attribute                               \n",
       "acquisitionBatchID        Metabolomics  \n",
       "acquisitionBatchSize      Metabolomics  \n",
       "acquisitionBatchSizeUnit  Metabolomics  \n",
       "acquisitionMode           Metabolomics  \n",
       "acquisitionSoftware       Metabolomics  "
      ]
     },
     "metadata": {},
     "output_type": "display_data"
    }
   ],
   "source": [
    "test = pd.concat([dm, new_attrs_df[~new_attrs_df.index.isin(dm.index)]])\n",
    "print(test.shape)\n",
    "test.head()"
   ]
  },
  {
   "cell_type": "code",
   "execution_count": null,
   "metadata": {},
   "outputs": [
    {
     "data": {
      "text/plain": [
       "True"
      ]
     },
     "metadata": {},
     "output_type": "display_data"
    }
   ],
   "source": [
    "test.index.is_unique"
   ]
  },
  {
   "cell_type": "code",
   "execution_count": null,
   "metadata": {},
   "outputs": [],
   "source": [
    "test.to_csv(\"../../EL.data.model.csv\")"
   ]
  },
  {
   "cell_type": "code",
   "execution_count": null,
   "metadata": {},
   "outputs": [],
   "source": [
    "def join_data_model_partitions(partition_path):\n",
    "    \"\"\"Join the partitions back together to form the data model used in DCA\n",
    "\n",
    "    Args:\n",
    "        partition_path (str): directory containing the partitions as CSVs\n",
    "\n",
    "    Returns:\n",
    "        object: pandas dataframe\n",
    "    \"\"\"\n",
    "    Parents = glob.glob(partition_path)\n",
    "    df_dict = {pathlib.Path(m).stem: pd.read_csv(m) for m in Parents}\n",
    "    data_model_full = (\n",
    "        pd.concat([pd.read_csv(m) for m in Parents])\n",
    "        .sort_values(by=[\"Parent\", \"Attribute\"])\n",
    "        .reset_index(drop=True)\n",
    "        .fillna(\"\")\n",
    "    )\n",
    "\n",
    "    data_model_full.info()\n",
    "\n",
    "    return data_model"
   ]
  },
  {
   "cell_type": "code",
   "execution_count": null,
   "metadata": {},
   "outputs": [],
   "source": [
    "# tests"
   ]
  }
 ],
 "metadata": {
  "kernelspec": {
   "display_name": "elite-data-models-LjmgyG4K-py3.10",
   "language": "python",
   "name": "python3"
  },
  "language_info": {
   "codemirror_mode": {
    "name": "ipython",
    "version": 3
   },
   "file_extension": ".py",
   "mimetype": "text/x-python",
   "name": "python",
   "nbconvert_exporter": "python",
   "pygments_lexer": "ipython3",
   "version": "3.10.13"
  }
 },
 "nbformat": 4,
 "nbformat_minor": 2
}
