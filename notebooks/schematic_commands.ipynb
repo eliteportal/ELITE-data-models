{
 "cells": [
  {
   "cell_type": "code",
   "execution_count": 1,
   "metadata": {},
   "outputs": [],
   "source": [
    "import pandas as pd\n",
    "import yaml\n",
    "\n",
    "with open(\"../local_configs/notebook_config.yaml\", \"r\") as f:\n",
    "    config = yaml.safe_load(f)\n",
    "\n",
    "# paths to import files\n",
    "root_path = config[\"paths\"][\"root\"]\n",
    "schematic_config = config[\"paths\"][\"schematic\"]\n",
    "csv_model = config[\"file_names\"][\"csv_model\"]\n",
    "\n",
    "json_model = config[\"file_names\"][\"json_model\"]"
   ]
  },
  {
   "cell_type": "code",
   "execution_count": 23,
   "metadata": {},
   "outputs": [],
   "source": [
    "# connect to synapse\n",
    "# %run C:/Users/nlee/Documents/Projects/utils/syanpse_login.py"
   ]
  },
  {
   "attachments": {},
   "cell_type": "markdown",
   "metadata": {},
   "source": [
    "Initialize schematic\n"
   ]
  },
  {
   "cell_type": "code",
   "execution_count": 3,
   "metadata": {},
   "outputs": [
    {
     "name": "stdout",
     "output_type": "stream",
     "text": [
      "schematic init --config /Users/nlee/Documents/Projects/ELITE/ELITE-data-models/config.yml\n"
     ]
    }
   ],
   "source": [
    "print(f\"schematic init --config {schematic_config}\")"
   ]
  },
  {
   "attachments": {},
   "cell_type": "markdown",
   "metadata": {},
   "source": [
    "Convert Schema\n"
   ]
  },
  {
   "cell_type": "code",
   "execution_count": 3,
   "metadata": {},
   "outputs": [
    {
     "name": "stdout",
     "output_type": "stream",
     "text": [
      "schematic schema convert C:/Users/nlee/Documents/Projects/ELITE-DCC/ELITE-data-models/models/EL_data_model_v3.csv --output_jsonld C:/Users/nlee/Documents/Projects/ELITE-DCC/ELITE-data-models/models/EL_data_model_v3.jsonld\n"
     ]
    }
   ],
   "source": [
    "# %%bash\n",
    "print(f\"schematic schema convert {csv_model} --output_jsonld {json_model}\")"
   ]
  },
  {
   "attachments": {},
   "cell_type": "markdown",
   "metadata": {},
   "source": [
    "Get an empty manifest as a CSV using model\n"
   ]
  },
  {
   "cell_type": "code",
   "execution_count": 3,
   "metadata": {},
   "outputs": [
    {
     "name": "stdout",
     "output_type": "stream",
     "text": [
      "schematic manifest --config C:/Users/nlee/Documents/Projects/schematic/schematic/config.yml get\n"
     ]
    }
   ],
   "source": [
    "# %%bash\n",
    "print(f\"schematic manifest --config {config['paths']['schematic']} get\")"
   ]
  },
  {
   "attachments": {},
   "cell_type": "markdown",
   "metadata": {},
   "source": [
    "Validate Manifest\n"
   ]
  },
  {
   "cell_type": "code",
   "execution_count": null,
   "metadata": {},
   "outputs": [],
   "source": [
    "manifest_path = \"C:/Users/nlee/Documents/Projects/schematic/schematic/tests/data/mock_manifests/example_biospecimen_test.csv\"\n",
    "!schematic model --config config['paths']['schematic'] /\n",
    "    validate --manifest_path  manifest_path/\n",
    "    --data_type Biospecimen"
   ]
  }
 ],
 "metadata": {
  "kernelspec": {
   "display_name": "schematic",
   "language": "python",
   "name": "python3"
  },
  "language_info": {
   "codemirror_mode": {
    "name": "ipython",
    "version": 3
   },
   "file_extension": ".py",
   "mimetype": "text/x-python",
   "name": "python",
   "nbconvert_exporter": "python",
   "pygments_lexer": "ipython3",
   "version": "3.10.13"
  },
  "orig_nbformat": 4
 },
 "nbformat": 4,
 "nbformat_minor": 2
}
