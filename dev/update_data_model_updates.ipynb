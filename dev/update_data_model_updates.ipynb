{
 "cells": [
  {
   "cell_type": "code",
   "execution_count": 1,
   "metadata": {},
   "outputs": [],
   "source": [
    "import os\n",
    "import pandas as pd\n",
    "import numpy as np\n",
    "import re\n",
    "import datetime\n",
    "import pathlib\n",
    "\n",
    "# custom package(s)\n",
    "from utils import utils, synapse_login\n",
    "\n",
    "import yaml\n",
    "import pathlib\n",
    "\n",
    "with open(\"./local_configs/notebook_config.yaml\", \"r\") as f:\n",
    "    config = yaml.safe_load(f)\n",
    "\n",
    "csv_model = pathlib.Path(\"../\" + config[\"file_names\"][\"csv_model\"]).resolve()\n",
    "json_model = pathlib.Path(\"../\" + config[\"file_names\"][\"json_model\"]).resolve()"
   ]
  },
  {
   "cell_type": "code",
   "execution_count": 4,
   "metadata": {},
   "outputs": [
    {
     "name": "stderr",
     "output_type": "stream",
     "text": [
      "\n",
      "UPGRADE AVAILABLE\n",
      "\n",
      "A more recent version of the Synapse Client (3.1.0) is available. Your version (2.7.0) can be upgraded by typing:\n",
      "    pip install --upgrade synapseclient\n",
      "\n",
      "Python Synapse Client version 3.1.0 release notes\n",
      "\n",
      "https://python-docs.synapse.org/build/html/news.html\n",
      "\n"
     ]
    },
    {
     "name": "stdout",
     "output_type": "stream",
     "text": [
      "Welcome, Nicholas Lee!\n",
      "\n"
     ]
    }
   ],
   "source": [
    "syn = synapse_login.main()"
   ]
  },
  {
   "cell_type": "code",
   "execution_count": 2,
   "metadata": {},
   "outputs": [],
   "source": [
    "dm_name = \"../EL.data.model.csv\"\n",
    "output_dir = pathlib.Path(\"../backups\").resolve()\n",
    "\n",
    "dm_path = pathlib.Path(dm_name).resolve()\n",
    "dm = utils.load_and_backup_dm(dm_path, output_dir)\n",
    "# dm = dm.drop(columns=[\"Unnamed: 0\"])"
   ]
  },
  {
   "cell_type": "code",
   "execution_count": 10,
   "metadata": {},
   "outputs": [
    {
     "data": {
      "text/plain": [
       "array(['analysis', 'experimentalData', 'neuro', 'ngs', 'sageCommunity'],\n",
       "      dtype=object)"
      ]
     },
     "execution_count": 10,
     "metadata": {},
     "output_type": "execute_result"
    }
   ],
   "source": [
    "np.sort(dm[\"module\"].dropna().unique())"
   ]
  },
  {
   "cell_type": "markdown",
   "metadata": {},
   "source": [
    "Updates 2023-09-06\n"
   ]
  },
  {
   "cell_type": "code",
   "execution_count": null,
   "metadata": {},
   "outputs": [],
   "source": [
    "atrs_to_fix = [\n",
    "    \"sequencingBatchID\",  # needs to accept numerical values\n",
    "    \"libraryVersion\",  # needs to accept numerical values\n",
    "]\n",
    "vv = \"\"\n",
    "vr = \"regex search ^[0-9]+|(Unknown)|(Not collected)|(Not applicable)|(Not Specified)\"\n",
    "for a in atrs_to_fix:\n",
    "    fix_index = dm_elite.query(\"Attribute == @a\").index[0]\n",
    "    dm_elite.loc[fix_index, \"Valid Values\"] = vv\n",
    "    dm_elite.loc[dm_elite.query(\n",
    "        \"Attribute == @a\").index[0], \"Validation Rules\"] = vr"
   ]
  },
  {
   "cell_type": "code",
   "execution_count": null,
   "metadata": {},
   "outputs": [],
   "source": [
    "dm_elite.query(\"Attribute in @atrs_to_fix\")"
   ]
  },
  {
   "cell_type": "code",
   "execution_count": null,
   "metadata": {},
   "outputs": [],
   "source": [
    "# Updates 9-23-2023"
   ]
  },
  {
   "cell_type": "code",
   "execution_count": 55,
   "metadata": {},
   "outputs": [],
   "source": [
    "# Update descriptions\n",
    "dm.loc[dm[\"Module\"].isin([\"Instrument\"]),\n",
    "       \"Description\"] = \"Instrument Model Name\"\n",
    "dm.loc[dm[\"Module\"].isin([\"Study\"]), \"Description\"] = \"Project name\"\n",
    "dm.loc[dm[\"Module\"].isin([\"Study\"]), \"Module\"] = \"Project\""
   ]
  },
  {
   "cell_type": "code",
   "execution_count": 71,
   "metadata": {},
   "outputs": [],
   "source": [
    "# Pull grant information\n",
    "grants = syn.tableQuery(\"SELECT * FROM syn51209786\").asDataFrame()[\"grantNumber\"]\n",
    "\n",
    "grantIds = []\n",
    "for i in grants:\n",
    "    grantIds += i\n",
    "\n",
    "grantIds = \",\".join([i.strip() for i in grantIds])\n",
    "\n",
    "dm.loc[\n",
    "    dm[\"Attribute\"].str.contains(\"grant\", flags=re.IGNORECASE), \"Valid Values\"\n",
    "] = grantIds"
   ]
  },
  {
   "cell_type": "code",
   "execution_count": 57,
   "metadata": {},
   "outputs": [],
   "source": [
    "# Fix Other values\n",
    "dm.loc[\n",
    "    dm[\"Attribute\"].str.contains(\"^other|^specify\", regex=True, flags=re.IGNORECASE),\n",
    "    \"Module\",\n",
    "] = \"Other\"\n",
    "\n",
    "# Fix \"specify\" values\n",
    "dm.loc[\n",
    "    dm[\"Attribute\"].str.contains(\"^specify\", regex=True, flags=re.IGNORECASE), \"Parent\"\n",
    "] = \"Specification\""
   ]
  },
  {
   "cell_type": "code",
   "execution_count": 58,
   "metadata": {},
   "outputs": [],
   "source": [
    "# Fix metadata module annotation\n",
    "dm.loc[\n",
    "    dm[\"Module\"].str.contains(\n",
    "        \"Race|Ethnicity\", regex=True, flags=re.IGNORECASE, na=False\n",
    "    ),\n",
    "    \"Module\",\n",
    "] = \"Metadata\""
   ]
  },
  {
   "cell_type": "code",
   "execution_count": 59,
   "metadata": {},
   "outputs": [
    {
     "data": {
      "text/html": [
       "<div>\n",
       "<style scoped>\n",
       "    .dataframe tbody tr th:only-of-type {\n",
       "        vertical-align: middle;\n",
       "    }\n",
       "\n",
       "    .dataframe tbody tr th {\n",
       "        vertical-align: top;\n",
       "    }\n",
       "\n",
       "    .dataframe thead th {\n",
       "        text-align: right;\n",
       "    }\n",
       "</style>\n",
       "<table border=\"1\" class=\"dataframe\">\n",
       "  <thead>\n",
       "    <tr style=\"text-align: right;\">\n",
       "      <th></th>\n",
       "      <th>Attribute</th>\n",
       "      <th>Description</th>\n",
       "      <th>Valid Values</th>\n",
       "      <th>DependsOn</th>\n",
       "      <th>Properties</th>\n",
       "      <th>Required</th>\n",
       "      <th>Parent</th>\n",
       "      <th>DependsOn Component</th>\n",
       "      <th>Source</th>\n",
       "      <th>Validation Rules</th>\n",
       "      <th>Module</th>\n",
       "      <th>Type</th>\n",
       "      <th>Ontology</th>\n",
       "      <th>UsedIn</th>\n",
       "    </tr>\n",
       "  </thead>\n",
       "  <tbody>\n",
       "  </tbody>\n",
       "</table>\n",
       "</div>"
      ],
      "text/plain": [
       "Empty DataFrame\n",
       "Columns: [Attribute, Description, Valid Values, DependsOn, Properties, Required, Parent, DependsOn Component, Source, Validation Rules, Module, Type, Ontology, UsedIn]\n",
       "Index: []"
      ]
     },
     "metadata": {},
     "output_type": "display_data"
    },
    {
     "data": {
      "text/html": [
       "<div>\n",
       "<style scoped>\n",
       "    .dataframe tbody tr th:only-of-type {\n",
       "        vertical-align: middle;\n",
       "    }\n",
       "\n",
       "    .dataframe tbody tr th {\n",
       "        vertical-align: top;\n",
       "    }\n",
       "\n",
       "    .dataframe thead th {\n",
       "        text-align: right;\n",
       "    }\n",
       "</style>\n",
       "<table border=\"1\" class=\"dataframe\">\n",
       "  <thead>\n",
       "    <tr style=\"text-align: right;\">\n",
       "      <th></th>\n",
       "      <th>Attribute</th>\n",
       "      <th>Description</th>\n",
       "      <th>Valid Values</th>\n",
       "      <th>DependsOn</th>\n",
       "      <th>Properties</th>\n",
       "      <th>Required</th>\n",
       "      <th>Parent</th>\n",
       "      <th>DependsOn Component</th>\n",
       "      <th>Source</th>\n",
       "      <th>Validation Rules</th>\n",
       "      <th>Module</th>\n",
       "      <th>Type</th>\n",
       "      <th>Ontology</th>\n",
       "      <th>UsedIn</th>\n",
       "    </tr>\n",
       "  </thead>\n",
       "  <tbody>\n",
       "  </tbody>\n",
       "</table>\n",
       "</div>"
      ],
      "text/plain": [
       "Empty DataFrame\n",
       "Columns: [Attribute, Description, Valid Values, DependsOn, Properties, Required, Parent, DependsOn Component, Source, Validation Rules, Module, Type, Ontology, UsedIn]\n",
       "Index: []"
      ]
     },
     "metadata": {},
     "output_type": "display_data"
    }
   ],
   "source": [
    "# fix Possible values are listed under the cleavage\n",
    "with pd.option_context(\"display.max_colwidth\", None):\n",
    "    display(dm[dm[\"Attribute\"].str.contains(\"Possible values are\")])\n",
    "    display(dm[dm[\"Valid Values\"].str.contains(\"Possible values are\", na=False)])"
   ]
  },
  {
   "cell_type": "code",
   "execution_count": 60,
   "metadata": {},
   "outputs": [],
   "source": [
    "# fixing more values\n",
    "\n",
    "old_values = {\n",
    "    \"msInstrumentModel\": \"Possible values are listed under the instrument model term.OtherMsInstrumentModel,Unknown,Not collected,Not applicable,Not Specified\",\n",
    "    \"modificationParameters\": \"Possible values are listed under modification parameters,OtherModificationParameters,Unknown,Not collected,Not applicable,Not Specified\",\n",
    "    \"cleavageAgents\": \"Possible values are listed under the cleavage agent nameOtherCleavageAgents,Unknown,Not collected,Not applicable,Not Specified\t\",\n",
    "}\n",
    "\n",
    "# fixing values\n",
    "dm.loc[dm[\"Attribute\"] == \"msInstrumentModel\", \"Valid Values\"] = \"\"\n",
    "dm.loc[dm[\"Attribute\"] == \"msInstrumentModel\", \"Validation Rules\"] = \"str\"\n",
    "\n",
    "dm.loc[dm[\"Attribute\"] == \"modificationParameters\", \"Valid Values\"] = \"\"\n",
    "dm.loc[dm[\"Attribute\"] == \"modificationParameters\", \"Validation Rules\"] = \"str\"\n",
    "\n",
    "dm.loc[dm[\"Attribute\"] == \"cleavageAgents\", \"Valid Values\"] = \"\"\n",
    "dm.loc[dm[\"Attribute\"] == \"cleavageAgents\", \"Validation Rules\"] = \"str\"\n",
    "dm.loc[dm[\"Attribute\"] == \"cleavageAgents\", \"Parent\"] = \"\""
   ]
  },
  {
   "cell_type": "code",
   "execution_count": 61,
   "metadata": {},
   "outputs": [],
   "source": [
    "# Are not actual attributes. Was a comment found in the data model\n",
    "dm = dm.drop(dm[dm[\"Attribute\"].str.contains(\"Possible values are\")].index).reset_index(\n",
    "    drop=True\n",
    ")"
   ]
  },
  {
   "cell_type": "code",
   "execution_count": 62,
   "metadata": {},
   "outputs": [],
   "source": [
    "# fix measurement units and change to just units\n",
    "dm.loc[dm[\"Module\"] == \"Measurement Unit\", \"Module\"] = \"Unit\"\n",
    "dm.loc[dm[\"Module\"] == \"Unit\", \"Type\"] = \"NUMERIC\""
   ]
  },
  {
   "cell_type": "code",
   "execution_count": 65,
   "metadata": {},
   "outputs": [],
   "source": [
    "# Capitallized first letter\n",
    "recode_parent = {\n",
    "    \"dataProperty\": \"DataProperty\",\n",
    "    \"specification\": \"Specification\",\n",
    "    \"validValue\": \"ValidValue\",\n",
    "    \"template\": \"Template\",\n",
    "}\n",
    "\n",
    "dm[\"Parent\"] = dm[\"Parent\"].replace(recode_parent)"
   ]
  },
  {
   "cell_type": "markdown",
   "metadata": {},
   "source": [
    "'Metadata', 'Unspecified', 'Other', 'Omics', 'Assay Metadata',\n",
    "'Instrument', 'Unit', 'Assay', 'Sample Type', 'Model Organism',\n",
    "'Ontology', 'Project', 'Organ', 'Boolean', 'Tissue', 'Template',\n",
    "'BaseAnnotation',\n"
   ]
  },
  {
   "cell_type": "code",
   "execution_count": 66,
   "metadata": {},
   "outputs": [],
   "source": [
    "dm.loc[\n",
    "    dm[\"Module\"].isin([\"Organ\", \"Tissue\", \"Sample Type\"]), \"Module\"\n",
    "] = \"Sample Metadata\""
   ]
  },
  {
   "cell_type": "code",
   "execution_count": 67,
   "metadata": {},
   "outputs": [
    {
     "data": {
      "text/plain": [
       "array(['Assay', 'BaseAnnotation', 'Instrument', 'Metadata',\n",
       "       'Model Organism', 'Ontology', 'Other', 'Project',\n",
       "       'Sample Metadata', 'Template', 'Unit', 'Unspecified',\n",
       "       'Valid Value'], dtype=object)"
      ]
     },
     "execution_count": 67,
     "metadata": {},
     "output_type": "execute_result"
    }
   ],
   "source": [
    "np.sort(dm[\"Module\"].dropna().unique())"
   ]
  },
  {
   "cell_type": "code",
   "execution_count": 69,
   "metadata": {},
   "outputs": [],
   "source": [
    "dm.loc[dm[\"Module\"].isin([\"Omnics\", \"Assay Metadata\"]), \"Module\"] = \"Assay\""
   ]
  },
  {
   "cell_type": "code",
   "execution_count": 73,
   "metadata": {},
   "outputs": [],
   "source": [
    "# write out data model\n",
    "dm = dm[keep_cols]\n",
    "\n",
    "dm.drop_duplicates(subset=[\"Attribute\"], inplace=True)\n",
    "\n",
    "dm.reset_index(drop=True, inplace=True)"
   ]
  },
  {
   "cell_type": "code",
   "execution_count": 74,
   "metadata": {},
   "outputs": [],
   "source": [
    "# Updates 2023-09-21\n",
    "dm.loc[dm[\"Attribute\"] == \"TRUE\", \"DependsOn\"] = np.nan\n",
    "\n",
    "# clean up source column\n",
    "dm[\"Source\"] = (\n",
    "    dm[\"Source\"]\n",
    "    .fillna(\"\")\n",
    "    .str.split(\",\")\n",
    "    .apply(lambda x: \",\".join(sorted(np.unique(x))))\n",
    ")\n",
    "dm[\"Valid Values\"] = (\n",
    "    dm[\"Valid Values\"]\n",
    "    .fillna(\"\")\n",
    "    .str.split(\",\")\n",
    "    .apply(lambda x: \",\".join([y.strip() for y in x]))\n",
    ")\n",
    "dm[\"DependsOn\"] = (\n",
    "    dm[\"DependsOn\"]\n",
    "    .fillna(\"\")\n",
    "    .str.split(\",\")\n",
    "    .apply(lambda x: \",\".join([y.strip() for y in x]))\n",
    ")\n",
    "\n",
    "# update data model to remove not listed for purposes of this RFC\n",
    "dm.loc[\n",
    "    dm[\"Attribute\"].str.contains(\n",
    "        \"RFC\", regex=True, flags=re.IGNORECASE, na=False),\n",
    "    \"Module\",\n",
    "] = \"Ontology\"\n",
    "\n",
    "dm.loc[\n",
    "    dm[\"Attribute\"].str.contains(\n",
    "        \"RFC\", regex=True, flags=re.IGNORECASE, na=False),\n",
    "    \"Description\",\n",
    "] = \"External ontology used for populating values\"\n",
    "\n",
    "dm.loc[\n",
    "    dm[\"Attribute\"].str.contains(\n",
    "        \"RFC\", regex=True, flags=re.IGNORECASE, na=False),\n",
    "    \"Parent\",\n",
    "] = \"Ontology\"\n",
    "\n",
    "dm.loc[\n",
    "    dm[\"Attribute\"].str.contains(\n",
    "        \"RFC\", regex=True, flags=re.IGNORECASE, na=False),\n",
    "    \"Ontology\",\n",
    "] = \"Self\"\n",
    "\n",
    "dm.loc[\n",
    "    dm[\"Attribute\"].str.contains(\n",
    "        \"RFC\", regex=True, flags=re.IGNORECASE, na=False),\n",
    "    \"Attribute\",\n",
    "] = (\n",
    "    dm.loc[\n",
    "        dm[\"Attribute\"].str.contains(\n",
    "            \"RFC\", regex=True, flags=re.IGNORECASE, na=False),\n",
    "        \"Attribute\",\n",
    "    ]\n",
    "    .str.split(\"(\")\n",
    "    .apply(lambda x: x[0].strip())\n",
    ")"
   ]
  },
  {
   "cell_type": "code",
   "execution_count": 10,
   "metadata": {},
   "outputs": [],
   "source": [
    "dm[[\"Attribute\", 'Valid Values']] = dm[[\"Attribute\", 'Valid Values']].apply(lambda x: x.str.replace(\"\\(|\\)|\\|\\?|/|\\s+\",\"_\", regex=True))"
   ]
  },
  {
   "cell_type": "code",
   "execution_count": 13,
   "metadata": {},
   "outputs": [
    {
     "data": {
      "text/html": [
       "<div>\n",
       "<style scoped>\n",
       "    .dataframe tbody tr th:only-of-type {\n",
       "        vertical-align: middle;\n",
       "    }\n",
       "\n",
       "    .dataframe tbody tr th {\n",
       "        vertical-align: top;\n",
       "    }\n",
       "\n",
       "    .dataframe thead th {\n",
       "        text-align: right;\n",
       "    }\n",
       "</style>\n",
       "<table border=\"1\" class=\"dataframe\">\n",
       "  <thead>\n",
       "    <tr style=\"text-align: right;\">\n",
       "      <th></th>\n",
       "      <th>Attribute</th>\n",
       "      <th>Valid Values</th>\n",
       "    </tr>\n",
       "  </thead>\n",
       "  <tbody>\n",
       "    <tr>\n",
       "      <th>0</th>\n",
       "      <td>10x</td>\n",
       "      <td>NaN</td>\n",
       "    </tr>\n",
       "    <tr>\n",
       "      <th>1</th>\n",
       "      <td>10x_Visium_Spatial_Gene_Expression</td>\n",
       "      <td>NaN</td>\n",
       "    </tr>\n",
       "    <tr>\n",
       "      <th>2</th>\n",
       "      <td>AFU</td>\n",
       "      <td>NaN</td>\n",
       "    </tr>\n",
       "    <tr>\n",
       "      <th>3</th>\n",
       "      <td>AI</td>\n",
       "      <td>NaN</td>\n",
       "    </tr>\n",
       "    <tr>\n",
       "      <th>4</th>\n",
       "      <td>AIBL_pool</td>\n",
       "      <td>NaN</td>\n",
       "    </tr>\n",
       "    <tr>\n",
       "      <th>...</th>\n",
       "      <td>...</td>\n",
       "      <td>...</td>\n",
       "    </tr>\n",
       "    <tr>\n",
       "      <th>677</th>\n",
       "      <td>modelSystemName</td>\n",
       "      <td>3xTg-AD,_5XFAD,_AB42,_Abca7A1527GAPOE4Trem2R47...</td>\n",
       "    </tr>\n",
       "    <tr>\n",
       "      <th>678</th>\n",
       "      <td>modelSystemType</td>\n",
       "      <td>animal,_cerebral_organoid,_immortalized_cell_l...</td>\n",
       "    </tr>\n",
       "    <tr>\n",
       "      <th>679</th>\n",
       "      <td>platform</td>\n",
       "      <td>Affy5.0,_Affy6.0,_Affymetrix_Human_Gene_1.0_ST...</td>\n",
       "    </tr>\n",
       "    <tr>\n",
       "      <th>680</th>\n",
       "      <td>protocol</td>\n",
       "      <td>NaN</td>\n",
       "    </tr>\n",
       "    <tr>\n",
       "      <th>681</th>\n",
       "      <td>resourceType</td>\n",
       "      <td>analysis,_curatedData,_experimentalData,_metad...</td>\n",
       "    </tr>\n",
       "  </tbody>\n",
       "</table>\n",
       "<p>682 rows × 2 columns</p>\n",
       "</div>"
      ],
      "text/plain": [
       "                              Attribute  \\\n",
       "0                                   10x   \n",
       "1    10x_Visium_Spatial_Gene_Expression   \n",
       "2                                   AFU   \n",
       "3                                    AI   \n",
       "4                             AIBL_pool   \n",
       "..                                  ...   \n",
       "677                     modelSystemName   \n",
       "678                     modelSystemType   \n",
       "679                            platform   \n",
       "680                            protocol   \n",
       "681                        resourceType   \n",
       "\n",
       "                                          Valid Values  \n",
       "0                                                  NaN  \n",
       "1                                                  NaN  \n",
       "2                                                  NaN  \n",
       "3                                                  NaN  \n",
       "4                                                  NaN  \n",
       "..                                                 ...  \n",
       "677  3xTg-AD,_5XFAD,_AB42,_Abca7A1527GAPOE4Trem2R47...  \n",
       "678  animal,_cerebral_organoid,_immortalized_cell_l...  \n",
       "679  Affy5.0,_Affy6.0,_Affymetrix_Human_Gene_1.0_ST...  \n",
       "680                                                NaN  \n",
       "681  analysis,_curatedData,_experimentalData,_metad...  \n",
       "\n",
       "[682 rows x 2 columns]"
      ]
     },
     "execution_count": 13,
     "metadata": {},
     "output_type": "execute_result"
    }
   ],
   "source": [
    "dm[[\"Attribute\", 'Valid Values']].apply(lambda x: x.str.replace(\"_^\",\"\", regex=True))"
   ]
  },
  {
   "cell_type": "code",
   "execution_count": 18,
   "metadata": {},
   "outputs": [],
   "source": [
    "dm['Valid Values'] = dm['Valid Values'].fillna('None').str.split(',').apply(lambda x: ','.join([y.strip(\"_\") for y in x]))"
   ]
  },
  {
   "cell_type": "code",
   "execution_count": 20,
   "metadata": {},
   "outputs": [
    {
     "data": {
      "text/plain": [
       "'3xTg-AD,5XFAD,AB42,Abca7A1527GAPOE4Trem2R47H,Abca7KO,Abca7V1599M_rs117187003,Abi3S209F_Aduci,APOE2KI,APOE3KI,APOE4KI,APOE4Trem2R47H,ApoEKO,APPE693Q,AppKOAPOE4Trem2R47H,APPKM650,APPKM670,APPKM670-671NL-PSEN1deltaexon9,APPPS1,APPS1_Plexin-B1-KO,B6.Clu,B6.Gfap-APOE4,Bin1.B6,Bin1K358R_Aduci,BRI2-AB42,Cd2ap.B6,Ceacam1KO,Clasp2L163PSNP,CRND8,C57BL6J,hAbetaKI,hAPPAPOE4Trem2R47H,hCR1KIAPOE4Trem2,hTau,hTauTrem2,Il1rapKO,Kif21bT82TSNP,MAPT-P301K,Meox2KOHET,MthfrC677TSNP,Mtmr4V297GSNP,PicalmH458R,Plcg2KO,Plcg2M28LSNP,Plexin-B1-KO,rTg4510,Snx1D465NSNP,Sorl1A528TSNP,Spi1rs1377416,TAUPS19,TAUPS19_Plexin-B1-KO,TREM2,Trem2flox,Trem2KO,Trem2R47H,Trem2R47H_NSS,Trem2Y38C,TYROBP,TYROBP_KO.KO,TYROBP_WT,TYROBP_WT.KO'"
      ]
     },
     "execution_count": 20,
     "metadata": {},
     "output_type": "execute_result"
    }
   ],
   "source": [
    "dm['Valid Values'][677]"
   ]
  },
  {
   "cell_type": "code",
   "execution_count": 11,
   "metadata": {},
   "outputs": [],
   "source": [
    "# write out new model\n",
    "dm.to_csv(\"../EL.data.model.csv\", index=False)"
   ]
  },
  {
   "cell_type": "code",
   "execution_count": 3,
   "metadata": {},
   "outputs": [
    {
     "name": "stdout",
     "output_type": "stream",
     "text": [
      "Starting schematic...\n",
      "Traceback (most recent call last):\n",
      "  File \"/Users/nlee/Library/Caches/pypoetry/virtualenvs/cohort-builder-data-dictionary-fOfjgXmU-py3.10/bin/schematic\", line 8, in <module>\n",
      "    sys.exit(main())\n",
      "  File \"/Users/nlee/Library/Caches/pypoetry/virtualenvs/cohort-builder-data-dictionary-fOfjgXmU-py3.10/lib/python3.10/site-packages/click/core.py\", line 1157, in __call__\n",
      "    return self.main(*args, **kwargs)\n",
      "  File \"/Users/nlee/Library/Caches/pypoetry/virtualenvs/cohort-builder-data-dictionary-fOfjgXmU-py3.10/lib/python3.10/site-packages/click/core.py\", line 1078, in main\n",
      "    rv = self.invoke(ctx)\n",
      "  File \"/Users/nlee/Library/Caches/pypoetry/virtualenvs/cohort-builder-data-dictionary-fOfjgXmU-py3.10/lib/python3.10/site-packages/click/core.py\", line 1688, in invoke\n",
      "    return _process_result(sub_ctx.command.invoke(sub_ctx))\n",
      "  File \"/Users/nlee/Library/Caches/pypoetry/virtualenvs/cohort-builder-data-dictionary-fOfjgXmU-py3.10/lib/python3.10/site-packages/click/core.py\", line 1688, in invoke\n",
      "    return _process_result(sub_ctx.command.invoke(sub_ctx))\n",
      "  File \"/Users/nlee/Library/Caches/pypoetry/virtualenvs/cohort-builder-data-dictionary-fOfjgXmU-py3.10/lib/python3.10/site-packages/click/core.py\", line 1434, in invoke\n",
      "    return ctx.invoke(self.callback, **ctx.params)\n",
      "  File \"/Users/nlee/Library/Caches/pypoetry/virtualenvs/cohort-builder-data-dictionary-fOfjgXmU-py3.10/lib/python3.10/site-packages/click/core.py\", line 783, in invoke\n",
      "    return __callback(*args, **kwargs)\n",
      "  File \"/Users/nlee/Library/Caches/pypoetry/virtualenvs/cohort-builder-data-dictionary-fOfjgXmU-py3.10/lib/python3.10/site-packages/schematic/schemas/commands.py\", line 56, in convert\n",
      "    base_se = _convert_csv_to_data_model(schema_csv, base_schema)\n",
      "  File \"/Users/nlee/Library/Caches/pypoetry/virtualenvs/cohort-builder-data-dictionary-fOfjgXmU-py3.10/lib/python3.10/site-packages/schematic/schemas/df_parser.py\", line 785, in _convert_csv_to_data_model\n",
      "    base_se = create_nx_schema_objects(rfc_df, base_se)\n",
      "  File \"/Users/nlee/Library/Caches/pypoetry/virtualenvs/cohort-builder-data-dictionary-fOfjgXmU-py3.10/lib/python3.10/site-packages/schematic/schemas/df_parser.py\", line 512, in create_nx_schema_objects\n",
      "    se.edit_schema_object_nx(class_range_edit)\n",
      "  File \"/Users/nlee/Library/Caches/pypoetry/virtualenvs/cohort-builder-data-dictionary-fOfjgXmU-py3.10/lib/python3.10/site-packages/schematic/schemas/explorer.py\", line 669, in edit_schema_object_nx\n",
      "    for node, data in schema_graph_nx.nodes(data=True):\n",
      "RuntimeError: dictionary changed size during iteration\n"
     ]
    }
   ],
   "source": [
    "# convert csv model to jsonld\n",
    "!schematic schema convert {csv_model} --output_jsonld {json_model}"
   ]
  },
  {
   "cell_type": "code",
   "execution_count": null,
   "metadata": {},
   "outputs": [],
   "source": []
  }
 ],
 "metadata": {
  "kernelspec": {
   "display_name": "data-models-elite-98ShFYwe-py3.11",
   "language": "python",
   "name": "python3"
  },
  "language_info": {
   "codemirror_mode": {
    "name": "ipython",
    "version": 3
   },
   "file_extension": ".py",
   "mimetype": "text/x-python",
   "name": "python",
   "nbconvert_exporter": "python",
   "pygments_lexer": "ipython3",
   "version": "3.10.13"
  },
  "orig_nbformat": 4
 },
 "nbformat": 4,
 "nbformat_minor": 2
}
