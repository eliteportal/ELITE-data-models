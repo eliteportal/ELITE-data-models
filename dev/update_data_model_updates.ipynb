{
 "cells": [
  {
   "cell_type": "code",
   "execution_count": 1,
   "metadata": {},
   "outputs": [],
   "source": [
    "import os\n",
    "import pandas as pd\n",
    "import numpy as np\n",
    "import re\n",
    "import datetime\n",
    "import pathlib\n",
    "\n",
    "# custom package(s)\n",
    "from utils import utils, synapse_login\n",
    "\n",
    "import yaml\n",
    "import pathlib\n",
    "\n",
    "with open(\"./local_configs/notebook_config.yaml\", \"r\") as f:\n",
    "    config = yaml.safe_load(f)\n",
    "\n",
    "csv_model = pathlib.Path(\"../\" + config[\"file_names\"][\"csv_model\"]).resolve()\n",
    "json_model = pathlib.Path(\"../\" + config[\"file_names\"][\"json_model\"]).resolve()"
   ]
  },
  {
   "cell_type": "code",
   "execution_count": 2,
   "metadata": {},
   "outputs": [
    {
     "name": "stderr",
     "output_type": "stream",
     "text": [
      "\n",
      "UPGRADE AVAILABLE\n",
      "\n",
      "A more recent version of the Synapse Client (3.0.0) is available. Your version (2.7.0) can be upgraded by typing:\n",
      "    pip install --upgrade synapseclient\n",
      "\n",
      "Python Synapse Client version 3.0.0 release notes\n",
      "\n",
      "https://python-docs.synapse.org/build/html/news.html\n",
      "\n"
     ]
    },
    {
     "name": "stdout",
     "output_type": "stream",
     "text": [
      "Welcome, Nicholas Lee!\n",
      "\n"
     ]
    }
   ],
   "source": [
    "syn = synapse_login.main()"
   ]
  },
  {
   "cell_type": "code",
   "execution_count": 8,
   "metadata": {},
   "outputs": [],
   "source": [
    "dm_name = \"../EL.data.model.csv\"\n",
    "output_dir = pathlib.Path(\"../backups\").resolve()\n",
    "\n",
    "dm_path = pathlib.Path(dm_name).resolve()\n",
    "dm = utils.load_and_backup_dm(dm_path, output_dir)\n",
    "dm = dm.drop(columns=[\"Unnamed: 0\"])"
   ]
  },
  {
   "cell_type": "code",
   "execution_count": 9,
   "metadata": {},
   "outputs": [
    {
     "data": {
      "text/plain": [
       "Index(['Attribute', 'Description', 'Valid Values', 'Required', 'DependsOn',\n",
       "       'DependsOn Component', 'Properties', 'Validation Rules', 'Template',\n",
       "       'Parent', 'Source', 'Type', 'Ontology', 'multivalue', 'UsedIn',\n",
       "       'module'],\n",
       "      dtype='object')"
      ]
     },
     "execution_count": 9,
     "metadata": {},
     "output_type": "execute_result"
    }
   ],
   "source": [
    "dm.columns"
   ]
  },
  {
   "cell_type": "code",
   "execution_count": 10,
   "metadata": {},
   "outputs": [
    {
     "data": {
      "text/plain": [
       "array(['analysis', 'experimentalData', 'neuro', 'ngs', 'sageCommunity'],\n",
       "      dtype=object)"
      ]
     },
     "execution_count": 10,
     "metadata": {},
     "output_type": "execute_result"
    }
   ],
   "source": [
    "np.sort(dm[\"module\"].dropna().unique())"
   ]
  },
  {
   "cell_type": "markdown",
   "metadata": {},
   "source": [
    "Updates 2023-09-06\n"
   ]
  },
  {
   "cell_type": "code",
   "execution_count": null,
   "metadata": {},
   "outputs": [],
   "source": [
    "atrs_to_fix = [\n",
    "    \"sequencingBatchID\",  # needs to accept numerical values\n",
    "    \"libraryVersion\",  # needs to accept numerical values\n",
    "]\n",
    "vv = \"\"\n",
    "vr = \"regex search ^[0-9]+|(Unknown)|(Not collected)|(Not applicable)|(Not Specified)\"\n",
    "for a in atrs_to_fix:\n",
    "    fix_index = dm_elite.query(\"Attribute == @a\").index[0]\n",
    "    dm_elite.loc[fix_index, \"Valid Values\"] = vv\n",
    "    dm_elite.loc[dm_elite.query(\"Attribute == @a\").index[0], \"Validation Rules\"] = vr"
   ]
  },
  {
   "cell_type": "code",
   "execution_count": null,
   "metadata": {},
   "outputs": [],
   "source": [
    "dm_elite.query(\"Attribute in @atrs_to_fix\")"
   ]
  },
  {
   "cell_type": "code",
   "execution_count": null,
   "metadata": {},
   "outputs": [],
   "source": [
    "# Updates 9-23-2023"
   ]
  },
  {
   "cell_type": "code",
   "execution_count": 55,
   "metadata": {},
   "outputs": [],
   "source": [
    "# Update descriptions\n",
    "dm.loc[dm[\"Module\"].isin([\"Instrument\"]), \"Description\"] = \"Instrument Model Name\"\n",
    "dm.loc[dm[\"Module\"].isin([\"Study\"]), \"Description\"] = \"Project name\"\n",
    "dm.loc[dm[\"Module\"].isin([\"Study\"]), \"Module\"] = \"Project\""
   ]
  },
  {
   "cell_type": "code",
   "execution_count": 71,
   "metadata": {},
   "outputs": [],
   "source": [
    "# Pull grant information\n",
    "grants = syn.tableQuery(\n",
    "    \"SELECT * FROM syn51209786\").asDataFrame()[\"grantNumber\"]\n",
    "\n",
    "grantIds = []\n",
    "for i in grants:\n",
    "    grantIds += i\n",
    "\n",
    "grantIds = \",\".join([i.strip() for i in grantIds])\n",
    "\n",
    "dm.loc[\n",
    "    dm[\"Attribute\"].str.contains(\"grant\", flags=re.IGNORECASE), \"Valid Values\"\n",
    "] = grantIds"
   ]
  },
  {
   "cell_type": "code",
   "execution_count": 57,
   "metadata": {},
   "outputs": [],
   "source": [
    "# Fix Other values\n",
    "dm.loc[\n",
    "    dm[\"Attribute\"].str.contains(\n",
    "        \"^other|^specify\", regex=True, flags=re.IGNORECASE),\n",
    "    \"Module\",\n",
    "] = \"Other\"\n",
    "\n",
    "# Fix \"specify\" values\n",
    "dm.loc[\n",
    "    dm[\"Attribute\"].str.contains(\n",
    "        \"^specify\", regex=True, flags=re.IGNORECASE), \"Parent\"\n",
    "] = \"Specification\""
   ]
  },
  {
   "cell_type": "code",
   "execution_count": 58,
   "metadata": {},
   "outputs": [],
   "source": [
    "# Fix metadata module annotation\n",
    "dm.loc[\n",
    "    dm[\"Module\"].str.contains(\n",
    "        \"Race|Ethnicity\", regex=True, flags=re.IGNORECASE, na=False\n",
    "    ),\n",
    "    \"Module\",\n",
    "] = \"Metadata\""
   ]
  },
  {
   "cell_type": "code",
   "execution_count": 59,
   "metadata": {},
   "outputs": [
    {
     "data": {
      "text/html": [
       "<div>\n",
       "<style scoped>\n",
       "    .dataframe tbody tr th:only-of-type {\n",
       "        vertical-align: middle;\n",
       "    }\n",
       "\n",
       "    .dataframe tbody tr th {\n",
       "        vertical-align: top;\n",
       "    }\n",
       "\n",
       "    .dataframe thead th {\n",
       "        text-align: right;\n",
       "    }\n",
       "</style>\n",
       "<table border=\"1\" class=\"dataframe\">\n",
       "  <thead>\n",
       "    <tr style=\"text-align: right;\">\n",
       "      <th></th>\n",
       "      <th>Attribute</th>\n",
       "      <th>Description</th>\n",
       "      <th>Valid Values</th>\n",
       "      <th>DependsOn</th>\n",
       "      <th>Properties</th>\n",
       "      <th>Required</th>\n",
       "      <th>Parent</th>\n",
       "      <th>DependsOn Component</th>\n",
       "      <th>Source</th>\n",
       "      <th>Validation Rules</th>\n",
       "      <th>Module</th>\n",
       "      <th>Type</th>\n",
       "      <th>Ontology</th>\n",
       "      <th>UsedIn</th>\n",
       "    </tr>\n",
       "  </thead>\n",
       "  <tbody>\n",
       "  </tbody>\n",
       "</table>\n",
       "</div>"
      ],
      "text/plain": [
       "Empty DataFrame\n",
       "Columns: [Attribute, Description, Valid Values, DependsOn, Properties, Required, Parent, DependsOn Component, Source, Validation Rules, Module, Type, Ontology, UsedIn]\n",
       "Index: []"
      ]
     },
     "metadata": {},
     "output_type": "display_data"
    },
    {
     "data": {
      "text/html": [
       "<div>\n",
       "<style scoped>\n",
       "    .dataframe tbody tr th:only-of-type {\n",
       "        vertical-align: middle;\n",
       "    }\n",
       "\n",
       "    .dataframe tbody tr th {\n",
       "        vertical-align: top;\n",
       "    }\n",
       "\n",
       "    .dataframe thead th {\n",
       "        text-align: right;\n",
       "    }\n",
       "</style>\n",
       "<table border=\"1\" class=\"dataframe\">\n",
       "  <thead>\n",
       "    <tr style=\"text-align: right;\">\n",
       "      <th></th>\n",
       "      <th>Attribute</th>\n",
       "      <th>Description</th>\n",
       "      <th>Valid Values</th>\n",
       "      <th>DependsOn</th>\n",
       "      <th>Properties</th>\n",
       "      <th>Required</th>\n",
       "      <th>Parent</th>\n",
       "      <th>DependsOn Component</th>\n",
       "      <th>Source</th>\n",
       "      <th>Validation Rules</th>\n",
       "      <th>Module</th>\n",
       "      <th>Type</th>\n",
       "      <th>Ontology</th>\n",
       "      <th>UsedIn</th>\n",
       "    </tr>\n",
       "  </thead>\n",
       "  <tbody>\n",
       "  </tbody>\n",
       "</table>\n",
       "</div>"
      ],
      "text/plain": [
       "Empty DataFrame\n",
       "Columns: [Attribute, Description, Valid Values, DependsOn, Properties, Required, Parent, DependsOn Component, Source, Validation Rules, Module, Type, Ontology, UsedIn]\n",
       "Index: []"
      ]
     },
     "metadata": {},
     "output_type": "display_data"
    }
   ],
   "source": [
    "# fix Possible values are listed under the cleavage\n",
    "with pd.option_context(\"display.max_colwidth\", None):\n",
    "    display(dm[dm[\"Attribute\"].str.contains(\"Possible values are\")])\n",
    "    display(dm[dm[\"Valid Values\"].str.contains(\n",
    "        \"Possible values are\", na=False)])"
   ]
  },
  {
   "cell_type": "code",
   "execution_count": 60,
   "metadata": {},
   "outputs": [],
   "source": [
    "# fixing more values\n",
    "\n",
    "old_values = {\n",
    "    \"msInstrumentModel\": \"Possible values are listed under the instrument model term.OtherMsInstrumentModel,Unknown,Not collected,Not applicable,Not Specified\",\n",
    "    \"modificationParameters\": \"Possible values are listed under modification parameters,OtherModificationParameters,Unknown,Not collected,Not applicable,Not Specified\",\n",
    "    \"cleavageAgents\": \"Possible values are listed under the cleavage agent nameOtherCleavageAgents,Unknown,Not collected,Not applicable,Not Specified\t\",\n",
    "}\n",
    "\n",
    "# fixing values\n",
    "dm.loc[dm[\"Attribute\"] == \"msInstrumentModel\", \"Valid Values\"] = \"\"\n",
    "dm.loc[dm[\"Attribute\"] == \"msInstrumentModel\", \"Validation Rules\"] = \"str\"\n",
    "\n",
    "dm.loc[dm[\"Attribute\"] == \"modificationParameters\", \"Valid Values\"] = \"\"\n",
    "dm.loc[dm[\"Attribute\"] == \"modificationParameters\", \"Validation Rules\"] = \"str\"\n",
    "\n",
    "dm.loc[dm[\"Attribute\"] == \"cleavageAgents\", \"Valid Values\"] = \"\"\n",
    "dm.loc[dm[\"Attribute\"] == \"cleavageAgents\", \"Validation Rules\"] = \"str\"\n",
    "dm.loc[dm[\"Attribute\"] == \"cleavageAgents\", \"Parent\"] = \"\""
   ]
  },
  {
   "cell_type": "code",
   "execution_count": 61,
   "metadata": {},
   "outputs": [],
   "source": [
    "# Are not actual attributes. Was a comment found in the data model\n",
    "dm = dm.drop(dm[dm[\"Attribute\"].str.contains(\"Possible values are\")].index).reset_index(\n",
    "    drop=True\n",
    ")"
   ]
  },
  {
   "cell_type": "code",
   "execution_count": 62,
   "metadata": {},
   "outputs": [],
   "source": [
    "# fix measurement units and change to just units\n",
    "dm.loc[dm[\"Module\"] == \"Measurement Unit\", \"Module\"] = \"Unit\"\n",
    "dm.loc[dm[\"Module\"] == \"Unit\", \"Type\"] = \"NUMERIC\""
   ]
  },
  {
   "cell_type": "code",
   "execution_count": 65,
   "metadata": {},
   "outputs": [],
   "source": [
    "# Capitallized first letter\n",
    "recode_parent = {\n",
    "    \"dataProperty\": \"DataProperty\",\n",
    "    \"specification\": \"Specification\",\n",
    "    \"validValue\": \"ValidValue\",\n",
    "    \"template\": \"Template\",\n",
    "}\n",
    "\n",
    "dm[\"Parent\"] = dm[\"Parent\"].replace(recode_parent)"
   ]
  },
  {
   "cell_type": "markdown",
   "metadata": {},
   "source": [
    "'Metadata', 'Unspecified', 'Other', 'Omics', 'Assay Metadata',\n",
    "'Instrument', 'Unit', 'Assay', 'Sample Type', 'Model Organism',\n",
    "'Ontology', 'Project', 'Organ', 'Boolean', 'Tissue', 'Template',\n",
    "'BaseAnnotation',\n"
   ]
  },
  {
   "cell_type": "code",
   "execution_count": 66,
   "metadata": {},
   "outputs": [],
   "source": [
    "dm.loc[\n",
    "    dm[\"Module\"].isin([\"Organ\", \"Tissue\", \"Sample Type\"]), \"Module\"\n",
    "] = \"Sample Metadata\""
   ]
  },
  {
   "cell_type": "code",
   "execution_count": 67,
   "metadata": {},
   "outputs": [
    {
     "data": {
      "text/plain": [
       "array(['Assay', 'BaseAnnotation', 'Instrument', 'Metadata',\n",
       "       'Model Organism', 'Ontology', 'Other', 'Project',\n",
       "       'Sample Metadata', 'Template', 'Unit', 'Unspecified',\n",
       "       'Valid Value'], dtype=object)"
      ]
     },
     "execution_count": 67,
     "metadata": {},
     "output_type": "execute_result"
    }
   ],
   "source": [
    "np.sort(dm[\"Module\"].dropna().unique())"
   ]
  },
  {
   "cell_type": "code",
   "execution_count": 69,
   "metadata": {},
   "outputs": [],
   "source": [
    "dm.loc[dm[\"Module\"].isin([\"Omnics\", \"Assay Metadata\"]), \"Module\"] = \"Assay\""
   ]
  },
  {
   "cell_type": "code",
   "execution_count": 73,
   "metadata": {},
   "outputs": [],
   "source": [
    "# write out data model\n",
    "dm = dm[keep_cols]\n",
    "\n",
    "dm.drop_duplicates(subset=[\"Attribute\"], inplace=True)\n",
    "\n",
    "dm.reset_index(drop=True, inplace=True)"
   ]
  },
  {
   "cell_type": "code",
   "execution_count": 74,
   "metadata": {},
   "outputs": [],
   "source": [
    "# Updates 2023-09-21\n",
    "dm.loc[dm[\"Attribute\"] == \"TRUE\", \"DependsOn\"] = np.nan\n",
    "\n",
    "# clean up source column\n",
    "dm[\"Source\"] = (\n",
    "    dm[\"Source\"]\n",
    "    .fillna(\"\")\n",
    "    .str.split(\",\")\n",
    "    .apply(lambda x: \",\".join(sorted(np.unique(x))))\n",
    ")\n",
    "dm[\"Valid Values\"] = (\n",
    "    dm[\"Valid Values\"]\n",
    "    .fillna(\"\")\n",
    "    .str.split(\",\")\n",
    "    .apply(lambda x: \",\".join([y.strip() for y in x]))\n",
    ")\n",
    "dm[\"DependsOn\"] = (\n",
    "    dm[\"DependsOn\"]\n",
    "    .fillna(\"\")\n",
    "    .str.split(\",\")\n",
    "    .apply(lambda x: \",\".join([y.strip() for y in x]))\n",
    ")\n",
    "\n",
    "# update data model to remove not listed for purposes of this RFC\n",
    "dm.loc[\n",
    "    dm[\"Attribute\"].str.contains(\"RFC\", regex=True, flags=re.IGNORECASE, na=False),\n",
    "    \"Module\",\n",
    "] = \"Ontology\"\n",
    "\n",
    "dm.loc[\n",
    "    dm[\"Attribute\"].str.contains(\"RFC\", regex=True, flags=re.IGNORECASE, na=False),\n",
    "    \"Description\",\n",
    "] = \"External ontology used for populating values\"\n",
    "\n",
    "dm.loc[\n",
    "    dm[\"Attribute\"].str.contains(\"RFC\", regex=True, flags=re.IGNORECASE, na=False),\n",
    "    \"Parent\",\n",
    "] = \"Ontology\"\n",
    "\n",
    "dm.loc[\n",
    "    dm[\"Attribute\"].str.contains(\"RFC\", regex=True, flags=re.IGNORECASE, na=False),\n",
    "    \"Ontology\",\n",
    "] = \"Self\"\n",
    "\n",
    "dm.loc[\n",
    "    dm[\"Attribute\"].str.contains(\"RFC\", regex=True, flags=re.IGNORECASE, na=False),\n",
    "    \"Attribute\",\n",
    "] = (\n",
    "    dm.loc[\n",
    "        dm[\"Attribute\"].str.contains(\"RFC\", regex=True, flags=re.IGNORECASE, na=False),\n",
    "        \"Attribute\",\n",
    "    ]\n",
    "    .str.split(\"(\")\n",
    "    .apply(lambda x: x[0].strip())\n",
    ")"
   ]
  },
  {
   "cell_type": "code",
   "execution_count": 77,
   "metadata": {},
   "outputs": [
    {
     "name": "stdout",
     "output_type": "stream",
     "text": [
      "Starting schematic...\n",
      "Done adding requirements and value ranges to attributes\n",
      "The Data Model was created and saved to '/Users/nlee/Documents/Projects/ELITE/ELITE-data-models/EL.data.model.jsonld' location.\n"
     ]
    }
   ],
   "source": [
    "# write out new model\n",
    "dm.to_csv(\"../EL.data.model.csv\", index=False)\n",
    "\n",
    "# convert csv model to jsonld\n",
    "!schematic schema convert {csv_model} --output_jsonld {json_model}"
   ]
  },
  {
   "cell_type": "code",
   "execution_count": null,
   "metadata": {},
   "outputs": [],
   "source": []
  }
 ],
 "metadata": {
  "kernelspec": {
   "display_name": "data-models-elite-98ShFYwe-py3.11",
   "language": "python",
   "name": "python3"
  },
  "language_info": {
   "codemirror_mode": {
    "name": "ipython",
    "version": 3
   },
   "file_extension": ".py",
   "mimetype": "text/x-python",
   "name": "python",
   "nbconvert_exporter": "python",
   "pygments_lexer": "ipython3",
   "version": "3.10.13"
  },
  "orig_nbformat": 4
 },
 "nbformat": 4,
 "nbformat_minor": 2
}
