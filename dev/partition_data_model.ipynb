{
 "cells": [
  {
   "cell_type": "code",
   "execution_count": 17,
   "metadata": {},
   "outputs": [
    {
     "name": "stderr",
     "output_type": "stream",
     "text": [
      "\n",
      "UPGRADE AVAILABLE\n",
      "\n",
      "A more recent version of the Synapse Client (3.0.0) is available. Your version (2.7.0) can be upgraded by typing:\n",
      "    pip install --upgrade synapseclient\n",
      "\n",
      "Python Synapse Client version 3.0.0 release notes\n",
      "\n",
      "https://python-docs.synapse.org/build/html/news.html\n",
      "\n"
     ]
    },
    {
     "name": "stdout",
     "output_type": "stream",
     "text": [
      "Welcome, Nicholas Lee!\n",
      "\n"
     ]
    }
   ],
   "source": [
    "import glob\n",
    "import os\n",
    "import pandas as pd\n",
    "import numpy as np\n",
    "import re\n",
    "import datetime\n",
    "import pathlib\n",
    "\n",
    "# custom package(s)\n",
    "from utils import utils, synapse_login\n",
    "\n",
    "syn = synapse_login.main()\n",
    "\n",
    "dm_name = \"../EL.data.model.csv\"\n",
    "output_path = \"../backups\"\n",
    "data_model = utils.load_and_backup_dm(dm_name, output_path)"
   ]
  },
  {
   "cell_type": "code",
   "execution_count": 18,
   "metadata": {},
   "outputs": [],
   "source": [
    "data_model = data_model.sort_values(by=[\"Parent\", \"Attribute\"]).reset_index(drop=True)\n",
    "\n",
    "# Join Models together to create one model\n",
    "\n",
    "partition_path = \"../models/partitions/*.csv\""
   ]
  },
  {
   "cell_type": "code",
   "execution_count": 19,
   "metadata": {},
   "outputs": [],
   "source": [
    "def create_data_model_partitions(data_model, partition_path):\n",
    "    \"\"\"Create partitions from the data model based on the Parent names\n",
    "\n",
    "    Args:\n",
    "        data_model (object): dataframe that contains the data model\n",
    "        partition_path (str): directory to store the partitioned data model as CSVs\n",
    "    \"\"\"\n",
    "    if not os.path.exists(partition_path):\n",
    "        os.path.mkdir(partition_path)\n",
    "\n",
    "    # Split by Parent\n",
    "    Parents = data_model[\"Parent\"].unique()\n",
    "\n",
    "    df_dict = {\n",
    "        m: data_model.loc[data_model[\"Parent\"] == m,].reset_index(drop=True)\n",
    "        for m in Parents\n",
    "    }\n",
    "\n",
    "    # write out partitions\n",
    "    for k, v in df_dict.items():\n",
    "        v.to_csv(pathlib.Path(partition_path, k + \".csv\"), index=False)"
   ]
  },
  {
   "cell_type": "code",
   "execution_count": 20,
   "metadata": {},
   "outputs": [],
   "source": [
    "def join_data_model_partitions(partition_path):\n",
    "    \"\"\"Join the partitions back together to form the data model used in DCA\n",
    "\n",
    "    Args:\n",
    "        partition_path (str): directory containing the partitions as CSVs\n",
    "\n",
    "    Returns:\n",
    "        object: pandas dataframe\n",
    "    \"\"\"\n",
    "    Parents = glob.glob(partition_path)\n",
    "    df_dict = {pathlib.Path(m).stem: pd.read_csv(m) for m in Parents}\n",
    "    data_model_full = (\n",
    "        pd.concat([pd.read_csv(m) for m in Parents])\n",
    "        .sort_values(by=[\"Parent\", \"Attribute\"])\n",
    "        .reset_index(drop=True)\n",
    "        .fillna(\"\")\n",
    "    )\n",
    "\n",
    "    data_model_full.info()\n",
    "\n",
    "    return data_model"
   ]
  },
  {
   "cell_type": "code",
   "execution_count": 21,
   "metadata": {},
   "outputs": [],
   "source": [
    "def write_out_data_model(data_model, file_path):\n",
    "    data_model.drop_duplicates(subset=[\"Attribute\"], inplace=True)\n",
    "    data_model.reset_index(drop=True, inplace=True)\n",
    "    data_model.to_csv(file_path, index=False)"
   ]
  },
  {
   "cell_type": "code",
   "execution_count": 22,
   "metadata": {},
   "outputs": [],
   "source": [
    "def main():\n",
    "    data_model_name = \"../EL.data.model.csv\"\n",
    "    partition_path = \"../models/partitions/\"\n",
    "    backup_path = os.path.join(\"../backups\", data_model_name)\n",
    "\n",
    "    # Load data model\n",
    "    data_model_path = pathlib.Path(data_model_name).resolve()\n",
    "    backup_path = pathlib.Path(backup_path).resolve()\n",
    "    data_model = utils.load_and_backup_data_model(data_model_path, backup_path)\n",
    "\n",
    "    # create partitions\n",
    "    create_data_model_partitions(data_model, partition_path)"
   ]
  },
  {
   "cell_type": "code",
   "execution_count": 23,
   "metadata": {},
   "outputs": [],
   "source": [
    "partition_path = \"../models/partitions/\"\n",
    "create_data_model_partitions(data_model, partition_path)"
   ]
  },
  {
   "cell_type": "code",
   "execution_count": null,
   "metadata": {},
   "outputs": [],
   "source": [
    "# Manually updating data model\n",
    "data_model.loc[\n",
    "    data_model[\"Parent\"] == \"Template\", \"Description\"\n",
    "] = \"Template used for contributing metadata to the ELITE portal\"\n",
    "\n",
    "data_model.loc[\n",
    "    data_model[\"Attribute\"] == \"bsSeq (bisulfite-seq WGBS methylseq methylomics)\",\n",
    "    [\"Attribute\", \"Description\"],\n",
    "] = [\"bsSeq\", \"bisulfite-seq WGBS methylseq methylomics\"]"
   ]
  },
  {
   "cell_type": "code",
   "execution_count": null,
   "metadata": {},
   "outputs": [],
   "source": [
    "# Trying to see if having this extra column helps trace dependencies\n",
    "data_model[\"UsedIn\"] = \"\"\n",
    "\n",
    "for i, d in data_model.loc[data_model[\"Parent\"] == \"Template\",].iterrows():\n",
    "    attr = d[\"Attribute\"]\n",
    "    dependsOn = d[\"DependsOn\"].split(\",\")\n",
    "    data_model.loc[data_model[\"Attribute\"].isin(dependsOn), \"UsedIn\"] += \",\" + attr\n",
    "\n",
    "data_model[\"UsedIn\"] = (\n",
    "    data_model[\"UsedIn\"]\n",
    "    .str.split(\",\")\n",
    "    .apply(lambda x: \",\".join([y.strip() for y in x if len(y) > 0]))\n",
    ")"
   ]
  },
  {
   "cell_type": "code",
   "execution_count": null,
   "metadata": {},
   "outputs": [],
   "source": [
    "write_out_data_model(data_model, dm_name)"
   ]
  },
  {
   "cell_type": "code",
   "execution_count": null,
   "metadata": {},
   "outputs": [],
   "source": [
    "# Only keep five most recent backups\n",
    "backup_files = sorted(glob.glob(\"../backups/*.csv\"))\n",
    "\n",
    "if len(backup_files) > 5:\n",
    "    for d in backup_files[:-5]:\n",
    "        os.remove(d)"
   ]
  },
  {
   "cell_type": "code",
   "execution_count": null,
   "metadata": {},
   "outputs": [],
   "source": [
    "partition_path = \"../models/partitions/*.csv\"\n",
    "dm = join_data_model_partitions(partition_path)"
   ]
  },
  {
   "cell_type": "code",
   "execution_count": null,
   "metadata": {},
   "outputs": [],
   "source": [
    "write_out_data_model(dm, \"../EL.data.model.csv\")"
   ]
  }
 ],
 "metadata": {
  "kernelspec": {
   "display_name": "elite-data-models-LjmgyG4K-py3.10",
   "language": "python",
   "name": "python3"
  },
  "language_info": {
   "codemirror_mode": {
    "name": "ipython",
    "version": 3
   },
   "file_extension": ".py",
   "mimetype": "text/x-python",
   "name": "python",
   "nbconvert_exporter": "python",
   "pygments_lexer": "ipython3",
   "version": "3.10.13"
  },
  "orig_nbformat": 4
 },
 "nbformat": 4,
 "nbformat_minor": 2
}
