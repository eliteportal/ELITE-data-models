{
 "cells": [
  {
   "cell_type": "code",
   "execution_count": 14,
   "metadata": {},
   "outputs": [
    {
     "name": "stdout",
     "output_type": "stream",
     "text": [
      "Successfully joined modules. \n",
      " Creating data model at ../EL.data.model.csv\n"
     ]
    }
   ],
   "source": [
    "from glob import glob\n",
    "import pandas as pd\n",
    "\n",
    "modules = glob(\"../modules/*.csv\")\n",
    "modules\n",
    "modules_df = []\n",
    "\n",
    "for m in modules:\n",
    "    temp_df = pd.read_csv(m)\n",
    "    temp_df = temp_df.drop(columns=[\"Unnamed: 0\"], errors=\"ignore\")\n",
    "    modules_df.append(temp_df)\n",
    "\n",
    "full_model = pd.concat(modules_df)\n",
    "\n",
    "dups = full_model.duplicated(subset=\"Attribute\").sum()\n",
    "\n",
    "model_path = \"../EL.data.model.csv\"\n",
    "if dups > 0:\n",
    "    print(\n",
    "        f\"{dups} duplicates found in the data model. Check attributes to remove. All Attributes must be unique\"\n",
    "    )\n",
    "else:\n",
    "    print(f\"Successfully joined modules. \\n Creating data model at {model_path}\")\n",
    "    full_model.to_csv(model_path, index=False)"
   ]
  },
  {
   "cell_type": "code",
   "execution_count": 6,
   "metadata": {},
   "outputs": [
    {
     "data": {
      "text/html": [
       "<div>\n",
       "<style scoped>\n",
       "    .dataframe tbody tr th:only-of-type {\n",
       "        vertical-align: middle;\n",
       "    }\n",
       "\n",
       "    .dataframe tbody tr th {\n",
       "        vertical-align: top;\n",
       "    }\n",
       "\n",
       "    .dataframe thead th {\n",
       "        text-align: right;\n",
       "    }\n",
       "</style>\n",
       "<table border=\"1\" class=\"dataframe\">\n",
       "  <thead>\n",
       "    <tr style=\"text-align: right;\">\n",
       "      <th></th>\n",
       "      <th>Attribute</th>\n",
       "      <th>Description</th>\n",
       "      <th>Valid Values</th>\n",
       "      <th>DependsOn</th>\n",
       "      <th>Properties</th>\n",
       "      <th>Required</th>\n",
       "      <th>Parent</th>\n",
       "      <th>DependsOn Component</th>\n",
       "      <th>Source</th>\n",
       "      <th>Validation Rules</th>\n",
       "      <th>Module</th>\n",
       "      <th>Ontology</th>\n",
       "      <th>UsedIn</th>\n",
       "      <th>columnType</th>\n",
       "    </tr>\n",
       "  </thead>\n",
       "  <tbody>\n",
       "  </tbody>\n",
       "</table>\n",
       "</div>"
      ],
      "text/plain": [
       "Empty DataFrame\n",
       "Columns: [Attribute, Description, Valid Values, DependsOn, Properties, Required, Parent, DependsOn Component, Source, Validation Rules, Module, Ontology, UsedIn, columnType]\n",
       "Index: []"
      ]
     },
     "execution_count": 6,
     "metadata": {},
     "output_type": "execute_result"
    }
   ],
   "source": [
    "full_model.loc[full_model.duplicated(subset = 'Attribute', keep=False), ].sort_values('Attribute')"
   ]
  },
  {
   "cell_type": "code",
   "execution_count": 9,
   "metadata": {},
   "outputs": [
    {
     "data": {
      "text/plain": [
       "array(['Instrument', 'Template', 'Analysis', 'ValidValues', 'Assay',\n",
       "       'Other', 'Project', 'Ontology', 'Repository', 'SampleType',\n",
       "       'Unspecified', 'Unit', 'Metadata', 'Model Organism',\n",
       "       'BaseAnnotation'], dtype=object)"
      ]
     },
     "execution_count": 9,
     "metadata": {},
     "output_type": "execute_result"
    }
   ],
   "source": [
    "full_model.Module.unique()"
   ]
  },
  {
   "cell_type": "code",
   "execution_count": null,
   "metadata": {},
   "outputs": [],
   "source": []
  }
 ],
 "metadata": {
  "kernelspec": {
   "display_name": "elite-data-models-LjmgyG4K-py3.10",
   "language": "python",
   "name": "python3"
  },
  "language_info": {
   "codemirror_mode": {
    "name": "ipython",
    "version": 3
   },
   "file_extension": ".py",
   "mimetype": "text/x-python",
   "name": "python",
   "nbconvert_exporter": "python",
   "pygments_lexer": "ipython3",
   "version": "3.10.13"
  }
 },
 "nbformat": 4,
 "nbformat_minor": 2
}
