{
 "cells": [
  {
   "cell_type": "code",
   "execution_count": 3,
   "metadata": {},
   "outputs": [
    {
     "name": "stderr",
     "output_type": "stream",
     "text": [
      "\n",
      "UPGRADE AVAILABLE\n",
      "\n",
      "A more recent version of the Synapse Client (3.1.0) is available. Your version (2.7.0) can be upgraded by typing:\n",
      "    pip install --upgrade synapseclient\n",
      "\n",
      "Python Synapse Client version 3.1.0 release notes\n",
      "\n",
      "https://python-docs.synapse.org/build/html/news.html\n",
      "\n"
     ]
    },
    {
     "name": "stdout",
     "output_type": "stream",
     "text": [
      "Welcome, Nicholas Lee!\n",
      "\n"
     ]
    }
   ],
   "source": [
    "import os\n",
    "import pandas as pd\n",
    "import numpy as np\n",
    "import re\n",
    "import datetime\n",
    "import pathlib\n",
    "import synapseclient\n",
    "\n",
    "# custom package(s)\n",
    "from utils import utils, synapse_login\n",
    "\n",
    "import yaml\n",
    "import pathlib\n",
    "\n",
    "with open(\"./local_configs/notebook_config.yaml\", \"r\") as f:\n",
    "    config = yaml.safe_load(f)\n",
    "\n",
    "csv_model = pathlib.Path(\"../\" + config[\"file_names\"][\"csv_model\"]).resolve()\n",
    "json_model = pathlib.Path(\"../\" + config[\"file_names\"][\"json_model\"]).resolve()\n",
    "\n",
    "syn = synapse_login.main()"
   ]
  },
  {
   "cell_type": "code",
   "execution_count": 4,
   "metadata": {},
   "outputs": [],
   "source": [
    "studies = syn.tableQuery(\"select * FROM syn51209885.4\")\n",
    "studies = studies.asDataFrame().fillna(\"\")"
   ]
  },
  {
   "cell_type": "code",
   "execution_count": 11,
   "metadata": {},
   "outputs": [
    {
     "data": {
      "text/plain": [
       "{'studyKey': ['MRGWAS'],\n",
       " 'studyName': ['The Mendelian randomization of human longevity using genetically-predicted exposures from the GWAS catalog (MRGWAS) study'],\n",
       " 'project': ['LG'],\n",
       " 'dataTypeAll': ['Analysis'],\n",
       " 'species': ['Human'],\n",
       " 'specimenType': ['Blood'],\n",
       " 'dataContributor': ['California Pacific Medical Center',\n",
       "  'Buck Institute for Research on Aging',\n",
       "  'Translational Genomics Research Institute',\n",
       "  'University of California San Francisco'],\n",
       " 'studyAbstract': ['This study provides analysis results of a two Sample Mendelian Randomization used to analyze the relationship between significantly associated GWAS traits and five distinct definitions of longevity '],\n",
       " 'studyDescription': ['syn26066886'],\n",
       " 'studyFocus': ['Longevity'],\n",
       " 'program': ['ELITE'],\n",
       " 'grantNumber': ['U24AG051129'],\n",
       " 'studyWiki': ['syn26066886'],\n",
       " 'acknowledgement': ['syn27229419/wiki/621603'],\n",
       " 'methods': ['syn26128990'],\n",
       " 'relatedStudies': ['ADAMTS7',\n",
       "  ' Aging-PheWAS',\n",
       "  ' ELPSCRNA',\n",
       "  ' LLFS',\n",
       "  ' Organoid scRNAseq'],\n",
       " 'studyType': ['Individual'],\n",
       " 'isModelSystem': [False],\n",
       " 'isFeatured': [False],\n",
       " 'ackContext': ['syn27229419/wiki/622005'],\n",
       " 'studyMetadata': ['syn26066886'],\n",
       " 'accessReqs': ['syn27229419/wiki/621276'],\n",
       " 'isReleased': [False],\n",
       " 'newsRelease': [''],\n",
       " 'resourceType': 'metadata',\n",
       " 'metadataType': 'study'}"
      ]
     },
     "execution_count": 11,
     "metadata": {},
     "output_type": "execute_result"
    }
   ],
   "source": [
    "study = syn.get_annotations(\"syn26066886\")\n",
    "studyKey = \"MRGWAS\"\n",
    "\n",
    "new_annos = studies.loc[studies[\"studyKey\"] == studyKey].to_dict(\"list\")\n",
    "\n",
    "new_dict = {}\n",
    "\n",
    "for k, v in new_annos.items():\n",
    "    for i in v:\n",
    "        if isinstance(i, list):\n",
    "            new_dict[k] = i\n",
    "        else:\n",
    "            new_dict[k] = v\n",
    "\n",
    "new_dict.update({\"resourceType\": \"metadata\", \"metadataType\": \"study\"})\n",
    "\n",
    "new_annos = synapseclient.Annotations(study._id, study._etag, new_dict)\n",
    "study = syn.set_annotations(new_annos)\n",
    "\n",
    "new_dict"
   ]
  },
  {
   "cell_type": "code",
   "execution_count": 1,
   "metadata": {},
   "outputs": [
    {
     "ename": "NameError",
     "evalue": "name 'new_dict' is not defined",
     "output_type": "error",
     "traceback": [
      "\u001b[0;31m---------------------------------------------------------------------------\u001b[0m",
      "\u001b[0;31mNameError\u001b[0m                                 Traceback (most recent call last)",
      "\u001b[1;32m/Users/nlee/Documents/Projects/ELITE/ELITE-data-models/dev/sandbox.ipynb Cell 4\u001b[0m line \u001b[0;36m1\n\u001b[0;32m----> <a href='vscode-notebook-cell:/Users/nlee/Documents/Projects/ELITE/ELITE-data-models/dev/sandbox.ipynb#W4sZmlsZQ%3D%3D?line=0'>1</a>\u001b[0m new_dict\u001b[39m.\u001b[39mkeys()\n",
      "\u001b[0;31mNameError\u001b[0m: name 'new_dict' is not defined"
     ]
    }
   ],
   "source": [
    "new_dict.keys()"
   ]
  },
  {
   "cell_type": "code",
   "execution_count": 5,
   "metadata": {},
   "outputs": [
    {
     "name": "stdout",
     "output_type": "stream",
     "text": [
      "studyKey,\n",
      "studyName,\n",
      "project,\n",
      "dataTypeAll,\n",
      "species,\n",
      "specimenType,\n",
      "dataContributor,\n",
      "studyAbstract,\n",
      "studyDescription,\n",
      "studyFocus,\n",
      "program,\n",
      "grantNumber,\n",
      "studyWiki,\n",
      "acknowledgement,\n",
      "methods,\n",
      "relatedStudies,\n",
      "studyType,\n",
      "isModelSystem,\n",
      "isFeatured,\n",
      "ackContext,\n",
      "studyMetadata,\n",
      "accessReqs,\n",
      "isReleased,\n",
      "newsRelease,\n"
     ]
    }
   ],
   "source": [
    "for i in studies.columns: \n",
    "    print(i + ',')"
   ]
  },
  {
   "cell_type": "code",
   "execution_count": null,
   "metadata": {},
   "outputs": [],
   "source": []
  }
 ],
 "metadata": {
  "kernelspec": {
   "display_name": "cohort-builder-data-dictionary-fOfjgXmU-py3.10",
   "language": "python",
   "name": "python3"
  },
  "language_info": {
   "codemirror_mode": {
    "name": "ipython",
    "version": 3
   },
   "file_extension": ".py",
   "mimetype": "text/x-python",
   "name": "python",
   "nbconvert_exporter": "python",
   "pygments_lexer": "ipython3",
   "version": "3.10.13"
  }
 },
 "nbformat": 4,
 "nbformat_minor": 2
}
