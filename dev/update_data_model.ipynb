{
 "cells": [
  {
   "cell_type": "markdown",
   "metadata": {},
   "source": [
    "Update Data Model\n"
   ]
  },
  {
   "cell_type": "code",
   "execution_count": null,
   "metadata": {},
   "outputs": [],
   "source": [
    "import pandas as pd\n",
    "import numpy as np\n",
    "import os\n",
    "\n",
    "from glob import glob\n",
    "import yaml\n",
    "import re"
   ]
  },
  {
   "cell_type": "code",
   "execution_count": null,
   "metadata": {},
   "outputs": [],
   "source": [
    "dm_elite = pd.read_csv(\n",
    "    \"C:/Users/nlee/Documents/Projects/ELITE-DCC/ELITE-data-models/models/EL_data_model_v3.csv\").iloc[:, 1:]\n",
    "\n",
    "dm_elite = dm_elite.replace({\"\", np.nan})"
   ]
  },
  {
   "cell_type": "markdown",
   "metadata": {},
   "source": [
    "Updates 2023-09-06\n"
   ]
  },
  {
   "cell_type": "code",
   "execution_count": null,
   "metadata": {},
   "outputs": [],
   "source": [
    "atrs_to_fix = [\n",
    "    'sequencingBatchID',  # needs to accept numerical values\n",
    "    'libraryVersion',  # needs to accept numerical values\n",
    "]"
   ]
  },
  {
   "cell_type": "code",
   "execution_count": null,
   "metadata": {},
   "outputs": [],
   "source": [
    "vv = \"\"\n",
    "vr = \"regex search ^[0-9]+|(Unknown)|(Not collected)|(Not applicable)|(Not Specified)\""
   ]
  },
  {
   "cell_type": "code",
   "execution_count": null,
   "metadata": {},
   "outputs": [],
   "source": [
    "for a in atrs_to_fix:\n",
    "    fix_index = dm_elite.query('Attribute == @a').index[0]\n",
    "    dm_elite.loc[fix_index, 'Valid Values'] = vv\n",
    "    dm_elite.loc[dm_elite.query(\n",
    "        'Attribute == @a').index[0], 'Validation Rules'] = vr"
   ]
  },
  {
   "cell_type": "code",
   "execution_count": null,
   "metadata": {},
   "outputs": [],
   "source": [
    "dm_elite.query('Attribute in @atrs_to_fix')"
   ]
  },
  {
   "cell_type": "markdown",
   "metadata": {},
   "source": [
    "# Write out new model\n"
   ]
  },
  {
   "cell_type": "code",
   "execution_count": null,
   "metadata": {},
   "outputs": [],
   "source": [
    "# write out versioned data model\n",
    "new_model_name = 'C:/Users/nlee/Documents/Projects/ELITE-DCC/ELITE-data-models/old_models/EL_data_model_v3.2.1.csv'\n",
    "\n",
    "dm_elite.to_csv(new_model_name)\n",
    "\n",
    "# write out versioned data model\n",
    "dm_elite.to_csv(\n",
    "    'C:/Users/nlee/Documents/Projects/ELITE-DCC/ELITE-data-models/models/EL_data_model_v3.csv')"
   ]
  },
  {
   "cell_type": "code",
   "execution_count": null,
   "metadata": {},
   "outputs": [],
   "source": [
    "# update notebook config\n",
    "import yaml\n",
    "import os\n",
    "\n",
    "with open(\"C:/Users/nlee/Documents/Projects/ELITE-DCC/configs/notebook_config.yaml\", 'r') as f:\n",
    "    config = yaml.safe_load(f)\n",
    "\n",
    "config['file_names']['csv_model'] = new_model_name\n",
    "\n",
    "with open(\"C:/Users/nlee/Documents/Projects/ELITE-DCC/configs/notebook_config.yaml\", 'w') as f:\n",
    "    config = yaml.dump(config, f)"
   ]
  },
  {
   "cell_type": "code",
   "execution_count": null,
   "metadata": {},
   "outputs": [],
   "source": [
    "!python C:/Users/nlee/Documents/Projects/ELITE-DCC/notebooks/convert_csv_to_json.py"
   ]
  }
 ],
 "metadata": {
  "kernelspec": {
   "display_name": "schematic",
   "language": "python",
   "name": "python3"
  },
  "language_info": {
   "codemirror_mode": {
    "name": "ipython",
    "version": 3
   },
   "file_extension": ".py",
   "mimetype": "text/x-python",
   "name": "python",
   "nbconvert_exporter": "python",
   "pygments_lexer": "ipython3",
   "version": "3.9.13"
  },
  "orig_nbformat": 4
 },
 "nbformat": 4,
 "nbformat_minor": 2
}
