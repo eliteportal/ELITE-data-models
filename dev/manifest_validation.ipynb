{
 "cells": [
  {
   "cell_type": "markdown",
   "metadata": {},
   "source": [
    "# Manifest Validation\n"
   ]
  },
  {
   "cell_type": "code",
   "execution_count": null,
   "metadata": {},
   "outputs": [],
   "source": []
  },
  {
   "cell_type": "markdown",
   "metadata": {},
   "source": [
    "# Validation of manifests\n"
   ]
  },
  {
   "cell_type": "code",
   "execution_count": null,
   "metadata": {},
   "outputs": [],
   "source": [
    "# number of rows to fill in\n",
    "nrows = 10\n",
    "random.seed = 27\n",
    "\n",
    "# last minute chaos\n",
    "chaos = False"
   ]
  },
  {
   "cell_type": "markdown",
   "metadata": {},
   "source": [
    "Functions\n"
   ]
  },
  {
   "cell_type": "code",
   "execution_count": null,
   "metadata": {},
   "outputs": [],
   "source": [
    "def valid_values_to_list(df, attribute):\n",
    "    valid_values = (\n",
    "        df.query(f'Attribute == \"{attribute}\"')[\n",
    "            \"Valid Values\"].str.split(\",\").values[0]\n",
    "    )\n",
    "\n",
    "    return valid_values"
   ]
  },
  {
   "cell_type": "code",
   "execution_count": null,
   "metadata": {},
   "outputs": [],
   "source": [
    "def get_random_value(list_of_vv):\n",
    "    return random.choice(list_of_vv)"
   ]
  },
  {
   "cell_type": "code",
   "execution_count": null,
   "metadata": {},
   "outputs": [],
   "source": [
    "def get_rand_integer(min=0, max=100):\n",
    "    return random.randint(min, max)"
   ]
  },
  {
   "cell_type": "code",
   "execution_count": null,
   "metadata": {},
   "outputs": [],
   "source": [
    "def get_rand_float(min=0, max=100):\n",
    "    return round(random.uniform(0.0, 100.0), 2)"
   ]
  },
  {
   "cell_type": "code",
   "execution_count": null,
   "metadata": {},
   "outputs": [],
   "source": [
    "def get_random_string():\n",
    "    t = lorem.sentence().split(\" \")[0]\n",
    "    return t"
   ]
  },
  {
   "cell_type": "code",
   "execution_count": null,
   "metadata": {},
   "outputs": [],
   "source": [
    "def introduce_random_NAs(df, N=5):\n",
    "    \"\"\"Another test to see if columns can handle empty values or if they will flag the empty value\"\"\"\n",
    "\n",
    "    rows, cols = df.shape\n",
    "\n",
    "    row_index = [get_rand_integer(max=rows - 1) for _ in range(N)]\n",
    "\n",
    "    col_index = [get_rand_integer(max=cols - 1) for _ in range(N)]\n",
    "\n",
    "    indexes = list(zip(row_index, col_index))\n",
    "\n",
    "    # Print indexes to check where values got replaced\n",
    "    print(indexes)\n",
    "    # for i in indexes\n",
    "    df.iloc[row_index, col_index] = np.NaN\n",
    "\n",
    "    return df"
   ]
  },
  {
   "cell_type": "code",
   "execution_count": null,
   "metadata": {},
   "outputs": [],
   "source": [
    "# find attribute column, fill in with value\n",
    "def fill_in_attribute(df, index, attribute, value):\n",
    "    df.loc[index, attribute] = value\n",
    "    return df"
   ]
  },
  {
   "cell_type": "code",
   "execution_count": null,
   "metadata": {},
   "outputs": [],
   "source": [
    "def gen_mixed_string_with_length(N=12):\n",
    "    # initializing size of string\n",
    "\n",
    "    # using random.choices()\n",
    "    # generating random strings\n",
    "    res = \"\".join(random.choices(string.ascii_uppercase + string.digits, k=N))\n",
    "\n",
    "    # print result\n",
    "    return res"
   ]
  },
  {
   "cell_type": "code",
   "execution_count": null,
   "metadata": {},
   "outputs": [],
   "source": [
    "def random_change():\n",
    "    # list of functions to choose from\n",
    "    choices = [\n",
    "        introduce_random_NAs,\n",
    "        gen_mixed_string_with_length,\n",
    "        get_rand_integer,\n",
    "        get_random_string,\n",
    "        get_rand_float,\n",
    "    ]\n",
    "\n",
    "    choice = random.choice(choices)\n",
    "\n",
    "    print(choice.__name__)\n",
    "\n",
    "    return choice()"
   ]
  },
  {
   "cell_type": "code",
   "execution_count": null,
   "metadata": {},
   "outputs": [],
   "source": [
    "def partition(list_in, n):\n",
    "    random.shuffle(list_in)\n",
    "    return [list_in[i::n] for i in range(n)]"
   ]
  },
  {
   "cell_type": "markdown",
   "metadata": {},
   "source": [
    "Create individual and biospecimen ids from random text\n"
   ]
  },
  {
   "cell_type": "code",
   "execution_count": null,
   "metadata": {},
   "outputs": [],
   "source": [
    "# for individaul IDs and specimenIDs\n",
    "individaulIds = [gen_mixed_string_with_length(N=5) for _ in range(1, 100)]\n",
    "specimenIds = [gen_mixed_string_with_length() for _ in range(1, 1000)]"
   ]
  },
  {
   "cell_type": "code",
   "execution_count": null,
   "metadata": {},
   "outputs": [],
   "source": [
    "specimenIds_partitioned = partition(specimenIds, 100)"
   ]
  },
  {
   "cell_type": "code",
   "execution_count": null,
   "metadata": {},
   "outputs": [],
   "source": [
    "ind_bio_map = []\n",
    "\n",
    "for i, v in enumerate(individaulIds):\n",
    "    for s in specimenIds_partitioned[i]:\n",
    "        ind_bio_map.append({\"individualID\": v, \"specimenID\": s})\n",
    "\n",
    "ind_bio_map = pd.DataFrame(ind_bio_map)"
   ]
  },
  {
   "cell_type": "code",
   "execution_count": null,
   "metadata": {},
   "outputs": [],
   "source": [
    "# Manifests\n",
    "# Get all the RFC file paths\n",
    "manifest_paths = glob(\n",
    "    r\"C:\\Users\\nlee\\Documents\\Projects\\ELITE-DCC\\ELITE-data-models\\manifests\\*.csv\"\n",
    ")\n",
    "manifest_paths"
   ]
  },
  {
   "cell_type": "markdown",
   "metadata": {},
   "source": [
    "Tested:\n",
    "\n",
    "- scRNAseq : Passed (Need to add validation for biospecimenId)\n"
   ]
  },
  {
   "cell_type": "code",
   "execution_count": null,
   "metadata": {},
   "outputs": [],
   "source": [
    "# load data model\n",
    "data_model_path = r\"C:\\Users\\nlee\\Documents\\Projects\\ELITE-DCC\\ELITE-data-models\\models\\EL_data_model_v3.csv\"\n",
    "\n",
    "dm = pd.read_csv(data_model_path).iloc[:, 1:].fillna(\"\")\n",
    "\n",
    "dm.head()"
   ]
  },
  {
   "cell_type": "code",
   "execution_count": null,
   "metadata": {},
   "outputs": [],
   "source": [
    "# load manifest\n",
    "manifest_path = \"C:\\\\Users\\\\nlee\\\\Documents\\\\Projects\\\\ELITE-DCC\\\\ELITE-data-models\\\\manifests\\\\WholeGenomeSequencing.csv\"\n",
    "\n",
    "df = pd.read_csv(manifest_path)\n",
    "\n",
    "df.head()"
   ]
  },
  {
   "cell_type": "code",
   "execution_count": null,
   "metadata": {},
   "outputs": [],
   "source": [
    "manifest_name = Path(manifest_path).stem\n",
    "\n",
    "parent_name = manifest_name_relationships[manifest_name]\n",
    "\n",
    "df[\"Component\"] = manifest_name"
   ]
  },
  {
   "cell_type": "code",
   "execution_count": null,
   "metadata": {},
   "outputs": [],
   "source": [
    "# Attributes from data model\n",
    "attrs_to_fill = dm[dm[\"Attribute\"] == (\n",
    "    parent_name)][\"DependsOn\"].values[0].split(\",\")\n",
    "\n",
    "attrs_to_fill"
   ]
  },
  {
   "cell_type": "code",
   "execution_count": null,
   "metadata": {},
   "outputs": [],
   "source": [
    "dm_attrs = (\n",
    "    dm[(dm[\"Attribute\"].isin(attrs_to_fill))]\n",
    "    .drop_duplicates(subset=[\"Attribute\"])\n",
    "    .copy()\n",
    ")\n",
    "\n",
    "dm_attrs"
   ]
  },
  {
   "cell_type": "code",
   "execution_count": null,
   "metadata": {},
   "outputs": [],
   "source": [
    "# find values in dm_attrrs with valid values filled in\n",
    "vv_attrs = dm_attrs[dm_attrs[\"Valid Values\"] != \"\"][\"Attribute\"].tolist()"
   ]
  },
  {
   "cell_type": "code",
   "execution_count": null,
   "metadata": {},
   "outputs": [],
   "source": [
    "# fill in values for the mainfest with the data model\n",
    "for attribute in vv_attrs:\n",
    "    for i in range(nrows):\n",
    "        index = i\n",
    "        temp_vv = valid_values_to_list(dm_attrs, attribute)\n",
    "        new_val = get_random_value(temp_vv)\n",
    "        df = fill_in_attribute(df, index, attribute, new_val)"
   ]
  },
  {
   "cell_type": "code",
   "execution_count": null,
   "metadata": {},
   "outputs": [],
   "source": [
    "# update df with sample of individual and biospecimen sample ids\n",
    "ind_sample = ind_bio_map.sample(nrows, replace=True)[\n",
    "    [\"individualID\", \"specimenID\"]\n",
    "].reset_index(drop=True)\n",
    "\n",
    "df.update(ind_sample)"
   ]
  },
  {
   "cell_type": "code",
   "execution_count": null,
   "metadata": {},
   "outputs": [],
   "source": [
    "swap_validation_coder = {v: k for k, v in validation_coder.items()}\n",
    "\n",
    "# column coding for values\n",
    "dm_attrs[\"swapper\"] = (\n",
    "    dm_attrs[\"Validation Rules\"].fillna(\n",
    "        \"number\").replace(swap_validation_coder)\n",
    ")\n",
    "\n",
    "dm_attrs[\"swapper\"] = dm_attrs[\"swapper\"].apply(\n",
    "    lambda x: re.sub(\"^\\d*?\\.?\\d$\", \"number\", x)\n",
    ")\n",
    "\n",
    "# need a better regex later\n",
    "dm_attrs[\"swapper\"] = dm_attrs[\"swapper\"].apply(\n",
    "    lambda x: re.sub(\n",
    "        \"number numbernumbernumbernumbernumbernumbernumbernumbernumbernumbernumbernumbernumbernumbernumbernumbernumbernumbernumbernumbernumbernumbernumbernumbernumbernumber\",\n",
    "        \"number\",\n",
    "        x,\n",
    "    )\n",
    ")\n",
    "\n",
    "print(dm_attrs[\"swapper\"].unique())\n",
    "\n",
    "dm_attrs.head()"
   ]
  },
  {
   "cell_type": "code",
   "execution_count": null,
   "metadata": {},
   "outputs": [],
   "source": [
    "free_form_attrs = dm_attrs[\n",
    "    (dm_attrs[\"Valid Values\"] == \"\")\n",
    "    & (~dm_attrs[\"Attribute\"].isin([\"individualID\", \"specimenID\"]))\n",
    "]\n",
    "\n",
    "free_form_attrs"
   ]
  },
  {
   "cell_type": "code",
   "execution_count": null,
   "metadata": {},
   "outputs": [],
   "source": [
    "def generate_values(value):\n",
    "    if value == 'string':\n",
    "        # generate string\n",
    "        return get_random_string()\n",
    "    elif value == 'number':\n",
    "        # generate random number\n",
    "        return get_rand_integer()\n",
    "    elif value == 'mixed'\n",
    "        # split string into regex expressions i.e. numbers and valid values\n",
    "        choices = ['string', 'number']\n",
    "        # chose random to fill in cell"
   ]
  },
  {
   "cell_type": "code",
   "execution_count": null,
   "metadata": {},
   "outputs": [],
   "source": [
    "test = \"([0-9]+\\\\.[0-9]*.)|([0-9]+)\"\n",
    "test2 = \"^\\\\d*?\\\\.?\\\\d$|Other|Unknown|Not collected|Not applicable\"\n",
    "\n",
    "# def match_pattern(rule):\n",
    "\n",
    "pattern_checker = {\n",
    "    \"strip_patterns\": \"regex|search|match\",\n",
    "    \"number\": \"(?![a-zA-Z]+)(\\[0-9\\])\",\n",
    "    \"string\": \"([a-zA-Z]+)(?!\\[0-9\\])\",\n",
    "    \"mixed\": \"(?:[a-zA-Z]+\\d+)\",\n",
    "}\n",
    "\n",
    "result = False\n",
    "\n",
    "while result == False:\n",
    "    for k, v in pattern_checker.items():\n",
    "        result = bool(re.search(pattern=v, string=test))\n",
    "        print(pattern)\n",
    "        print(result)\n",
    "\n",
    "\n",
    "# pattern = '(?![a-zA-Z]+)(\\[0-9\\])'\n",
    "# results = bool(re.search(pattern = pattern, string = test))\n",
    "# results"
   ]
  },
  {
   "cell_type": "code",
   "execution_count": null,
   "metadata": {},
   "outputs": [],
   "source": [
    "for attribute in free_form_attrs[\"Attribute\"].tolist():\n",
    "    for i in range(nrows):\n",
    "        index = i\n",
    "        test = free_form_attrs.query(f'Attribute == \"{attribute}\"')\n",
    "        new_val = test[\"swapper\"].apply(generate_values).values[0]\n",
    "        df = fill_in_attribute(df, index, attribute, new_val)"
   ]
  },
  {
   "cell_type": "code",
   "execution_count": null,
   "metadata": {},
   "outputs": [],
   "source": [
    "# write out test manifest to file for testing in DCA\n",
    "df[\"Component\"] = manifest_name\n",
    "\n",
    "if chaos:\n",
    "    df = introduce_random_NAs(df)"
   ]
  },
  {
   "cell_type": "code",
   "execution_count": null,
   "metadata": {},
   "outputs": [],
   "source": [
    "# Write out manifest\n",
    "csv_path = os.path.join(\n",
    "    r\"C:\\Users\\nlee\\Documents\\Projects\\ELITE-DCC\\ELITE-data-models\\test_manifests\",\n",
    "    manifest_name + \"_test.csv\",\n",
    ")\n",
    "\n",
    "df.to_csv(csv_path)"
   ]
  },
  {
   "cell_type": "markdown",
   "metadata": {},
   "source": [
    "# Run Validation Test\n"
   ]
  },
  {
   "cell_type": "code",
   "execution_count": null,
   "metadata": {},
   "outputs": [],
   "source": [
    "# manifest_path = \"C:/Users/nlee/Documents/Projects/schematic/schematic/tests/data/mock_manifests/example_biospecimen_test.csv\"\n",
    "print(\n",
    "    f\"schematic model --config {schematic_config} validate --manifest_path {csv_path} --data_type {manifest_name}\")\n",
    "!schematic model --config {schematic_config} validate --manifest_path {csv_path} --data_type {manifest_name}"
   ]
  },
  {
   "cell_type": "markdown",
   "metadata": {},
   "source": [
    "# Submit Manifest\n"
   ]
  },
  {
   "cell_type": "code",
   "execution_count": null,
   "metadata": {},
   "outputs": [],
   "source": [
    "print(csv_path)\n",
    "print(schematic_config)\n",
    "print(manifest_name)\n",
    "dataset_id = \"syn51753850\""
   ]
  },
  {
   "cell_type": "markdown",
   "metadata": {},
   "source": [
    "- d option is the project\n"
   ]
  },
  {
   "cell_type": "code",
   "execution_count": null,
   "metadata": {},
   "outputs": [],
   "source": [
    "dataset_id = 'syn51753844'\n",
    "\n",
    "!schematic model --config C:/Users/nlee/Documents/Projects/schematic/schematic/config.yml submit -mp C:/Users/nlee/Documents/Projects/ELITE-DCC/ELITE-data-models/test_manifests/WholeGenomeSequencing_test.csv -d syn51753850 -vc WholeGenomeSequencing -mrt both"
   ]
  },
  {
   "cell_type": "code",
   "execution_count": null,
   "metadata": {},
   "outputs": [],
   "source": [
    "search_df(dm2, \"valueReported\")"
   ]
  },
  {
   "cell_type": "markdown",
   "metadata": {},
   "source": [
    "# Store Manifest In Dataset For Testing\n"
   ]
  },
  {
   "cell_type": "code",
   "execution_count": null,
   "metadata": {},
   "outputs": [],
   "source": [
    "import synapseclient\n",
    "from synapseclient import File\n",
    "\n",
    "manifest_folder_id = 'syn51728840'\n",
    "\n",
    "%run C:\\Users\\nlee\\Documents\\Projects\\utils\\syanpse_login.py\n"
   ]
  },
  {
   "cell_type": "code",
   "execution_count": null,
   "metadata": {},
   "outputs": [],
   "source": [
    "csv_entity = File(\n",
    "    csv_path,\n",
    "    description=f\"Test manifest for {manifest_name}\",\n",
    "    parent=data_folder,\n",
    "    annotations={\"resourceType\": \"manifest\", \"manifestType\": {manifest_name}},\n",
    ")\n",
    "\n",
    "csv_entity = syn.store(csv_entity)"
   ]
  },
  {
   "cell_type": "code",
   "execution_count": null,
   "metadata": {},
   "outputs": [],
   "source": [
    "s = syn.getColumns(\"syn51748558\")"
   ]
  },
  {
   "cell_type": "code",
   "execution_count": null,
   "metadata": {},
   "outputs": [],
   "source": [
    "for i in s:\n",
    "    print(i)"
   ]
  }
 ],
 "metadata": {
  "language_info": {
   "name": "python"
  },
  "orig_nbformat": 4
 },
 "nbformat": 4,
 "nbformat_minor": 2
}
