{
 "cells": [
  {
   "cell_type": "code",
   "execution_count": null,
   "metadata": {},
   "outputs": [],
   "source": []
  },
  {
   "cell_type": "code",
   "execution_count": null,
   "metadata": {},
   "outputs": [],
   "source": []
  },
  {
   "cell_type": "code",
   "execution_count": null,
   "metadata": {},
   "outputs": [],
   "source": []
  },
  {
   "cell_type": "code",
   "execution_count": null,
   "metadata": {},
   "outputs": [],
   "source": []
  },
  {
   "cell_type": "code",
   "execution_count": null,
   "metadata": {},
   "outputs": [],
   "source": [
    "# load data model\n",
    "dm = pd.read_csv(Path(ROOT_DIR, 'EL.data.model.csv'))\n",
    "dm.info()"
   ]
  },
  {
   "cell_type": "code",
   "execution_count": null,
   "metadata": {},
   "outputs": [],
   "source": [
    "# check if template exists in data model\n",
    "template_check = 'genotyping'\n",
    "result = len(dm.loc[dm['Attribute'].str.contains(template_check)]) > 0\n",
    "\n",
    "if result: \n",
    "    print(dm.loc[dm['Attribute'].str.contains(template_check)].T)\n",
    "else: \n",
    "    pass"
   ]
  },
  {
   "cell_type": "code",
   "execution_count": null,
   "metadata": {},
   "outputs": [],
   "source": [
    "dm_temp = pd.concat([dm, new_temp_df_final])"
   ]
  },
  {
   "cell_type": "code",
   "execution_count": null,
   "metadata": {},
   "outputs": [],
   "source": [
    "dm_temp"
   ]
  },
  {
   "cell_type": "code",
   "execution_count": null,
   "metadata": {},
   "outputs": [],
   "source": [
    "dm['Module'].unique()"
   ]
  },
  {
   "cell_type": "code",
   "execution_count": null,
   "metadata": {},
   "outputs": [],
   "source": [
    "dm[\"Parent\"].unique()"
   ]
  },
  {
   "cell_type": "code",
   "execution_count": null,
   "metadata": {},
   "outputs": [],
   "source": [
    "dm = dm.set_index('Attribute')"
   ]
  },
  {
   "cell_type": "code",
   "execution_count": null,
   "metadata": {},
   "outputs": [],
   "source": [
    "p_df_final.index.is_unique"
   ]
  },
  {
   "cell_type": "code",
   "execution_count": null,
   "metadata": {},
   "outputs": [],
   "source": [
    "# Update empty values with the new dataframe with matching indexes\n",
    "dm.update(p_df_final, overwrite=False, errors = 'ignore')"
   ]
  },
  {
   "cell_type": "code",
   "execution_count": null,
   "metadata": {},
   "outputs": [],
   "source": [
    "dm.loc[dm['UsedIn'].str.contains('proteomics', na = False)].shape"
   ]
  },
  {
   "cell_type": "code",
   "execution_count": null,
   "metadata": {},
   "outputs": [],
   "source": [
    "# join in the new template\n",
    "dm_final = pd.concat([dm, p_df_final.loc[~p_df_final.index.isin(dm.index)]])\n",
    "dm_final.shape"
   ]
  },
  {
   "cell_type": "code",
   "execution_count": null,
   "metadata": {},
   "outputs": [],
   "source": [
    "# Replace any other values to leave open for contributors to add\n",
    "dm_final.loc[\"platformLocation\", \"Valid Values\"] = np.nan\n",
    "dm_final.loc[\"dataFile\", \"Valid Values\"] = np.nan\n",
    "dm_final.loc[\"acquisitionMode\", \"Valid Values\"] = np.nan\n",
    "dm_final.loc[\"acquisitionSoftware\", \"Valid Values\"] = np.nan"
   ]
  },
  {
   "cell_type": "code",
   "execution_count": null,
   "metadata": {},
   "outputs": [],
   "source": [
    "dm_final.loc[p_df_final.index]"
   ]
  },
  {
   "cell_type": "code",
   "execution_count": null,
   "metadata": {},
   "outputs": [],
   "source": [
    "# qa check\n",
    "with pd.option_context('display.max_rows', None):\n",
    "    display(dm_final[dm_final.index.duplicated(keep=False)].sort_index())"
   ]
  },
  {
   "cell_type": "code",
   "execution_count": null,
   "metadata": {},
   "outputs": [],
   "source": [
    "# Check there are unique attributes\n",
    "dm_final.index.is_unique"
   ]
  },
  {
   "cell_type": "code",
   "execution_count": null,
   "metadata": {},
   "outputs": [],
   "source": [
    "# no longer need column\n",
    "dm_final = dm_final.drop(columns=[\"OtherValue\"])"
   ]
  },
  {
   "cell_type": "code",
   "execution_count": null,
   "metadata": {},
   "outputs": [],
   "source": [
    "# Write out data model\n",
    "dm_final.to_csv('../EL.data.model.csv')"
   ]
  }
 ],
 "metadata": {
  "language_info": {
   "name": "python"
  }
 },
 "nbformat": 4,
 "nbformat_minor": 2
}
