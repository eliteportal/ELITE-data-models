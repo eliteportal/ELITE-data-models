{
 "cells": [
  {
   "cell_type": "code",
   "execution_count": 1,
   "metadata": {},
   "outputs": [],
   "source": [
    "import os\n",
    "import pandas as pd\n",
    "import numpy as np\n",
    "import re\n",
    "import datetime\n",
    "import pathlib\n",
    "\n",
    "# custom package(s)\n",
    "from utils import utils, synapse_login\n",
    "\n",
    "import yaml\n",
    "import pathlib\n",
    "\n",
    "with open(\"./local_configs/notebook_config.yaml\", \"r\") as f:\n",
    "    config = yaml.safe_load(f)\n",
    "\n",
    "csv_model = pathlib.Path(\"../\" + config[\"file_names\"][\"csv_model\"]).resolve()\n",
    "json_model = pathlib.Path(\"../\" + config[\"file_names\"][\"json_model\"]).resolve()"
   ]
  },
  {
   "cell_type": "code",
   "execution_count": 68,
   "metadata": {},
   "outputs": [],
   "source": [
    "dm_name = \"../EL.data.model.csv\"\n",
    "output_dir = pathlib.Path(\"../backups\").resolve()\n",
    "\n",
    "dm_path = pathlib.Path(dm_name).resolve()\n",
    "dm = utils.load_and_backup_dm(dm_path, output_dir)\n",
    "# dm = dm.drop(columns=[\"Unnamed: 0\"])"
   ]
  },
  {
   "cell_type": "code",
   "execution_count": null,
   "metadata": {},
   "outputs": [],
   "source": [
    "dm = pd.read_csv('../backups/EL.data.model-2023-10-12.15-02.csv')"
   ]
  },
  {
   "cell_type": "code",
   "execution_count": 92,
   "metadata": {},
   "outputs": [],
   "source": [
    "# clean up attributes\n",
    "# remove any special characters\n",
    "pattern = r\"\\(|\\)|\\.|:|;\"\n",
    "dm[['Attribute', 'DependsOn', 'Valid Values']] = dm[['Attribute', 'DependsOn', 'Valid Values']\n",
    "                                                    ].apply(lambda x: x.str.replace(pattern, '').str.strip().str.replace('\\s+', ''), axis=1)"
   ]
  },
  {
   "cell_type": "code",
   "execution_count": 94,
   "metadata": {},
   "outputs": [],
   "source": [
    "# write out new model\n",
    "dm.to_csv(\"../EL.data.model.csv\", index=False)"
   ]
  },
  {
   "cell_type": "code",
   "execution_count": 95,
   "metadata": {},
   "outputs": [
    {
     "name": "stdout",
     "output_type": "stream",
     "text": [
      "Starting schematic...\n",
      "Done adding requirements and value ranges to attributes\n",
      "The Data Model was created and saved to '/Users/nlee/Documents/Projects/ELITE/ELITE-data-models/EL.data.model.jsonld' location.\n"
     ]
    }
   ],
   "source": [
    "# convert csv model to jsonld\n",
    "!schematic schema convert {csv_model} --output_jsonld {json_model}"
   ]
  }
 ],
 "metadata": {
  "kernelspec": {
   "display_name": "elite-data-models-LjmgyG4K-py3.10",
   "language": "python",
   "name": "python3"
  },
  "language_info": {
   "codemirror_mode": {
    "name": "ipython",
    "version": 3
   },
   "file_extension": ".py",
   "mimetype": "text/x-python",
   "name": "python",
   "nbconvert_exporter": "python",
   "pygments_lexer": "ipython3",
   "version": "3.10.13"
  }
 },
 "nbformat": 4,
 "nbformat_minor": 2
}
