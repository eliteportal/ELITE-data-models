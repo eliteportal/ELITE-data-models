{
 "cells": [
  {
   "cell_type": "code",
   "execution_count": 1,
   "metadata": {},
   "outputs": [],
   "source": [
    "import os\n",
    "import pandas as pd\n",
    "import numpy as np\n",
    "import re\n",
    "import datetime\n",
    "import pathlib\n",
    "\n",
    "# custom package(s)\n",
    "from utils import utils, synapse_login\n",
    "\n",
    "import yaml\n",
    "import pathlib\n",
    "\n",
    "with open(\"./local_configs/notebook_config.yaml\", \"r\") as f:\n",
    "    config = yaml.safe_load(f)\n",
    "\n",
    "csv_model = pathlib.Path(\"../\" + config[\"file_names\"][\"csv_model\"]).resolve()\n",
    "json_model = pathlib.Path(\"../\" + config[\"file_names\"][\"json_model\"]).resolve()"
   ]
  },
  {
   "cell_type": "code",
   "execution_count": 12,
   "metadata": {},
   "outputs": [],
   "source": [
    "dm_name = \"../EL.data.model.csv\"\n",
    "output_dir = pathlib.Path(\"../backups\").resolve()\n",
    "\n",
    "dm_path = pathlib.Path(dm_name).resolve()\n",
    "dm = utils.load_and_backup_dm(dm_path, output_dir)\n",
    "# dm = dm.drop(columns=[\"Unnamed: 0\"])"
   ]
  },
  {
   "cell_type": "code",
   "execution_count": 61,
   "metadata": {},
   "outputs": [],
   "source": [
    "# dm = pd.read_csv('../backups/EL.data.model-2023-10-12.15-02.csv')"
   ]
  },
  {
   "cell_type": "code",
   "execution_count": 66,
   "metadata": {},
   "outputs": [],
   "source": [
    "# clean up attributes\n",
    "# remove any special characters\n",
    "pattern = r\"\\(|\\)|\\.|-|_|:|;\"\n",
    "dm[['Attribute', 'DependsOn', 'Valid Values']] = dm[['Attribute', 'DependsOn', 'Valid Values']\n",
    "                                                    ].apply(lambda x: x.str.replace(pattern, '').str.strip().str.replace('\\s+', ''), axis=1)"
   ]
  },
  {
   "cell_type": "code",
   "execution_count": 24,
   "metadata": {},
   "outputs": [],
   "source": [
    "dm['Attribute'] = dm['Attribute'].str.strip('\"')"
   ]
  },
  {
   "cell_type": "code",
   "execution_count": 27,
   "metadata": {},
   "outputs": [
    {
     "data": {
      "text/plain": [
       "array(['ValidValue', 'unspecified', 'DataProperty', 'DataType',\n",
       "       'MetadataType', 'DataSubtype'], dtype=object)"
      ]
     },
     "execution_count": 27,
     "metadata": {},
     "output_type": "execute_result"
    }
   ],
   "source": [
    "dm['Properties'].unique()"
   ]
  },
  {
   "cell_type": "code",
   "execution_count": 28,
   "metadata": {},
   "outputs": [],
   "source": [
    "dm['Parent'] = dm['Parent'].str.replace('Template', 'DataType')"
   ]
  },
  {
   "cell_type": "code",
   "execution_count": 39,
   "metadata": {},
   "outputs": [],
   "source": [
    "dm.loc[dm['Parent'] == 'MeasurementUnit'].to_csv('./measurementUnits.csv')"
   ]
  },
  {
   "cell_type": "code",
   "execution_count": 43,
   "metadata": {},
   "outputs": [],
   "source": [
    "dm = dm.drop(index=dm.loc[dm['Parent'] == 'MeasurementUnit'].index).reset_index(drop = True)"
   ]
  },
  {
   "cell_type": "code",
   "execution_count": 49,
   "metadata": {},
   "outputs": [
    {
     "data": {
      "text/html": [
       "<div>\n",
       "<style scoped>\n",
       "    .dataframe tbody tr th:only-of-type {\n",
       "        vertical-align: middle;\n",
       "    }\n",
       "\n",
       "    .dataframe tbody tr th {\n",
       "        vertical-align: top;\n",
       "    }\n",
       "\n",
       "    .dataframe thead th {\n",
       "        text-align: right;\n",
       "    }\n",
       "</style>\n",
       "<table border=\"1\" class=\"dataframe\">\n",
       "  <thead>\n",
       "    <tr style=\"text-align: right;\">\n",
       "      <th></th>\n",
       "      <th>Attribute</th>\n",
       "      <th>Description</th>\n",
       "      <th>Valid Values</th>\n",
       "      <th>Required</th>\n",
       "      <th>DependsOn</th>\n",
       "      <th>DependsOn Component</th>\n",
       "      <th>Properties</th>\n",
       "      <th>Validation Rules</th>\n",
       "      <th>Template</th>\n",
       "      <th>Parent</th>\n",
       "      <th>Source</th>\n",
       "      <th>Type</th>\n",
       "      <th>Ontology</th>\n",
       "      <th>multivalue</th>\n",
       "      <th>UsedIn</th>\n",
       "      <th>module</th>\n",
       "    </tr>\n",
       "  </thead>\n",
       "  <tbody>\n",
       "    <tr>\n",
       "      <th>370</th>\n",
       "      <td>conversionRatioUnits</td>\n",
       "      <td>The units of measurement.</td>\n",
       "      <td>AFU,AI,AU/ml,DKunits/ml,HAU,IU,IU/ml,Kallikrei...</td>\n",
       "      <td>True</td>\n",
       "      <td>NaN</td>\n",
       "      <td>NaN</td>\n",
       "      <td>unspecified</td>\n",
       "      <td>NaN</td>\n",
       "      <td>bsSeq</td>\n",
       "      <td>unspecified</td>\n",
       "      <td>Sage Bionetworks</td>\n",
       "      <td>STRING</td>\n",
       "      <td>Sage Bionetworks</td>\n",
       "      <td>False</td>\n",
       "      <td>NaN</td>\n",
       "      <td>NaN</td>\n",
       "    </tr>\n",
       "    <tr>\n",
       "      <th>484</th>\n",
       "      <td>readLengthUnits</td>\n",
       "      <td>The units of measurement.</td>\n",
       "      <td>AFU,AI,AU/ml,DKunits/ml,HAU,IU,IU/ml,Kallikrei...</td>\n",
       "      <td>True</td>\n",
       "      <td>NaN</td>\n",
       "      <td>NaN</td>\n",
       "      <td>unspecified</td>\n",
       "      <td>NaN</td>\n",
       "      <td>Microbiome,RNAseq,Whole Genome Sequencing,bsSe...</td>\n",
       "      <td>unspecified</td>\n",
       "      <td>Sage Bionetworks</td>\n",
       "      <td>STRING</td>\n",
       "      <td>Sage Bionetworks</td>\n",
       "      <td>False</td>\n",
       "      <td>NaN</td>\n",
       "      <td>NaN</td>\n",
       "    </tr>\n",
       "  </tbody>\n",
       "</table>\n",
       "</div>"
      ],
      "text/plain": [
       "                Attribute                Description  \\\n",
       "370  conversionRatioUnits  The units of measurement.   \n",
       "484       readLengthUnits  The units of measurement.   \n",
       "\n",
       "                                          Valid Values  Required DependsOn  \\\n",
       "370  AFU,AI,AU/ml,DKunits/ml,HAU,IU,IU/ml,Kallikrei...      True       NaN   \n",
       "484  AFU,AI,AU/ml,DKunits/ml,HAU,IU,IU/ml,Kallikrei...      True       NaN   \n",
       "\n",
       "     DependsOn Component   Properties Validation Rules  \\\n",
       "370                  NaN  unspecified              NaN   \n",
       "484                  NaN  unspecified              NaN   \n",
       "\n",
       "                                              Template       Parent  \\\n",
       "370                                              bsSeq  unspecified   \n",
       "484  Microbiome,RNAseq,Whole Genome Sequencing,bsSe...  unspecified   \n",
       "\n",
       "               Source    Type          Ontology multivalue UsedIn module  \n",
       "370  Sage Bionetworks  STRING  Sage Bionetworks      False    NaN    NaN  \n",
       "484  Sage Bionetworks  STRING  Sage Bionetworks      False    NaN    NaN  "
      ]
     },
     "execution_count": 49,
     "metadata": {},
     "output_type": "execute_result"
    }
   ],
   "source": [
    "dm[(dm['Attribute'].str.contains('units', flags = re.IGNORECASE)) & (~dm['Valid Values'].isna())]"
   ]
  },
  {
   "cell_type": "code",
   "execution_count": 54,
   "metadata": {},
   "outputs": [],
   "source": [
    "dm['Properties'] = dm['Properties'].str.replace('DataType', '')"
   ]
  },
  {
   "cell_type": "code",
   "execution_count": 10,
   "metadata": {},
   "outputs": [],
   "source": [
    "# dm = dm[dm['Properties'] != 'ValidValue'].sort_values(by='Attribute').reset_index(drop = True)"
   ]
  },
  {
   "cell_type": "code",
   "execution_count": 11,
   "metadata": {},
   "outputs": [],
   "source": [
    "# write out new model\n",
    "dm.to_csv(\"../EL.data.model.csv\", index=False)"
   ]
  },
  {
   "cell_type": "code",
   "execution_count": 68,
   "metadata": {},
   "outputs": [
    {
     "name": "stdout",
     "output_type": "stream",
     "text": [
      "Starting schematic...\n",
      "Done adding requirements and value ranges to attributes\n",
      "The Data Model was created and saved to '/Users/nlee/Documents/Projects/ELITE/ELITE-data-models/EL.data.model.jsonld' location.\n"
     ]
    }
   ],
   "source": [
    "# convert csv model to jsonld\n",
    "!schematic schema convert {csv_model} --output_jsonld {json_model}"
   ]
  },
  {
   "cell_type": "code",
   "execution_count": null,
   "metadata": {},
   "outputs": [],
   "source": []
  }
 ],
 "metadata": {
  "kernelspec": {
   "display_name": "elite-data-models-LjmgyG4K-py3.10",
   "language": "python",
   "name": "python3"
  },
  "language_info": {
   "codemirror_mode": {
    "name": "ipython",
    "version": 3
   },
   "file_extension": ".py",
   "mimetype": "text/x-python",
   "name": "python",
   "nbconvert_exporter": "python",
   "pygments_lexer": "ipython3",
   "version": "3.10.13"
  }
 },
 "nbformat": 4,
 "nbformat_minor": 2
}
