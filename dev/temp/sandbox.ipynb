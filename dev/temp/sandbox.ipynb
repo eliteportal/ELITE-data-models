{
 "cells": [
  {
   "cell_type": "code",
   "execution_count": 1,
   "metadata": {},
   "outputs": [
    {
     "name": "stdout",
     "output_type": "stream",
     "text": [
      "Welcome, Nicholas Lee!\n",
      "\n"
     ]
    }
   ],
   "source": [
    "import os\n",
    "import pandas as pd\n",
    "import numpy as np\n",
    "import re\n",
    "import datetime\n",
    "import pathlib\n",
    "import synapseclient\n",
    "\n",
    "# custom package(s)\n",
    "from utils import utils, synapse_login\n",
    "\n",
    "import yaml\n",
    "import pathlib\n",
    "\n",
    "with open(\"./local_configs/notebook_config.yaml\", \"r\") as f:\n",
    "    config = yaml.safe_load(f)\n",
    "\n",
    "csv_model = pathlib.Path(\"../\" + config[\"file_names\"][\"csv_model\"]).resolve()\n",
    "json_model = pathlib.Path(\"../\" + config[\"file_names\"][\"json_model\"]).resolve()\n",
    "\n",
    "syn = synapse_login.main()"
   ]
  },
  {
   "cell_type": "code",
   "execution_count": 2,
   "metadata": {},
   "outputs": [],
   "source": [
    "df = pd.read_csv('../EL.data.model.csv')"
   ]
  },
  {
   "cell_type": "code",
   "execution_count": 3,
   "metadata": {},
   "outputs": [],
   "source": [
    "studies = syn.tableQuery(\"select * FROM syn51209786\")\n",
    "studies = studies.asDataFrame().fillna(\"\")"
   ]
  },
  {
   "cell_type": "code",
   "execution_count": 6,
   "metadata": {},
   "outputs": [
    {
     "data": {
      "text/html": [
       "<div>\n",
       "<style scoped>\n",
       "    .dataframe tbody tr th:only-of-type {\n",
       "        vertical-align: middle;\n",
       "    }\n",
       "\n",
       "    .dataframe tbody tr th {\n",
       "        vertical-align: top;\n",
       "    }\n",
       "\n",
       "    .dataframe thead th {\n",
       "        text-align: right;\n",
       "    }\n",
       "</style>\n",
       "<table border=\"1\" class=\"dataframe\">\n",
       "  <thead>\n",
       "    <tr style=\"text-align: right;\">\n",
       "      <th></th>\n",
       "      <th>name</th>\n",
       "      <th>shortName</th>\n",
       "      <th>program</th>\n",
       "      <th>principalInvestigators</th>\n",
       "      <th>grantNumber</th>\n",
       "      <th>grantSerialNumber</th>\n",
       "      <th>abstract</th>\n",
       "      <th>institutions</th>\n",
       "      <th>externalWebsite</th>\n",
       "      <th>link</th>\n",
       "      <th>isFeatured</th>\n",
       "      <th>moreInformation</th>\n",
       "      <th>moreInformationURL</th>\n",
       "      <th>computationTools</th>\n",
       "    </tr>\n",
       "  </thead>\n",
       "  <tbody>\n",
       "    <tr>\n",
       "      <th>1_18</th>\n",
       "      <td>The Long Life Family Study</td>\n",
       "      <td>LLFS</td>\n",
       "      <td>ELITE</td>\n",
       "      <td>[Michael Province , Kaare Christensen, Stephan...</td>\n",
       "      <td>[U19AG063893]</td>\n",
       "      <td>AG063893</td>\n",
       "      <td>The Long Life Family Study (LLFS) has enrolled...</td>\n",
       "      <td>[Washington University, University of Southern...</td>\n",
       "      <td>https://longlifefamilystudy.wustl.edu/LLFS/Hom...</td>\n",
       "      <td>https://projectreporter.nih.gov/project_info_d...</td>\n",
       "      <td>True</td>\n",
       "      <td>Exceptional Longevity Translational Resources</td>\n",
       "      <td>https://help.adknowledgeportal.org/apd/Exeptio...</td>\n",
       "      <td>[]</td>\n",
       "    </tr>\n",
       "    <tr>\n",
       "      <th>2_18</th>\n",
       "      <td>The Longevity Genomics Consortium</td>\n",
       "      <td>LG</td>\n",
       "      <td>ELITE</td>\n",
       "      <td>[Steve Cummings, Nicholas Schork, Simon Melov,...</td>\n",
       "      <td>[U24AG051129]</td>\n",
       "      <td>AG051129</td>\n",
       "      <td>Human longevity is heritable, and statisticall...</td>\n",
       "      <td>[California Pacific Medical Center, Buck Insti...</td>\n",
       "      <td>https://www.longevitygenomics.org/index.php/</td>\n",
       "      <td>https://projectreporter.nih.gov/project_info_d...</td>\n",
       "      <td>True</td>\n",
       "      <td>Exceptional Longevity Translational Resources</td>\n",
       "      <td>https://help.adknowledgeportal.org/apd/Exeptio...</td>\n",
       "      <td>[syn26433712, syn26483536, syn26483537, syn264...</td>\n",
       "    </tr>\n",
       "    <tr>\n",
       "      <th>3_23</th>\n",
       "      <td>The Longevity Consortium</td>\n",
       "      <td>LC</td>\n",
       "      <td>ELITE</td>\n",
       "      <td>[Steve Cummings, Nicholas Schork]</td>\n",
       "      <td>[U19AG023122]</td>\n",
       "      <td>AG023122</td>\n",
       "      <td>THE LONGEVITY CONSORTIUM (LC). Multiple studie...</td>\n",
       "      <td>[California Pacific Medical Center, Translatio...</td>\n",
       "      <td>https://www.longevityconsortium.org/home</td>\n",
       "      <td>https://projectreporter.nih.gov/project_info_d...</td>\n",
       "      <td>True</td>\n",
       "      <td>Exceptional Longevity Translational Resources</td>\n",
       "      <td>https://help.adknowledgeportal.org/apd/Exeptio...</td>\n",
       "      <td>[syn26483536, syn26483537, syn26483538, syn264...</td>\n",
       "    </tr>\n",
       "    <tr>\n",
       "      <th>4_22</th>\n",
       "      <td>The Integrative Longevity Omics Projects</td>\n",
       "      <td>ILO</td>\n",
       "      <td>ELITE</td>\n",
       "      <td>[Thomas Perls , Paola Sebastiani]</td>\n",
       "      <td>[UH2AG064704, UH3AG064706]</td>\n",
       "      <td>AG064704</td>\n",
       "      <td>Centenarians (ages &gt;100 yrs) and even more-so,...</td>\n",
       "      <td>[Boston University, Tufts Medical Center]</td>\n",
       "      <td>https://longevityomics.com/</td>\n",
       "      <td>https://projectreporter.nih.gov/project_info_d...</td>\n",
       "      <td>True</td>\n",
       "      <td>Exceptional Longevity Translational Resources</td>\n",
       "      <td>https://help.adknowledgeportal.org/apd/Exeptio...</td>\n",
       "      <td>[]</td>\n",
       "    </tr>\n",
       "    <tr>\n",
       "      <th>5_18</th>\n",
       "      <td>Integrative Omics to enhance therapeutics deve...</td>\n",
       "      <td></td>\n",
       "      <td>ELITE</td>\n",
       "      <td>[Nicholas Schork, Richard Miller]</td>\n",
       "      <td>[UH2AG064706]</td>\n",
       "      <td>AG064706</td>\n",
       "      <td>A number of drugs and interventions have been ...</td>\n",
       "      <td>[Translational Genomics Research Institute, Un...</td>\n",
       "      <td>https://longevityomics.com/</td>\n",
       "      <td>https://projectreporter.nih.gov/project_info_d...</td>\n",
       "      <td>False</td>\n",
       "      <td>Exceptional Longevity Translational Resources</td>\n",
       "      <td>https://help.adknowledgeportal.org/apd/Exeptio...</td>\n",
       "      <td>[]</td>\n",
       "    </tr>\n",
       "  </tbody>\n",
       "</table>\n",
       "</div>"
      ],
      "text/plain": [
       "                                                   name shortName program  \\\n",
       "1_18                         The Long Life Family Study      LLFS   ELITE   \n",
       "2_18                  The Longevity Genomics Consortium        LG   ELITE   \n",
       "3_23                           The Longevity Consortium        LC   ELITE   \n",
       "4_22           The Integrative Longevity Omics Projects       ILO   ELITE   \n",
       "5_18  Integrative Omics to enhance therapeutics deve...             ELITE   \n",
       "\n",
       "                                 principalInvestigators  \\\n",
       "1_18  [Michael Province , Kaare Christensen, Stephan...   \n",
       "2_18  [Steve Cummings, Nicholas Schork, Simon Melov,...   \n",
       "3_23                  [Steve Cummings, Nicholas Schork]   \n",
       "4_22                  [Thomas Perls , Paola Sebastiani]   \n",
       "5_18                  [Nicholas Schork, Richard Miller]   \n",
       "\n",
       "                     grantNumber grantSerialNumber  \\\n",
       "1_18               [U19AG063893]          AG063893   \n",
       "2_18               [U24AG051129]          AG051129   \n",
       "3_23               [U19AG023122]          AG023122   \n",
       "4_22  [UH2AG064704, UH3AG064706]          AG064704   \n",
       "5_18               [UH2AG064706]          AG064706   \n",
       "\n",
       "                                               abstract  \\\n",
       "1_18  The Long Life Family Study (LLFS) has enrolled...   \n",
       "2_18  Human longevity is heritable, and statisticall...   \n",
       "3_23  THE LONGEVITY CONSORTIUM (LC). Multiple studie...   \n",
       "4_22  Centenarians (ages >100 yrs) and even more-so,...   \n",
       "5_18  A number of drugs and interventions have been ...   \n",
       "\n",
       "                                           institutions  \\\n",
       "1_18  [Washington University, University of Southern...   \n",
       "2_18  [California Pacific Medical Center, Buck Insti...   \n",
       "3_23  [California Pacific Medical Center, Translatio...   \n",
       "4_22          [Boston University, Tufts Medical Center]   \n",
       "5_18  [Translational Genomics Research Institute, Un...   \n",
       "\n",
       "                                        externalWebsite  \\\n",
       "1_18  https://longlifefamilystudy.wustl.edu/LLFS/Hom...   \n",
       "2_18       https://www.longevitygenomics.org/index.php/   \n",
       "3_23           https://www.longevityconsortium.org/home   \n",
       "4_22                        https://longevityomics.com/   \n",
       "5_18                        https://longevityomics.com/   \n",
       "\n",
       "                                                   link  isFeatured  \\\n",
       "1_18  https://projectreporter.nih.gov/project_info_d...        True   \n",
       "2_18  https://projectreporter.nih.gov/project_info_d...        True   \n",
       "3_23  https://projectreporter.nih.gov/project_info_d...        True   \n",
       "4_22  https://projectreporter.nih.gov/project_info_d...        True   \n",
       "5_18  https://projectreporter.nih.gov/project_info_d...       False   \n",
       "\n",
       "                                    moreInformation  \\\n",
       "1_18  Exceptional Longevity Translational Resources   \n",
       "2_18  Exceptional Longevity Translational Resources   \n",
       "3_23  Exceptional Longevity Translational Resources   \n",
       "4_22  Exceptional Longevity Translational Resources   \n",
       "5_18  Exceptional Longevity Translational Resources   \n",
       "\n",
       "                                     moreInformationURL  \\\n",
       "1_18  https://help.adknowledgeportal.org/apd/Exeptio...   \n",
       "2_18  https://help.adknowledgeportal.org/apd/Exeptio...   \n",
       "3_23  https://help.adknowledgeportal.org/apd/Exeptio...   \n",
       "4_22  https://help.adknowledgeportal.org/apd/Exeptio...   \n",
       "5_18  https://help.adknowledgeportal.org/apd/Exeptio...   \n",
       "\n",
       "                                       computationTools  \n",
       "1_18                                                 []  \n",
       "2_18  [syn26433712, syn26483536, syn26483537, syn264...  \n",
       "3_23  [syn26483536, syn26483537, syn26483538, syn264...  \n",
       "4_22                                                 []  \n",
       "5_18                                                 []  "
      ]
     },
     "execution_count": 6,
     "metadata": {},
     "output_type": "execute_result"
    }
   ],
   "source": [
    "studies"
   ]
  },
  {
   "cell_type": "code",
   "execution_count": 4,
   "metadata": {},
   "outputs": [],
   "source": [
    "projects = syn.tableQuery(\"select * from syn52168034\")\n",
    "projects = projects.asDataFrame()"
   ]
  },
  {
   "cell_type": "code",
   "execution_count": 7,
   "metadata": {},
   "outputs": [],
   "source": [
    "projects.reset_index(inplace=True)"
   ]
  },
  {
   "cell_type": "code",
   "execution_count": 9,
   "metadata": {},
   "outputs": [],
   "source": [
    "projects[\"name\"] = projects[\"name\"].str.replace(\"EL-LC\", \"LC\")"
   ]
  },
  {
   "cell_type": "code",
   "execution_count": 12,
   "metadata": {},
   "outputs": [],
   "source": [
    "projects2 = projects.merge(\n",
    "    studies, how='left', left_on='name', right_on='shortName')"
   ]
  },
  {
   "cell_type": "code",
   "execution_count": 14,
   "metadata": {},
   "outputs": [
    {
     "data": {
      "text/plain": [
       "Index(['index', 'id', 'name_x', 'description', 'createdOn', 'createdBy',\n",
       "       'etag', 'modifiedOn', 'modifiedBy', 'portal', 'name_y', 'shortName',\n",
       "       'program', 'principalInvestigators', 'grantNumber', 'grantSerialNumber',\n",
       "       'abstract', 'institutions', 'externalWebsite', 'link', 'isFeatured',\n",
       "       'moreInformation', 'moreInformationURL', 'computationTools'],\n",
       "      dtype='object')"
      ]
     },
     "execution_count": 14,
     "metadata": {},
     "output_type": "execute_result"
    }
   ],
   "source": [
    "projects2.columns"
   ]
  },
  {
   "cell_type": "code",
   "execution_count": 15,
   "metadata": {},
   "outputs": [
    {
     "data": {
      "text/html": [
       "<div>\n",
       "<style scoped>\n",
       "    .dataframe tbody tr th:only-of-type {\n",
       "        vertical-align: middle;\n",
       "    }\n",
       "\n",
       "    .dataframe tbody tr th {\n",
       "        vertical-align: top;\n",
       "    }\n",
       "\n",
       "    .dataframe thead th {\n",
       "        text-align: right;\n",
       "    }\n",
       "</style>\n",
       "<table border=\"1\" class=\"dataframe\">\n",
       "  <thead>\n",
       "    <tr style=\"text-align: right;\">\n",
       "      <th></th>\n",
       "      <th>name_x</th>\n",
       "      <th>name_y</th>\n",
       "    </tr>\n",
       "  </thead>\n",
       "  <tbody>\n",
       "    <tr>\n",
       "      <th>0</th>\n",
       "      <td>LLFS</td>\n",
       "      <td>The Long Life Family Study</td>\n",
       "    </tr>\n",
       "    <tr>\n",
       "      <th>1</th>\n",
       "      <td>LG</td>\n",
       "      <td>The Longevity Genomics Consortium</td>\n",
       "    </tr>\n",
       "    <tr>\n",
       "      <th>2</th>\n",
       "      <td>ILO</td>\n",
       "      <td>The Integrative Longevity Omics Projects</td>\n",
       "    </tr>\n",
       "    <tr>\n",
       "      <th>3</th>\n",
       "      <td>LC</td>\n",
       "      <td>The Longevity Consortium</td>\n",
       "    </tr>\n",
       "  </tbody>\n",
       "</table>\n",
       "</div>"
      ],
      "text/plain": [
       "  name_x                                    name_y\n",
       "0   LLFS                The Long Life Family Study\n",
       "1     LG         The Longevity Genomics Consortium\n",
       "2    ILO  The Integrative Longevity Omics Projects\n",
       "3     LC                  The Longevity Consortium"
      ]
     },
     "execution_count": 15,
     "metadata": {},
     "output_type": "execute_result"
    }
   ],
   "source": [
    "projects2[[\"name_x\", \"name_y\"]]"
   ]
  },
  {
   "cell_type": "code",
   "execution_count": 22,
   "metadata": {},
   "outputs": [],
   "source": [
    "projects2 = projects2.rename(columns={'name_y': 'longName', 'name_x': 'name'})"
   ]
  },
  {
   "cell_type": "code",
   "execution_count": 84,
   "metadata": {},
   "outputs": [],
   "source": [
    "projects2 = projects2.drop(columns=['index', 'description', 'name', 'createdOn',\n",
    "                           'createdBy', 'abstract', 'etag', 'modifiedOn', 'modifiedBy'], errors='ignore')"
   ]
  },
  {
   "cell_type": "code",
   "execution_count": 85,
   "metadata": {},
   "outputs": [
    {
     "data": {
      "text/html": [
       "<div>\n",
       "<style scoped>\n",
       "    .dataframe tbody tr th:only-of-type {\n",
       "        vertical-align: middle;\n",
       "    }\n",
       "\n",
       "    .dataframe tbody tr th {\n",
       "        vertical-align: top;\n",
       "    }\n",
       "\n",
       "    .dataframe thead th {\n",
       "        text-align: right;\n",
       "    }\n",
       "</style>\n",
       "<table border=\"1\" class=\"dataframe\">\n",
       "  <thead>\n",
       "    <tr style=\"text-align: right;\">\n",
       "      <th></th>\n",
       "      <th>id</th>\n",
       "      <th>portal</th>\n",
       "      <th>longName</th>\n",
       "      <th>shortName</th>\n",
       "      <th>program</th>\n",
       "      <th>principalInvestigators</th>\n",
       "      <th>grantNumber</th>\n",
       "      <th>grantSerialNumber</th>\n",
       "      <th>institutions</th>\n",
       "      <th>externalWebsite</th>\n",
       "      <th>link</th>\n",
       "      <th>isFeatured</th>\n",
       "      <th>moreInformation</th>\n",
       "      <th>moreInformationURL</th>\n",
       "      <th>computationTools</th>\n",
       "    </tr>\n",
       "  </thead>\n",
       "  <tbody>\n",
       "    <tr>\n",
       "      <th>0</th>\n",
       "      <td>syn52072575</td>\n",
       "      <td>ELITE</td>\n",
       "      <td>The Long Life Family Study</td>\n",
       "      <td>LLFS</td>\n",
       "      <td>ELITE</td>\n",
       "      <td>[Michael Province , Kaare Christensen, Stephan...</td>\n",
       "      <td>[U19AG063893]</td>\n",
       "      <td>AG063893</td>\n",
       "      <td>[Washington University, University of Southern...</td>\n",
       "      <td>https://longlifefamilystudy.wustl.edu/LLFS/Hom...</td>\n",
       "      <td>https://projectreporter.nih.gov/project_info_d...</td>\n",
       "      <td>True</td>\n",
       "      <td>Exceptional Longevity Translational Resources</td>\n",
       "      <td>https://help.adknowledgeportal.org/apd/Exeptio...</td>\n",
       "      <td>[]</td>\n",
       "    </tr>\n",
       "    <tr>\n",
       "      <th>1</th>\n",
       "      <td>syn52072939</td>\n",
       "      <td>ELITE</td>\n",
       "      <td>The Longevity Genomics Consortium</td>\n",
       "      <td>LG</td>\n",
       "      <td>ELITE</td>\n",
       "      <td>[Steve Cummings, Nicholas Schork, Simon Melov,...</td>\n",
       "      <td>[U24AG051129]</td>\n",
       "      <td>AG051129</td>\n",
       "      <td>[California Pacific Medical Center, Buck Insti...</td>\n",
       "      <td>https://www.longevitygenomics.org/index.php/</td>\n",
       "      <td>https://projectreporter.nih.gov/project_info_d...</td>\n",
       "      <td>True</td>\n",
       "      <td>Exceptional Longevity Translational Resources</td>\n",
       "      <td>https://help.adknowledgeportal.org/apd/Exeptio...</td>\n",
       "      <td>[syn26433712, syn26483536, syn26483537, syn264...</td>\n",
       "    </tr>\n",
       "    <tr>\n",
       "      <th>2</th>\n",
       "      <td>syn52237024</td>\n",
       "      <td>ELITE</td>\n",
       "      <td>The Integrative Longevity Omics Projects</td>\n",
       "      <td>ILO</td>\n",
       "      <td>ELITE</td>\n",
       "      <td>[Thomas Perls , Paola Sebastiani]</td>\n",
       "      <td>[UH2AG064704, UH3AG064706]</td>\n",
       "      <td>AG064704</td>\n",
       "      <td>[Boston University, Tufts Medical Center]</td>\n",
       "      <td>https://longevityomics.com/</td>\n",
       "      <td>https://projectreporter.nih.gov/project_info_d...</td>\n",
       "      <td>True</td>\n",
       "      <td>Exceptional Longevity Translational Resources</td>\n",
       "      <td>https://help.adknowledgeportal.org/apd/Exeptio...</td>\n",
       "      <td>[]</td>\n",
       "    </tr>\n",
       "    <tr>\n",
       "      <th>3</th>\n",
       "      <td>syn52642213</td>\n",
       "      <td>ELITE</td>\n",
       "      <td>The Longevity Consortium</td>\n",
       "      <td>LC</td>\n",
       "      <td>ELITE</td>\n",
       "      <td>[Steve Cummings, Nicholas Schork]</td>\n",
       "      <td>[U19AG023122]</td>\n",
       "      <td>AG023122</td>\n",
       "      <td>[California Pacific Medical Center, Translatio...</td>\n",
       "      <td>https://www.longevityconsortium.org/home</td>\n",
       "      <td>https://projectreporter.nih.gov/project_info_d...</td>\n",
       "      <td>True</td>\n",
       "      <td>Exceptional Longevity Translational Resources</td>\n",
       "      <td>https://help.adknowledgeportal.org/apd/Exeptio...</td>\n",
       "      <td>[syn26483536, syn26483537, syn26483538, syn264...</td>\n",
       "    </tr>\n",
       "  </tbody>\n",
       "</table>\n",
       "</div>"
      ],
      "text/plain": [
       "            id portal                                  longName shortName  \\\n",
       "0  syn52072575  ELITE                The Long Life Family Study      LLFS   \n",
       "1  syn52072939  ELITE         The Longevity Genomics Consortium        LG   \n",
       "2  syn52237024  ELITE  The Integrative Longevity Omics Projects       ILO   \n",
       "3  syn52642213  ELITE                  The Longevity Consortium        LC   \n",
       "\n",
       "  program                             principalInvestigators  \\\n",
       "0   ELITE  [Michael Province , Kaare Christensen, Stephan...   \n",
       "1   ELITE  [Steve Cummings, Nicholas Schork, Simon Melov,...   \n",
       "2   ELITE                  [Thomas Perls , Paola Sebastiani]   \n",
       "3   ELITE                  [Steve Cummings, Nicholas Schork]   \n",
       "\n",
       "                  grantNumber grantSerialNumber  \\\n",
       "0               [U19AG063893]          AG063893   \n",
       "1               [U24AG051129]          AG051129   \n",
       "2  [UH2AG064704, UH3AG064706]          AG064704   \n",
       "3               [U19AG023122]          AG023122   \n",
       "\n",
       "                                        institutions  \\\n",
       "0  [Washington University, University of Southern...   \n",
       "1  [California Pacific Medical Center, Buck Insti...   \n",
       "2          [Boston University, Tufts Medical Center]   \n",
       "3  [California Pacific Medical Center, Translatio...   \n",
       "\n",
       "                                     externalWebsite  \\\n",
       "0  https://longlifefamilystudy.wustl.edu/LLFS/Hom...   \n",
       "1       https://www.longevitygenomics.org/index.php/   \n",
       "2                        https://longevityomics.com/   \n",
       "3           https://www.longevityconsortium.org/home   \n",
       "\n",
       "                                                link  isFeatured  \\\n",
       "0  https://projectreporter.nih.gov/project_info_d...        True   \n",
       "1  https://projectreporter.nih.gov/project_info_d...        True   \n",
       "2  https://projectreporter.nih.gov/project_info_d...        True   \n",
       "3  https://projectreporter.nih.gov/project_info_d...        True   \n",
       "\n",
       "                                 moreInformation  \\\n",
       "0  Exceptional Longevity Translational Resources   \n",
       "1  Exceptional Longevity Translational Resources   \n",
       "2  Exceptional Longevity Translational Resources   \n",
       "3  Exceptional Longevity Translational Resources   \n",
       "\n",
       "                                  moreInformationURL  \\\n",
       "0  https://help.adknowledgeportal.org/apd/Exeptio...   \n",
       "1  https://help.adknowledgeportal.org/apd/Exeptio...   \n",
       "2  https://help.adknowledgeportal.org/apd/Exeptio...   \n",
       "3  https://help.adknowledgeportal.org/apd/Exeptio...   \n",
       "\n",
       "                                    computationTools  \n",
       "0                                                 []  \n",
       "1  [syn26433712, syn26483536, syn26483537, syn264...  \n",
       "2                                                 []  \n",
       "3  [syn26483536, syn26483537, syn26483538, syn264...  "
      ]
     },
     "execution_count": 85,
     "metadata": {},
     "output_type": "execute_result"
    }
   ],
   "source": [
    "projects2"
   ]
  },
  {
   "cell_type": "code",
   "execution_count": 86,
   "metadata": {},
   "outputs": [],
   "source": [
    "for n in projects2.to_dict('records'):\n",
    "    syn_id = n.pop('id')\n",
    "    for k, v in n.items():\n",
    "        if type(v) != list:\n",
    "            n[k] = [v]\n",
    "        elif type(v) == list and len(v) == 0: \n",
    "            n[k] = ['']\n",
    "        \n",
    "    e = syn.get_annotations(syn_id)\n",
    "    new_annos = synapseclient.Annotations(syn_id, e._etag, n)\n",
    "    e = syn.set_annotations(new_annos)"
   ]
  },
  {
   "cell_type": "code",
   "execution_count": 63,
   "metadata": {},
   "outputs": [
    {
     "data": {
      "text/plain": [
       "{'portal': ['ELITE'],\n",
       " 'longName': ['The Longevity Consortium'],\n",
       " 'shortName': ['LC'],\n",
       " 'program': ['ELITE'],\n",
       " 'principalInvestigators': ['Steve Cummings', 'Nicholas Schork'],\n",
       " 'grantNumber': ['U19AG023122'],\n",
       " 'grantSerialNumber': ['AG023122'],\n",
       " 'abstract': ['THE LONGEVITY CONSORTIUM (LC). Multiple studies of model organisms and humans have suggested that genetic variants, proteins, metabolites, as well as other biomolecules and molecular- physiologic processes, could play roles in mediating longevity, healthspan, and age-related disease in humans. Unfortunately, the direct relevance of many of these factors to human longevity, healthspan and age-related disease is uncertain, as is the amenability of these factors to pharmacological modulation. Therefore, well-integrated and sophisticated research strategies are needed to determine the degree to which various factors both influence human longevity and are amenable to pharmacological manipulation. The Longevity Consortium (LC) has a history of precedent-setting studies seeking to identify factors that influence human longevity and healthspan and has recently redefined its goals and research strategies to achieve an appropriate level of integration and sophistication to elucidate additional factors affecting longevity, as well as their interactions and translatability into targets for pharmacotherapeutic manipulation. To enable appropriate integration in human longevity research, the LC will exploit a multiple investigator structure with 5 interlinked research projects and 3 integrative cores. These projects and cores will include: A cross-species project focusing on cellular and organismal phenotypes led by Richard Miller (referred to as the Miller-Mice/Cell project hereafter); a metabolomics project led by Oliver Fiehn (Fiehn-Metabolomics); a Centenarians project co-led by Thomas Perls and Paola Sebastiani (Perls- Centenarian); a proteomics project led by Eric Orwoll (Orwoll-Proteomics) and a disease context project led by Nicholas Schork (Schork-Disease Context). The cores include a Systems Biology core led by Nathan Price (Price-Systems), a Chemoinformatics core led by Thomas Girke (Girke-Chemoinformatics), and an administrative core with an overall administrative component led by Steve Cummings (Cummings-Admin) and a scientific integration component led by Nicholas Schork. Drs. Cummings and Schork, as Multiple PIs, will share responsibility for the overall leadership of the LC effort. The proposed LC will complement, and partner with, an NIA-funded U24 project (U24AG051129) involving many LC investigators to construct a website for data dissemination.'],\n",
       " 'institutions': ['California Pacific Medical Center',\n",
       "  'Translational Genomics Research Institute'],\n",
       " 'externalWebsite': ['https://www.longevityconsortium.org/home'],\n",
       " 'link': ['https://projectreporter.nih.gov/project_info_details.cfm?aid=9993167&icde=53449304'],\n",
       " 'isFeatured': [True],\n",
       " 'moreInformation': ['Exceptional Longevity Translational Resources'],\n",
       " 'moreInformationURL': ['https://help.adknowledgeportal.org/apd/Exeptional-Longevity-Translational-Resources.2719514840.html'],\n",
       " 'computationTools': ['syn26483536',\n",
       "  'syn26483537',\n",
       "  'syn26483538',\n",
       "  'syn26483539',\n",
       "  'syn26483540']}"
      ]
     },
     "execution_count": 63,
     "metadata": {},
     "output_type": "execute_result"
    }
   ],
   "source": [
    "new_annos"
   ]
  },
  {
   "cell_type": "code",
   "execution_count": 1,
   "metadata": {},
   "outputs": [
    {
     "name": "stderr",
     "output_type": "stream",
     "text": [
      "\n",
      "UPGRADE AVAILABLE\n",
      "\n",
      "A more recent version of the Synapse Client (4.1.1) is available. Your version (3.1.1) can be upgraded by typing:\n",
      "    pip install --upgrade synapseclient\n",
      "\n",
      "Python Synapse Client version 4.1.1 release notes\n",
      "\n",
      "https://python-docs.synapse.org/news/\n",
      "\n"
     ]
    },
    {
     "name": "stdout",
     "output_type": "stream",
     "text": [
      "Welcome, Nicholas Lee!\n",
      "\n"
     ]
    }
   ],
   "source": [
    "import synapseclient\n",
    "\n",
    "syn = synapseclient.login()"
   ]
  },
  {
   "cell_type": "code",
   "execution_count": 7,
   "metadata": {},
   "outputs": [],
   "source": [
    "annotations = syn.tableQuery(\"SELECT * FROM syn51209885.2 WHERE studyKey = 'ELPSCRNA'\")"
   ]
  },
  {
   "cell_type": "code",
   "execution_count": 8,
   "metadata": {},
   "outputs": [],
   "source": [
    "annotations = annotations.asDataFrame()"
   ]
  },
  {
   "cell_type": "code",
   "execution_count": 11,
   "metadata": {},
   "outputs": [],
   "source": [
    "annotations = annotations.fillna('')"
   ]
  },
  {
   "cell_type": "code",
   "execution_count": 22,
   "metadata": {},
   "outputs": [],
   "source": [
    "new_annos = annotations.to_dict(\"records\")[0]"
   ]
  },
  {
   "cell_type": "code",
   "execution_count": 25,
   "metadata": {},
   "outputs": [],
   "source": [
    "new_annos['relatedStudies'] = [s.strip() for s in new_annos['relatedStudies']]"
   ]
  },
  {
   "cell_type": "code",
   "execution_count": 27,
   "metadata": {},
   "outputs": [],
   "source": [
    "new_annos[\"studyWiki\"] = \"syn53366748\""
   ]
  },
  {
   "cell_type": "code",
   "execution_count": 30,
   "metadata": {},
   "outputs": [
    {
     "data": {
      "text/plain": [
       "{'studyKey': 'ELPSCRNA',\n",
       " 'studyName': 'The Single cell transcriptomic analysis of PBMCs in Extreme Longevity',\n",
       " 'project': 'ILO',\n",
       " 'dataTypeAll': ['Gene Expression'],\n",
       " 'species': ['Human'],\n",
       " 'specimenType': ['Blood'],\n",
       " 'dataContributor': ['Tufts Medical Center'],\n",
       " 'studyAbstract': 'This study provides data from 7 centenarian samples (> 100 years) and 2 younger control samples (20-59 years) from New England Centenarian Study (NECS) at Boston University and the Integrative Longevity Omics (ILO). Peripheral Blood Mononuclear Cells (PBMCs) transcriptional and protein expression were profiled at a single cell resolution. Pluripotent stem cells were also generated. Droplet-based single cell CITE-seq data (16,082 cells).',\n",
       " 'studyDescription': 'syn26067509',\n",
       " 'studyFocus': ['Longevity'],\n",
       " 'program': ['ELITE'],\n",
       " 'grantNumber': ['UH2AG064704'],\n",
       " 'studyWiki': 'syn53366748',\n",
       " 'acknowledgement': 'syn27229419/wiki/621602',\n",
       " 'methods': ['syn26133757'],\n",
       " 'relatedStudies': ['syn26066886',\n",
       "  'syn26969078',\n",
       "  'syn26720399',\n",
       "  'syn26229161',\n",
       "  'syn26865580'],\n",
       " 'studyType': 'Individual',\n",
       " 'isModelSystem': False,\n",
       " 'isFeatured': False,\n",
       " 'ackContext': 'syn27229419/wiki/622005',\n",
       " 'studyMetadata': 'syn26067509',\n",
       " 'accessReqs': 'syn27229419/wiki/621276',\n",
       " 'isReleased': False,\n",
       " 'newsRelease': ''}"
      ]
     },
     "execution_count": 30,
     "metadata": {},
     "output_type": "execute_result"
    }
   ],
   "source": [
    "new_annos"
   ]
  },
  {
   "cell_type": "code",
   "execution_count": 29,
   "metadata": {},
   "outputs": [
    {
     "name": "stderr",
     "output_type": "stream",
     "text": [
      "[WARNING] /var/folders/p0/5m4pdsm55jn_d5nzbjv6bjf40000gq/T/ipykernel_5897/1454500765.py:1: DeprecationWarning: Call to deprecated method setAnnotations. (deprecated and replaced with `set_annotations` This method is UNSAFE and may overwrite existing annotations without confirming that you have retrieved and updated the latest annotations) -- Deprecated since version 2.1.0.\n",
      "  applied_annos = syn.setAnnotations(\"syn53366748\", new_annos)\n",
      "\n"
     ]
    }
   ],
   "source": [
    "applied_annos = syn.set_annotations(\"syn53366748\", new_annos)"
   ]
  },
  {
   "cell_type": "code",
   "execution_count": 34,
   "metadata": {},
   "outputs": [
    {
     "name": "stderr",
     "output_type": "stream",
     "text": [
      "[WARNING] /var/folders/p0/5m4pdsm55jn_d5nzbjv6bjf40000gq/T/ipykernel_5897/1168609817.py:19: DeprecationWarning: Call to deprecated method setAnnotations. (deprecated and replaced with `set_annotations` This method is UNSAFE and may overwrite existing annotations without confirming that you have retrieved and updated the latest annotations) -- Deprecated since version 2.1.0.\n",
      "  applied_annos = syn.setAnnotations(entity_id, annos)\n",
      "\n"
     ]
    }
   ],
   "source": [
    "# add annotations to elpscrna_metadata\n",
    "entity_id = \"syn53366749\"\n",
    "\n",
    "annos = {\n",
    "    \"studyKey\": \"ELPSCRNA\",\n",
    "    \"project\": \"ILO\",\n",
    "    \"dataTypeAll\": [\"metadata\"],\n",
    "    \"dataSubtype\": \"raw\",\n",
    "    \"fileFormat\": \"CSV\",\n",
    "    \"species\": [\"Human\"],\n",
    "    \"resourceType\": 'metadata',\n",
    "    \"metadataType\": 'folder',\n",
    "    \"program\": [\"ELITE\"],\n",
    "    \"grantNumber\": [\"UH2AG064704\"],\n",
    "    \"isModelSystem\": False,\n",
    "    \"isReleased\": False,\n",
    "}\n",
    "\n",
    "applied_annos = syn.setAnnotations(entity_id, annos)"
   ]
  },
  {
   "cell_type": "code",
   "execution_count": 35,
   "metadata": {},
   "outputs": [
    {
     "name": "stderr",
     "output_type": "stream",
     "text": [
      "[WARNING] /var/folders/p0/5m4pdsm55jn_d5nzbjv6bjf40000gq/T/ipykernel_5897/424773228.py:18: DeprecationWarning: Call to deprecated method setAnnotations. (deprecated and replaced with `set_annotations` This method is UNSAFE and may overwrite existing annotations without confirming that you have retrieved and updated the latest annotations) -- Deprecated since version 2.1.0.\n",
      "  applied_annos = syn.setAnnotations(entity_id, annos)\n",
      "\n"
     ]
    }
   ],
   "source": [
    "# add annotations to elpscrna_metadata\n",
    "entity_id = \"syn53366747\"\n",
    "\n",
    "annos = {\n",
    "    \"studyKey\": \"ELPSCRNA\",\n",
    "    \"project\": \"ILO\",\n",
    "    \"dataType\": [\"documentation\"],\n",
    "    \"dataSubtype\": \"raw\",\n",
    "    \"species\": [\"Human\"],\n",
    "    \"resourceType\": \"metadata\",\n",
    "    \"metadataType\": \"documentation\",\n",
    "    \"program\": [\"ELITE\"],\n",
    "    \"grantNumber\": [\"UH2AG064704\"],\n",
    "    \"isModelSystem\": False,\n",
    "    \"isReleased\": False,\n",
    "}\n",
    "\n",
    "applied_annos = syn.setAnnotations(entity_id, annos)"
   ]
  }
 ],
 "metadata": {
  "kernelspec": {
   "display_name": "cohort-builder-data-dictionary-fOfjgXmU-py3.10",
   "language": "python",
   "name": "python3"
  },
  "language_info": {
   "codemirror_mode": {
    "name": "ipython",
    "version": 3
   },
   "file_extension": ".py",
   "mimetype": "text/x-python",
   "name": "python",
   "nbconvert_exporter": "python",
   "pygments_lexer": "ipython3",
   "version": "3.10.13"
  }
 },
 "nbformat": 4,
 "nbformat_minor": 2
}
