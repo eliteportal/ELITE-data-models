{
 "cells": [
  {
   "cell_type": "code",
   "execution_count": 2,
   "metadata": {},
   "outputs": [],
   "source": [
    "import pandas as pd"
   ]
  },
  {
   "cell_type": "code",
   "execution_count": 8,
   "metadata": {},
   "outputs": [],
   "source": [
    "x = pd.read_excel(\n",
    "    io=\"http://wits.worldbank.org/data/public/WITSCountryProfile-Country_Indicator_ProductMetada-en.xlsx\",\n",
    "    sheet_name=\"Country-Metadata\",\n",
    ")\n",
    "\n",
    "x = x[[\"Country Code\", \"Country Name\", \"Country ISO3\", \"Long Name\", \"Region\"]].rename(\n",
    "    {\"Country Code\": \"Key\"}, axis=1\n",
    ")\n",
    "\n",
    "\n",
    "# dm_test.at[i, \"Valid Values\"] = sorted(storage +\n",
    "#                                         x['Country Code'].tolist())\n",
    "\n",
    "# dm_test.at[i, \"extraction_status\"] = 'done'"
   ]
  },
  {
   "cell_type": "code",
   "execution_count": null,
   "metadata": {},
   "outputs": [],
   "source": [
    "# # combine with old data model\n",
    "# dm_old = utils.load_and_backup_dm(\"../EL.data.model.csv\", \"../backups\")\n",
    "# dm2 = dm2.replace(r\"^\\s*$\", np.nan, regex=True)\n",
    "# new_dm = pd.concat([dm2, dm_old])\n",
    "\n",
    "# test_dm = (\n",
    "#     new_dm.fillna(\"\")\n",
    "#     .groupby(\"Attribute\")\n",
    "#     .agg(lambda x: \",\".join(set(x.astype(str))))\n",
    "#     .reset_index()\n",
    "# )\n",
    "\n",
    "# test_dm = test_dm.applymap(lambda x: x.strip(\",\"))\n",
    "# test_dm = test_dm.replace(r\"^\\s*$\", np.nan, regex=True)\n",
    "# test_dm[[\"Module\", \"Properties\", \"Parent\", \"Type\", \"Ontology\", \"Source\"]] = test_dm[\n",
    "#     [\"Module\", \"Properties\", \"Parent\", \"Type\", \"Ontology\", \"Source\"]\n",
    "# ].fillna(\"Unspecified\")\n",
    "\n",
    "# test_dm[\"Properties\"] = test_dm[\"Properties\"].apply(lambda x: x[0].upper() + x[1:])\n",
    "# test_dm[\"Type\"] = test_dm[\"Type\"].str.upper()\n",
    "# more_recoding = {\"ValidValue,MeasurementUnit\": \"MeasurementUnit\"}\n",
    "# test_dm[\"Parent\"] = test_dm[\"Parent\"].replace(more_recoding)\n",
    "# test_dm.loc[test_dm[\"Attribute\"] == \"visitCode\", \"Valid Values\"] = \"\"\n",
    "# test_dm[\"Validation Rules\"] = test_dm[\"Validation Rules\"].replace(\n",
    "#     \"regex search^\\d*?\\.?\\d$|Unknown|Not collected|Not applicable,regex search^\\d*?\\.?\\d$|Not applicable|Not collected|Unknown\",\n",
    "#     \"regex search^\\d*?\\.?\\d$|Unknown|Not collected|Not applicable\",\n",
    "# )\n",
    "# test_dm[\"Valid Values\"].fillna(\"\").apply(clean_list)\n",
    "# # write out data model into csv"
   ]
  }
 ],
 "metadata": {
  "kernelspec": {
   "display_name": "elite-data-models-LjmgyG4K-py3.10",
   "language": "python",
   "name": "python3"
  },
  "language_info": {
   "codemirror_mode": {
    "name": "ipython",
    "version": 3
   },
   "file_extension": ".py",
   "mimetype": "text/x-python",
   "name": "python",
   "nbconvert_exporter": "python",
   "pygments_lexer": "ipython3",
   "version": "3.10.13"
  },
  "orig_nbformat": 4
 },
 "nbformat": 4,
 "nbformat_minor": 2
}
