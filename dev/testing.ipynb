{
 "cells": [
  {
   "cell_type": "code",
   "execution_count": 2,
   "metadata": {},
   "outputs": [],
   "source": [
    "import pandas as pd"
   ]
  },
  {
   "cell_type": "code",
   "execution_count": 8,
   "metadata": {},
   "outputs": [],
   "source": [
    "x = pd.read_excel(\n",
    "        io=\"http://wits.worldbank.org/data/public/WITSCountryProfile-Country_Indicator_ProductMetada-en.xlsx\",\n",
    "        sheet_name=\"Country-Metadata\"\n",
    "    )\n",
    "\n",
    "x = x[['Country Code', 'Country Name', 'Country ISO3', 'Long Name', 'Region']].rename({'Country Code': 'Key'}, axis = 1)\n",
    "\n",
    "\n",
    "\n",
    "# dm_test.at[i, \"Valid Values\"] = sorted(storage +\n",
    "#                                         x['Country Code'].tolist())\n",
    "\n",
    "# dm_test.at[i, \"extraction_status\"] = 'done'"
   ]
  }
 ],
 "metadata": {
  "kernelspec": {
   "display_name": "elite-data-models-LjmgyG4K-py3.10",
   "language": "python",
   "name": "python3"
  },
  "language_info": {
   "codemirror_mode": {
    "name": "ipython",
    "version": 3
   },
   "file_extension": ".py",
   "mimetype": "text/x-python",
   "name": "python",
   "nbconvert_exporter": "python",
   "pygments_lexer": "ipython3",
   "version": "3.10.13"
  },
  "orig_nbformat": 4
 },
 "nbformat": 4,
 "nbformat_minor": 2
}
