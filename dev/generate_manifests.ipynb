{
 "cells": [
  {
   "cell_type": "code",
   "execution_count": 1,
   "metadata": {},
   "outputs": [
    {
     "name": "stdout",
     "output_type": "stream",
     "text": [
      "Schematic config:  ./config.yml \n",
      " CSV model:  EL.data.model.csv \n",
      " JSON LD Model:  EL.data.model.jsonld\n"
     ]
    }
   ],
   "source": [
    "import pandas as pd\n",
    "import yaml\n",
    "\n",
    "with open(\"./local_configs/notebook_config.yaml\", \"r\") as f:\n",
    "    config = yaml.safe_load(f)\n",
    "\n",
    "# paths to import files\n",
    "schematic_config = config[\"paths\"][\"schematic\"]\n",
    "csv_model = config[\"file_names\"][\"csv_model\"]\n",
    "json_model = config[\"file_names\"][\"json_model\"]\n",
    "\n",
    "print(\n",
    "    \"Schematic config: \",\n",
    "    schematic_config,\n",
    "    \"\\n\",\n",
    "    \"CSV model: \",\n",
    "    csv_model,\n",
    "    \"\\n\",\n",
    "    \"JSON LD Model: \",\n",
    "    json_model,\n",
    ")\n"
   ]
  },
  {
   "cell_type": "code",
   "execution_count": 8,
   "metadata": {},
   "outputs": [
    {
     "name": "stdout",
     "output_type": "stream",
     "text": [
      "schematic schema convert ../EL.data.model.csv --output_jsonld ../EL.data.model.jsonld\n",
      "Starting schematic...\n",
      "^C\n",
      "\n",
      "Aborted!\n"
     ]
    }
   ],
   "source": [
    "print(f'schematic schema convert ../{csv_model} --output_jsonld ../{json_model}')\n",
    "\n",
    "!schematic schema convert ../{csv_model} --output_jsonld ../{json_model}"
   ]
  },
  {
   "cell_type": "markdown",
   "metadata": {},
   "source": [
    "## Get manifest names to generate manifests\n"
   ]
  },
  {
   "cell_type": "code",
   "execution_count": null,
   "metadata": {},
   "outputs": [],
   "source": [
    "import json\n",
    "\n",
    "with open(json_model, \"r\") as jf:\n",
    "    jo = json.load(jf)"
   ]
  },
  {
   "cell_type": "code",
   "execution_count": null,
   "metadata": {},
   "outputs": [],
   "source": [
    "# Manifest names in data model\n",
    "manifest_names_extracted = []\n",
    "\n",
    "for i in jo[\"@graph\"]:\n",
    "    if i[\"@id\"] == \"bts:dataType\":\n",
    "        manifest_names_extracted.append(\n",
    "            i[\"schema:domainIncludes\"][\"@id\"].replace(\"bts:\", \"\")\n",
    "        )\n",
    "\n",
    "# display names extracted\n",
    "manifest_display_names_extracted = []\n",
    "\n",
    "for i in jo[\"@graph\"]:\n",
    "    if i[\"@id\"].replace(\"bts:\", \"\") in (manifest_names_extracted):\n",
    "        manifest_display_names_extracted.append(i[\"sms:displayName\"])\n",
    "manifest_display_names_extracted\n",
    "\n",
    "# Create dictionary for lookup later\n",
    "manifest_name_relationships = dict(\n",
    "    zip(manifest_names_extracted, manifest_display_names_extracted)\n",
    ")\n",
    "\n",
    "manifest_name_relationships"
   ]
  },
  {
   "cell_type": "code",
   "execution_count": null,
   "metadata": {},
   "outputs": [],
   "source": [
    "# Create the manifest templates based on the tables\n",
    "manifests = (\n",
    "    dm2.query('Properties == \"dataProperty\"')\n",
    "    .groupby(\"Parent\")\n",
    "    .agg({\"Attribute\": list})\n",
    "    .reset_index()\n",
    ")\n",
    "\n",
    "manifests[\"Attribute\"] = manifests[\"Attribute\"].apply(lambda x: x + [\"Component\"])\n",
    "\n",
    "manifests[\"Required\"] = \"True\"\n",
    "manifests[\"Properties\"] = \"dataType\"\n",
    "\n",
    "manifests = manifests.rename({\"Attribute\": \"DependsOn\", \"Parent\": \"Attribute\"}, axis=1)\n",
    "manifests[\"DependsOn\"] = manifests[\"DependsOn\"].apply(lambda x: \",\".join(x))\n",
    "\n",
    "\n",
    "# Store the data types in a list\n",
    "dataTypes = manifests[\"Attribute\"].tolist()"
   ]
  },
  {
   "cell_type": "code",
   "execution_count": null,
   "metadata": {},
   "outputs": [],
   "source": [
    "# Template configuration\n",
    "\n",
    "\n",
    "def manifest_template(k, v, t=\"file\"):\n",
    "    manifest_template = {\"display_name\": v, \"schema_name\": k, \"type\": t}\n",
    "    return manifest_template\n",
    "\n",
    "\n",
    "dca_template = {\n",
    "    \"manifest_schemas\": [],\n",
    "    \"service_version\": \"v23.1.1\",\n",
    "    \"schema_version\": \"v1.2\",\n",
    "}\n",
    "\n",
    "records = [\n",
    "    \"IndividualHuman\",\n",
    "    \"IndividualnonHuman\",\n",
    "    \"Biospecimenhuman\",\n",
    "    \"BiospecimennonHuman\",\n",
    "]\n",
    "\n",
    "\n",
    "for k, v in manifest_name_relationships.items():\n",
    "    if k in records:\n",
    "        t = \"records\"\n",
    "    else:\n",
    "        t = \"file\"\n",
    "    dca_template[\"manifest_schemas\"].append(manifest_template(k, v, t))\n",
    "\n",
    "json_formatted_str = json.dumps(dca_template, indent=2)\n",
    "print(json_formatted_str)\n",
    "\n",
    "with open(\n",
    "    \"../_data/dca_template.json\",\n",
    "    \"w\",\n",
    ") as f:\n",
    "    f.write(json_formatted_str)"
   ]
  },
  {
   "cell_type": "markdown",
   "metadata": {},
   "source": [
    "## Generate Manifests\n"
   ]
  },
  {
   "cell_type": "code",
   "execution_count": null,
   "metadata": {},
   "outputs": [],
   "source": [
    "manifest = 'IndividualHuman'\n",
    "\n",
    "print(f\"schematic manifest --config {schematic_config} get -dt {manifest} --output_csv {os.path.join(output_path, manifest + '.csv')} --title {'EL_Manifest_' + manifest} --sheet_url 2>&1 >> manifest_generation_results.txt\")\n",
    "\n",
    "!echo '{manifest}:' >> manifest_generation_results.txt\n",
    "!schematic manifest --config {schematic_config} get -dt {manifest} --output_csv {os.path.join(output_path, manifest + '.xlsx')} --title {'EL_Manifest_' + manifest} --sheet_url 2>&1 >> manifest_generation_results.txt"
   ]
  },
  {
   "cell_type": "code",
   "execution_count": null,
   "metadata": {},
   "outputs": [],
   "source": [
    "!echo ----- newly_generated_manifests ------- 2>&1 >> manifest_generation_links.txt\n",
    "for manifest in manifest_names_extracted:\n",
    "    print(manifest)\n",
    "    !echo {manifest}: >> manifest_generation_results.txt\n",
    "    !schematic manifest --config {schematic_config} get -dt {manifest} --output_xlsx {os.path.join(output_path, manifest + '.xlsx')} --title {'EL_Manifest_' + manifest} --sheet_url 2>&1 >> manifest_generation_results.txt\n",
    "    !echo ----------------------------------------------------------------"
   ]
  }
 ],
 "metadata": {
  "kernelspec": {
   "display_name": "elite-data-models-LjmgyG4K-py3.10",
   "language": "python",
   "name": "python3"
  },
  "language_info": {
   "codemirror_mode": {
    "name": "ipython",
    "version": 3
   },
   "file_extension": ".py",
   "mimetype": "text/x-python",
   "name": "python",
   "nbconvert_exporter": "python",
   "pygments_lexer": "ipython3",
   "version": "3.10.13"
  },
  "orig_nbformat": 4
 },
 "nbformat": 4,
 "nbformat_minor": 2
}
